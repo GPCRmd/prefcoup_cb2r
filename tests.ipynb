{
 "cells": [
  {
   "cell_type": "code",
   "execution_count": 8,
   "metadata": {},
   "outputs": [],
   "source": [
    "import pandas as pd\n",
    "import os\n",
    "import re\n",
    "\n",
    "os.chdir('/home/adri/Projects/phd/pipeline')"
   ]
  },
  {
   "cell_type": "code",
   "execution_count": 24,
   "metadata": {},
   "outputs": [],
   "source": [
    "# Read signling data\n",
    "path = 'data/raw/signaling_data.csv'\n",
    "signaling_df = pd.read_csv(path)\n",
    "\n",
    "# Remove mutations that are not alanin scan\n",
    "alanin_scan_mask = signaling_df.Mutant.apply(lambda x: bool(re.match('([A-Z])(\\d+)$', str(x))))\n",
    "signaling_df = signaling_df.loc[alanin_scan_mask]\n",
    "\n",
    "# Remove non usefull columns\n",
    "cols_of_interst = ['Position','Emax_avg_corr_Gi2_HU210', 'Emax_avg_corr_bArr1_HU210']\n",
    "signaling_df = signaling_df[cols_of_interst]\n",
    "\n",
    "# Change column names\n",
    "signaling_df.columns = ['position', 'gi_emax', 'barr_emax']\n",
    "\n",
    "# Set mutant number as index\n",
    "# signaling_df = signaling_df.set_index('position')\n",
    "\n",
    "# Set boolean masks for biased and wt\n",
    "biased_mask = (signaling_df.barr_emax == 0) & (signaling_df.gi_emax > 0)\n",
    "wt_mask = (signaling_df.barr_emax > 0) & (signaling_df.gi_emax > 0)\n",
    "    \n",
    "# Create a field wih categorical signal information\n",
    "signaling_df['profile'] = 2\n",
    "signaling_df.loc[wt_mask, 'profile'] = 0\n",
    "signaling_df.loc[biased_mask, 'profile'] = 1\n",
    "\n",
    "# Keep only the categorical labels\n",
    "signaling_df = signaling_df[['position', 'profile']]\n",
    "\n",
    "# Remove mutants with other signaling profiles\n",
    "signaling_df = signaling_df[signaling_df.profile != 2]\n",
    "\n",
    "# add the profile of the WT\n",
    "signaling_df = pd.concat([signaling_df, pd.DataFrame({'position': ['WT'], 'profile': [0]})])\n",
    "\n",
    "# save data without index\n",
    "signaling_df.to_csv('data/processed/signaling_data.csv', index=False)"
   ]
  },
  {
   "cell_type": "code",
   "execution_count": 25,
   "metadata": {},
   "outputs": [
    {
     "data": {
      "text/html": [
       "<div>\n",
       "<style scoped>\n",
       "    .dataframe tbody tr th:only-of-type {\n",
       "        vertical-align: middle;\n",
       "    }\n",
       "\n",
       "    .dataframe tbody tr th {\n",
       "        vertical-align: top;\n",
       "    }\n",
       "\n",
       "    .dataframe thead th {\n",
       "        text-align: right;\n",
       "    }\n",
       "</style>\n",
       "<table border=\"1\" class=\"dataframe\">\n",
       "  <thead>\n",
       "    <tr style=\"text-align: right;\">\n",
       "      <th></th>\n",
       "      <th>position</th>\n",
       "      <th>profile</th>\n",
       "    </tr>\n",
       "  </thead>\n",
       "  <tbody>\n",
       "    <tr>\n",
       "      <th>0</th>\n",
       "      <td>1</td>\n",
       "      <td>0</td>\n",
       "    </tr>\n",
       "    <tr>\n",
       "      <th>1</th>\n",
       "      <td>2</td>\n",
       "      <td>0</td>\n",
       "    </tr>\n",
       "    <tr>\n",
       "      <th>2</th>\n",
       "      <td>3</td>\n",
       "      <td>0</td>\n",
       "    </tr>\n",
       "    <tr>\n",
       "      <th>3</th>\n",
       "      <td>4</td>\n",
       "      <td>0</td>\n",
       "    </tr>\n",
       "    <tr>\n",
       "      <th>4</th>\n",
       "      <td>5</td>\n",
       "      <td>0</td>\n",
       "    </tr>\n",
       "    <tr>\n",
       "      <th>...</th>\n",
       "      <td>...</td>\n",
       "      <td>...</td>\n",
       "    </tr>\n",
       "    <tr>\n",
       "      <th>368</th>\n",
       "      <td>357</td>\n",
       "      <td>0</td>\n",
       "    </tr>\n",
       "    <tr>\n",
       "      <th>369</th>\n",
       "      <td>358</td>\n",
       "      <td>0</td>\n",
       "    </tr>\n",
       "    <tr>\n",
       "      <th>370</th>\n",
       "      <td>359</td>\n",
       "      <td>0</td>\n",
       "    </tr>\n",
       "    <tr>\n",
       "      <th>371</th>\n",
       "      <td>360</td>\n",
       "      <td>0</td>\n",
       "    </tr>\n",
       "    <tr>\n",
       "      <th>0</th>\n",
       "      <td>WT</td>\n",
       "      <td>0</td>\n",
       "    </tr>\n",
       "  </tbody>\n",
       "</table>\n",
       "<p>315 rows × 2 columns</p>\n",
       "</div>"
      ],
      "text/plain": [
       "    position  profile\n",
       "0          1        0\n",
       "1          2        0\n",
       "2          3        0\n",
       "3          4        0\n",
       "4          5        0\n",
       "..       ...      ...\n",
       "368      357        0\n",
       "369      358        0\n",
       "370      359        0\n",
       "371      360        0\n",
       "0         WT        0\n",
       "\n",
       "[315 rows x 2 columns]"
      ]
     },
     "execution_count": 25,
     "metadata": {},
     "output_type": "execute_result"
    }
   ],
   "source": [
    "signaling_df"
   ]
  },
  {
   "cell_type": "code",
   "execution_count": 29,
   "metadata": {},
   "outputs": [
    {
     "data": {
      "text/html": [
       "<div>\n",
       "<style scoped>\n",
       "    .dataframe tbody tr th:only-of-type {\n",
       "        vertical-align: middle;\n",
       "    }\n",
       "\n",
       "    .dataframe tbody tr th {\n",
       "        vertical-align: top;\n",
       "    }\n",
       "\n",
       "    .dataframe thead th {\n",
       "        text-align: right;\n",
       "    }\n",
       "</style>\n",
       "<table border=\"1\" class=\"dataframe\">\n",
       "  <thead>\n",
       "    <tr style=\"text-align: right;\">\n",
       "      <th></th>\n",
       "      <th>position</th>\n",
       "      <th>profile</th>\n",
       "    </tr>\n",
       "  </thead>\n",
       "  <tbody>\n",
       "    <tr>\n",
       "      <th>0</th>\n",
       "      <td>1</td>\n",
       "      <td>0</td>\n",
       "    </tr>\n",
       "    <tr>\n",
       "      <th>1</th>\n",
       "      <td>2</td>\n",
       "      <td>0</td>\n",
       "    </tr>\n",
       "    <tr>\n",
       "      <th>2</th>\n",
       "      <td>3</td>\n",
       "      <td>0</td>\n",
       "    </tr>\n",
       "    <tr>\n",
       "      <th>3</th>\n",
       "      <td>4</td>\n",
       "      <td>0</td>\n",
       "    </tr>\n",
       "    <tr>\n",
       "      <th>4</th>\n",
       "      <td>5</td>\n",
       "      <td>0</td>\n",
       "    </tr>\n",
       "    <tr>\n",
       "      <th>...</th>\n",
       "      <td>...</td>\n",
       "      <td>...</td>\n",
       "    </tr>\n",
       "    <tr>\n",
       "      <th>310</th>\n",
       "      <td>357</td>\n",
       "      <td>0</td>\n",
       "    </tr>\n",
       "    <tr>\n",
       "      <th>311</th>\n",
       "      <td>358</td>\n",
       "      <td>0</td>\n",
       "    </tr>\n",
       "    <tr>\n",
       "      <th>312</th>\n",
       "      <td>359</td>\n",
       "      <td>0</td>\n",
       "    </tr>\n",
       "    <tr>\n",
       "      <th>313</th>\n",
       "      <td>360</td>\n",
       "      <td>0</td>\n",
       "    </tr>\n",
       "    <tr>\n",
       "      <th>314</th>\n",
       "      <td>WT</td>\n",
       "      <td>0</td>\n",
       "    </tr>\n",
       "  </tbody>\n",
       "</table>\n",
       "<p>315 rows × 2 columns</p>\n",
       "</div>"
      ],
      "text/plain": [
       "    position  profile\n",
       "0          1        0\n",
       "1          2        0\n",
       "2          3        0\n",
       "3          4        0\n",
       "4          5        0\n",
       "..       ...      ...\n",
       "310      357        0\n",
       "311      358        0\n",
       "312      359        0\n",
       "313      360        0\n",
       "314       WT        0\n",
       "\n",
       "[315 rows x 2 columns]"
      ]
     },
     "execution_count": 29,
     "metadata": {},
     "output_type": "execute_result"
    }
   ],
   "source": [
    "signaling_df"
   ]
  },
  {
   "cell_type": "code",
   "execution_count": 30,
   "metadata": {},
   "outputs": [
    {
     "data": {
      "text/html": [
       "<div>\n",
       "<style scoped>\n",
       "    .dataframe tbody tr th:only-of-type {\n",
       "        vertical-align: middle;\n",
       "    }\n",
       "\n",
       "    .dataframe tbody tr th {\n",
       "        vertical-align: top;\n",
       "    }\n",
       "\n",
       "    .dataframe thead th {\n",
       "        text-align: right;\n",
       "    }\n",
       "</style>\n",
       "<table border=\"1\" class=\"dataframe\">\n",
       "  <thead>\n",
       "    <tr style=\"text-align: right;\">\n",
       "      <th></th>\n",
       "      <th>Unnamed: 0</th>\n",
       "      <th>305-307</th>\n",
       "      <th>131-70</th>\n",
       "      <th>203-206</th>\n",
       "      <th>120-124</th>\n",
       "      <th>110-112</th>\n",
       "      <th>299-76</th>\n",
       "      <th>262-264</th>\n",
       "      <th>297-300</th>\n",
       "      <th>173-185</th>\n",
       "      <th>...</th>\n",
       "      <th>257-295</th>\n",
       "      <th>101-33</th>\n",
       "      <th>109-26</th>\n",
       "      <th>35-98</th>\n",
       "      <th>24-281</th>\n",
       "      <th>184-272</th>\n",
       "      <th>183-272</th>\n",
       "      <th>222-307</th>\n",
       "      <th>222-301</th>\n",
       "      <th>222-304</th>\n",
       "    </tr>\n",
       "  </thead>\n",
       "  <tbody>\n",
       "    <tr>\n",
       "      <th>0</th>\n",
       "      <td>302</td>\n",
       "      <td>0.998</td>\n",
       "      <td>0.475</td>\n",
       "      <td>0.660</td>\n",
       "      <td>0.993</td>\n",
       "      <td>0.998</td>\n",
       "      <td>0.935</td>\n",
       "      <td>0.998</td>\n",
       "      <td>0.845</td>\n",
       "      <td>0.792</td>\n",
       "      <td>...</td>\n",
       "      <td>0.000</td>\n",
       "      <td>0.000</td>\n",
       "      <td>0.000</td>\n",
       "      <td>0.000</td>\n",
       "      <td>0.000</td>\n",
       "      <td>0.000</td>\n",
       "      <td>0.000</td>\n",
       "      <td>0.000</td>\n",
       "      <td>0.000</td>\n",
       "      <td>0.000</td>\n",
       "    </tr>\n",
       "    <tr>\n",
       "      <th>1</th>\n",
       "      <td>302</td>\n",
       "      <td>0.993</td>\n",
       "      <td>0.407</td>\n",
       "      <td>0.698</td>\n",
       "      <td>0.998</td>\n",
       "      <td>0.998</td>\n",
       "      <td>0.963</td>\n",
       "      <td>0.998</td>\n",
       "      <td>0.858</td>\n",
       "      <td>0.863</td>\n",
       "      <td>...</td>\n",
       "      <td>0.000</td>\n",
       "      <td>0.000</td>\n",
       "      <td>0.000</td>\n",
       "      <td>0.000</td>\n",
       "      <td>0.000</td>\n",
       "      <td>0.000</td>\n",
       "      <td>0.000</td>\n",
       "      <td>0.000</td>\n",
       "      <td>0.000</td>\n",
       "      <td>0.000</td>\n",
       "    </tr>\n",
       "    <tr>\n",
       "      <th>2</th>\n",
       "      <td>302</td>\n",
       "      <td>0.995</td>\n",
       "      <td>0.395</td>\n",
       "      <td>0.675</td>\n",
       "      <td>0.995</td>\n",
       "      <td>0.998</td>\n",
       "      <td>0.968</td>\n",
       "      <td>0.998</td>\n",
       "      <td>0.905</td>\n",
       "      <td>0.940</td>\n",
       "      <td>...</td>\n",
       "      <td>0.000</td>\n",
       "      <td>0.000</td>\n",
       "      <td>0.000</td>\n",
       "      <td>0.000</td>\n",
       "      <td>0.000</td>\n",
       "      <td>0.000</td>\n",
       "      <td>0.000</td>\n",
       "      <td>0.000</td>\n",
       "      <td>0.000</td>\n",
       "      <td>0.000</td>\n",
       "    </tr>\n",
       "    <tr>\n",
       "      <th>3</th>\n",
       "      <td>302</td>\n",
       "      <td>0.993</td>\n",
       "      <td>0.512</td>\n",
       "      <td>0.662</td>\n",
       "      <td>0.990</td>\n",
       "      <td>0.998</td>\n",
       "      <td>0.880</td>\n",
       "      <td>0.998</td>\n",
       "      <td>0.860</td>\n",
       "      <td>0.537</td>\n",
       "      <td>...</td>\n",
       "      <td>0.000</td>\n",
       "      <td>0.000</td>\n",
       "      <td>0.000</td>\n",
       "      <td>0.000</td>\n",
       "      <td>0.000</td>\n",
       "      <td>0.000</td>\n",
       "      <td>0.000</td>\n",
       "      <td>0.000</td>\n",
       "      <td>0.000</td>\n",
       "      <td>0.000</td>\n",
       "    </tr>\n",
       "    <tr>\n",
       "      <th>4</th>\n",
       "      <td>302</td>\n",
       "      <td>0.995</td>\n",
       "      <td>0.507</td>\n",
       "      <td>0.662</td>\n",
       "      <td>0.995</td>\n",
       "      <td>0.998</td>\n",
       "      <td>0.945</td>\n",
       "      <td>0.998</td>\n",
       "      <td>0.865</td>\n",
       "      <td>0.907</td>\n",
       "      <td>...</td>\n",
       "      <td>0.000</td>\n",
       "      <td>0.000</td>\n",
       "      <td>0.000</td>\n",
       "      <td>0.000</td>\n",
       "      <td>0.000</td>\n",
       "      <td>0.000</td>\n",
       "      <td>0.000</td>\n",
       "      <td>0.000</td>\n",
       "      <td>0.000</td>\n",
       "      <td>0.000</td>\n",
       "    </tr>\n",
       "    <tr>\n",
       "      <th>...</th>\n",
       "      <td>...</td>\n",
       "      <td>...</td>\n",
       "      <td>...</td>\n",
       "      <td>...</td>\n",
       "      <td>...</td>\n",
       "      <td>...</td>\n",
       "      <td>...</td>\n",
       "      <td>...</td>\n",
       "      <td>...</td>\n",
       "      <td>...</td>\n",
       "      <td>...</td>\n",
       "      <td>...</td>\n",
       "      <td>...</td>\n",
       "      <td>...</td>\n",
       "      <td>...</td>\n",
       "      <td>...</td>\n",
       "      <td>...</td>\n",
       "      <td>...</td>\n",
       "      <td>...</td>\n",
       "      <td>...</td>\n",
       "      <td>...</td>\n",
       "    </tr>\n",
       "    <tr>\n",
       "      <th>175</th>\n",
       "      <td>159</td>\n",
       "      <td>0.995</td>\n",
       "      <td>0.018</td>\n",
       "      <td>0.647</td>\n",
       "      <td>0.993</td>\n",
       "      <td>0.998</td>\n",
       "      <td>0.907</td>\n",
       "      <td>0.998</td>\n",
       "      <td>0.735</td>\n",
       "      <td>0.950</td>\n",
       "      <td>...</td>\n",
       "      <td>0.000</td>\n",
       "      <td>0.000</td>\n",
       "      <td>0.000</td>\n",
       "      <td>0.000</td>\n",
       "      <td>0.000</td>\n",
       "      <td>0.000</td>\n",
       "      <td>0.000</td>\n",
       "      <td>0.000</td>\n",
       "      <td>0.000</td>\n",
       "      <td>0.000</td>\n",
       "    </tr>\n",
       "    <tr>\n",
       "      <th>176</th>\n",
       "      <td>159</td>\n",
       "      <td>0.998</td>\n",
       "      <td>0.037</td>\n",
       "      <td>0.640</td>\n",
       "      <td>0.998</td>\n",
       "      <td>0.998</td>\n",
       "      <td>0.790</td>\n",
       "      <td>0.998</td>\n",
       "      <td>0.865</td>\n",
       "      <td>0.935</td>\n",
       "      <td>...</td>\n",
       "      <td>0.003</td>\n",
       "      <td>0.000</td>\n",
       "      <td>0.000</td>\n",
       "      <td>0.000</td>\n",
       "      <td>0.000</td>\n",
       "      <td>0.000</td>\n",
       "      <td>0.000</td>\n",
       "      <td>0.000</td>\n",
       "      <td>0.000</td>\n",
       "      <td>0.000</td>\n",
       "    </tr>\n",
       "    <tr>\n",
       "      <th>177</th>\n",
       "      <td>159</td>\n",
       "      <td>0.998</td>\n",
       "      <td>0.007</td>\n",
       "      <td>0.720</td>\n",
       "      <td>0.993</td>\n",
       "      <td>0.998</td>\n",
       "      <td>0.810</td>\n",
       "      <td>0.998</td>\n",
       "      <td>0.765</td>\n",
       "      <td>0.915</td>\n",
       "      <td>...</td>\n",
       "      <td>0.000</td>\n",
       "      <td>0.003</td>\n",
       "      <td>0.003</td>\n",
       "      <td>0.000</td>\n",
       "      <td>0.000</td>\n",
       "      <td>0.000</td>\n",
       "      <td>0.000</td>\n",
       "      <td>0.000</td>\n",
       "      <td>0.000</td>\n",
       "      <td>0.000</td>\n",
       "    </tr>\n",
       "    <tr>\n",
       "      <th>178</th>\n",
       "      <td>159</td>\n",
       "      <td>0.998</td>\n",
       "      <td>0.050</td>\n",
       "      <td>0.642</td>\n",
       "      <td>0.988</td>\n",
       "      <td>0.998</td>\n",
       "      <td>0.863</td>\n",
       "      <td>0.995</td>\n",
       "      <td>0.713</td>\n",
       "      <td>0.935</td>\n",
       "      <td>...</td>\n",
       "      <td>0.000</td>\n",
       "      <td>0.000</td>\n",
       "      <td>0.000</td>\n",
       "      <td>0.003</td>\n",
       "      <td>0.003</td>\n",
       "      <td>0.000</td>\n",
       "      <td>0.000</td>\n",
       "      <td>0.000</td>\n",
       "      <td>0.000</td>\n",
       "      <td>0.000</td>\n",
       "    </tr>\n",
       "    <tr>\n",
       "      <th>179</th>\n",
       "      <td>159</td>\n",
       "      <td>0.998</td>\n",
       "      <td>0.015</td>\n",
       "      <td>0.665</td>\n",
       "      <td>0.998</td>\n",
       "      <td>0.998</td>\n",
       "      <td>0.805</td>\n",
       "      <td>0.998</td>\n",
       "      <td>0.713</td>\n",
       "      <td>0.945</td>\n",
       "      <td>...</td>\n",
       "      <td>0.000</td>\n",
       "      <td>0.000</td>\n",
       "      <td>0.000</td>\n",
       "      <td>0.000</td>\n",
       "      <td>0.000</td>\n",
       "      <td>0.003</td>\n",
       "      <td>0.003</td>\n",
       "      <td>0.005</td>\n",
       "      <td>0.003</td>\n",
       "      <td>0.003</td>\n",
       "    </tr>\n",
       "  </tbody>\n",
       "</table>\n",
       "<p>180 rows × 3837 columns</p>\n",
       "</div>"
      ],
      "text/plain": [
       "    Unnamed: 0  305-307  131-70  203-206  120-124  110-112  299-76  262-264  \\\n",
       "0          302    0.998   0.475    0.660    0.993    0.998   0.935    0.998   \n",
       "1          302    0.993   0.407    0.698    0.998    0.998   0.963    0.998   \n",
       "2          302    0.995   0.395    0.675    0.995    0.998   0.968    0.998   \n",
       "3          302    0.993   0.512    0.662    0.990    0.998   0.880    0.998   \n",
       "4          302    0.995   0.507    0.662    0.995    0.998   0.945    0.998   \n",
       "..         ...      ...     ...      ...      ...      ...     ...      ...   \n",
       "175        159    0.995   0.018    0.647    0.993    0.998   0.907    0.998   \n",
       "176        159    0.998   0.037    0.640    0.998    0.998   0.790    0.998   \n",
       "177        159    0.998   0.007    0.720    0.993    0.998   0.810    0.998   \n",
       "178        159    0.998   0.050    0.642    0.988    0.998   0.863    0.995   \n",
       "179        159    0.998   0.015    0.665    0.998    0.998   0.805    0.998   \n",
       "\n",
       "     297-300  173-185  ...  257-295  101-33  109-26  35-98  24-281  184-272  \\\n",
       "0      0.845    0.792  ...    0.000   0.000   0.000  0.000   0.000    0.000   \n",
       "1      0.858    0.863  ...    0.000   0.000   0.000  0.000   0.000    0.000   \n",
       "2      0.905    0.940  ...    0.000   0.000   0.000  0.000   0.000    0.000   \n",
       "3      0.860    0.537  ...    0.000   0.000   0.000  0.000   0.000    0.000   \n",
       "4      0.865    0.907  ...    0.000   0.000   0.000  0.000   0.000    0.000   \n",
       "..       ...      ...  ...      ...     ...     ...    ...     ...      ...   \n",
       "175    0.735    0.950  ...    0.000   0.000   0.000  0.000   0.000    0.000   \n",
       "176    0.865    0.935  ...    0.003   0.000   0.000  0.000   0.000    0.000   \n",
       "177    0.765    0.915  ...    0.000   0.003   0.003  0.000   0.000    0.000   \n",
       "178    0.713    0.935  ...    0.000   0.000   0.000  0.003   0.003    0.000   \n",
       "179    0.713    0.945  ...    0.000   0.000   0.000  0.000   0.000    0.003   \n",
       "\n",
       "     183-272  222-307  222-301  222-304  \n",
       "0      0.000    0.000    0.000    0.000  \n",
       "1      0.000    0.000    0.000    0.000  \n",
       "2      0.000    0.000    0.000    0.000  \n",
       "3      0.000    0.000    0.000    0.000  \n",
       "4      0.000    0.000    0.000    0.000  \n",
       "..       ...      ...      ...      ...  \n",
       "175    0.000    0.000    0.000    0.000  \n",
       "176    0.000    0.000    0.000    0.000  \n",
       "177    0.000    0.000    0.000    0.000  \n",
       "178    0.000    0.000    0.000    0.000  \n",
       "179    0.003    0.005    0.003    0.003  \n",
       "\n",
       "[180 rows x 3837 columns]"
      ]
     },
     "execution_count": 30,
     "metadata": {},
     "output_type": "execute_result"
    }
   ],
   "source": [
    "contact_df"
   ]
  },
  {
   "cell_type": "code",
   "execution_count": 35,
   "metadata": {},
   "outputs": [],
   "source": [
    "# load singaling data\n",
    "signaling_df = pd.read_csv('data/interim/processed_signaling_data.csv')\n",
    "# load contact data\n",
    "contacts_df = pd.read_csv('data/interim/frequencies/frequencies.tsv')\n",
    "# set name of the first column to position\n",
    "contacts_df.columns = ['position'] + list(contacts_df.columns[1:])\n",
    "# merge both dataframes\n",
    "merged_df = pd.merge(signaling_df, contacts_df, on='position', how='inner')\n",
    "# save merged dataframe\n",
    "merged_df.to_csv('data/processed/features.csv', index=False)"
   ]
  },
  {
   "cell_type": "code",
   "execution_count": 40,
   "metadata": {},
   "outputs": [],
   "source": [
    "import yaml\n",
    "import itertools\n",
    "import hashlib\n",
    "from glob import glob\n",
    "import os\n",
    "\n",
    "os.chdir('/home/adri/Projects/phd/pipeline')"
   ]
  },
  {
   "cell_type": "code",
   "execution_count": 64,
   "metadata": {},
   "outputs": [],
   "source": [
    "models = [path.split('/')[-1] for path in  glob('models/*')]\n",
    "\n",
    "for model in models:\n",
    "\n",
    "    # Get available parameters for this model on modles/<model>/params.yaml\n",
    "    with open(f'models/{model}/params.yaml') as f:\n",
    "        params_list = yaml.load(f, Loader=yaml.FullLoader)\n",
    "\n",
    "    # get all possible combinations of parameters\n",
    "    param_combinations = []\n",
    "    for params in params_list:\n",
    "        combs = itertools.product(*params.values())\n",
    "        for comb in combs:\n",
    "            comb_list = []\n",
    "            for param_name, val in zip(params.keys(), comb):\n",
    "                comb_list.append((param_name, val))\n",
    "\n",
    "            param_combinations.append(comb_list)\n",
    "\n",
    "    # get a list all datasets in data/processed\n",
    "    for dataset in glob('data/processed/*'):\n",
    "        \n",
    "        for param_value_comb in param_combinations:\n",
    "            param_dict = {}\n",
    "            for param_name, param_val in zip(params_names, param_value_comb):\n",
    "                param_dict[param_name] = param_val\n",
    "\n",
    "            # make a yaml file for the configuration\n",
    "            # build a dictionary with the configuration\n",
    "            config_dict = {'model': {'name': model,\n",
    "                                    'params': param_dict},\n",
    "                        'data': {'path': dataset},\n",
    "                        }\n",
    "\n",
    "            # generate a hash sha256 for the configuration\n",
    "            config_hash = hashlib.sha256(str(config_dict).encode()).hexdigest()[:15]\n",
    "            # write the dictionary to a yaml file\n",
    "            with open(f'models/{model}/configs/{config_hash}.yaml', 'w') as f:\n",
    "                yaml.dump(config_dict, f, default_flow_style=False)"
   ]
  },
  {
   "cell_type": "code",
   "execution_count": 65,
   "metadata": {},
   "outputs": [
    {
     "data": {
      "text/plain": [
       "('l2', 10.0, 'liblinear', 200)"
      ]
     },
     "execution_count": 65,
     "metadata": {},
     "output_type": "execute_result"
    }
   ],
   "source": [
    "comb"
   ]
  },
  {
   "cell_type": "code",
   "execution_count": 66,
   "metadata": {},
   "outputs": [
    {
     "data": {
      "text/plain": [
       "[[('penalty', 'l1'), ('C', 0.1), ('solver', 'liblinear'), ('max_iter', 50)],\n",
       " [('penalty', 'l1'), ('C', 0.1), ('solver', 'liblinear'), ('max_iter', 100)],\n",
       " [('penalty', 'l1'), ('C', 0.1), ('solver', 'liblinear'), ('max_iter', 200)],\n",
       " [('penalty', 'l1'), ('C', 1.0), ('solver', 'liblinear'), ('max_iter', 50)],\n",
       " [('penalty', 'l1'), ('C', 1.0), ('solver', 'liblinear'), ('max_iter', 100)],\n",
       " [('penalty', 'l1'), ('C', 1.0), ('solver', 'liblinear'), ('max_iter', 200)],\n",
       " [('penalty', 'l1'), ('C', 10.0), ('solver', 'liblinear'), ('max_iter', 50)],\n",
       " [('penalty', 'l1'), ('C', 10.0), ('solver', 'liblinear'), ('max_iter', 100)],\n",
       " [('penalty', 'l1'), ('C', 10.0), ('solver', 'liblinear'), ('max_iter', 200)],\n",
       " [('penalty', 'l2'), ('C', 0.1), ('solver', 'lbfgs'), ('max_iter', 50)],\n",
       " [('penalty', 'l2'), ('C', 0.1), ('solver', 'lbfgs'), ('max_iter', 100)],\n",
       " [('penalty', 'l2'), ('C', 0.1), ('solver', 'lbfgs'), ('max_iter', 200)],\n",
       " [('penalty', 'l2'), ('C', 0.1), ('solver', 'liblinear'), ('max_iter', 50)],\n",
       " [('penalty', 'l2'), ('C', 0.1), ('solver', 'liblinear'), ('max_iter', 100)],\n",
       " [('penalty', 'l2'), ('C', 0.1), ('solver', 'liblinear'), ('max_iter', 200)],\n",
       " [('penalty', 'l2'), ('C', 1.0), ('solver', 'lbfgs'), ('max_iter', 50)],\n",
       " [('penalty', 'l2'), ('C', 1.0), ('solver', 'lbfgs'), ('max_iter', 100)],\n",
       " [('penalty', 'l2'), ('C', 1.0), ('solver', 'lbfgs'), ('max_iter', 200)],\n",
       " [('penalty', 'l2'), ('C', 1.0), ('solver', 'liblinear'), ('max_iter', 50)],\n",
       " [('penalty', 'l2'), ('C', 1.0), ('solver', 'liblinear'), ('max_iter', 100)],\n",
       " [('penalty', 'l2'), ('C', 1.0), ('solver', 'liblinear'), ('max_iter', 200)],\n",
       " [('penalty', 'l2'), ('C', 10.0), ('solver', 'lbfgs'), ('max_iter', 50)],\n",
       " [('penalty', 'l2'), ('C', 10.0), ('solver', 'lbfgs'), ('max_iter', 100)],\n",
       " [('penalty', 'l2'), ('C', 10.0), ('solver', 'lbfgs'), ('max_iter', 200)],\n",
       " [('penalty', 'l2'), ('C', 10.0), ('solver', 'liblinear'), ('max_iter', 50)],\n",
       " [('penalty', 'l2'), ('C', 10.0), ('solver', 'liblinear'), ('max_iter', 100)],\n",
       " [('penalty', 'l2'), ('C', 10.0), ('solver', 'liblinear'), ('max_iter', 200)]]"
      ]
     },
     "execution_count": 66,
     "metadata": {},
     "output_type": "execute_result"
    }
   ],
   "source": [
    "param_combinations"
   ]
  },
  {
   "cell_type": "code",
   "execution_count": 42,
   "metadata": {},
   "outputs": [
    {
     "data": {
      "text/plain": [
       "[{'penalty': ['l1'],\n",
       "  'C': [0.1, 1.0, 10.0],\n",
       "  'solver': ['liblinear'],\n",
       "  'max_iter': [50, 100, 200]},\n",
       " {'penalty': ['l2'],\n",
       "  'C': [0.1, 1.0, 10.0],\n",
       "  'solver': ['lbfgs', 'liblinear'],\n",
       "  'max_iter': [50, 100, 200]}]"
      ]
     },
     "execution_count": 42,
     "metadata": {},
     "output_type": "execute_result"
    }
   ],
   "source": [
    "params"
   ]
  },
  {
   "cell_type": "markdown",
   "metadata": {},
   "source": [
    "# Remove highly correlated features"
   ]
  },
  {
   "cell_type": "code",
   "execution_count": 10,
   "metadata": {},
   "outputs": [],
   "source": [
    "import pandas as pd\n",
    "import numpy as np\n",
    "import os\n",
    "os.chdir(\"/home/adri/Projects/phd/pipeline\")"
   ]
  },
  {
   "cell_type": "code",
   "execution_count": 27,
   "metadata": {},
   "outputs": [],
   "source": [
    "def drop_highly_correlated_features(X_train, X_test, max_corr=None):\n",
    "    if max_corr is None:\n",
    "        return X_train, X_test\n",
    "\n",
    "    # Compute correlation matrix for the training set\n",
    "    corr_matrix = np.corrcoef(X_train, rowvar=False)\n",
    "\n",
    "    # Extract the upper triangular of the correlation matrix\n",
    "    upper_tri = np.triu(corr_matrix, k=1)\n",
    "    \n",
    "    # Get indices of features to drop\n",
    "    to_drop = [index for index, row in enumerate(upper_tri) if any(np.abs(row) > max_corr)]\n",
    "    \n",
    "    # Drop features from training and test set\n",
    "    X_train = np.delete(X_train, to_drop, axis=1)\n",
    "    X_test = np.delete(X_test, to_drop, axis=1)\n",
    "    \n",
    "    return X_train, X_test"
   ]
  },
  {
   "cell_type": "code",
   "execution_count": 5,
   "metadata": {},
   "outputs": [],
   "source": [
    "# load features\n",
    "features_df = pd.read_csv(\"data/processed/no_sod_frequencies.csv\")"
   ]
  },
  {
   "cell_type": "code",
   "execution_count": 7,
   "metadata": {},
   "outputs": [],
   "source": [
    "X = features_df.drop(columns=['position', 'profile'])"
   ]
  },
  {
   "cell_type": "code",
   "execution_count": 12,
   "metadata": {},
   "outputs": [],
   "source": [
    "# search for groups of highly correlated features and keep only one of them\n",
    "corr_matrix = X.corr().abs()"
   ]
  },
  {
   "cell_type": "code",
   "execution_count": 18,
   "metadata": {},
   "outputs": [],
   "source": [
    "max_corr = 0.80\n",
    "upper = corr_matrix.where(np.triu(np.ones(corr_matrix.shape), k=1).astype(bool))\n",
    "to_drop = [column for column in upper.columns if any(upper[column] > max_corr)]"
   ]
  },
  {
   "cell_type": "code",
   "execution_count": 19,
   "metadata": {},
   "outputs": [
    {
     "data": {
      "text/plain": [
       "0.3772158498435871"
      ]
     },
     "execution_count": 19,
     "metadata": {},
     "output_type": "execute_result"
    }
   ],
   "source": [
    "len(to_drop)/X.shape[1]"
   ]
  },
  {
   "cell_type": "code",
   "execution_count": 20,
   "metadata": {},
   "outputs": [
    {
     "name": "stderr",
     "output_type": "stream",
     "text": [
      "/home/adri/.virtualenvs/bias/lib/python3.10/site-packages/numpy/lib/function_base.py:2897: RuntimeWarning: invalid value encountered in divide\n",
      "  c /= stddev[:, None]\n",
      "/home/adri/.virtualenvs/bias/lib/python3.10/site-packages/numpy/lib/function_base.py:2898: RuntimeWarning: invalid value encountered in divide\n",
      "  c /= stddev[None, :]\n"
     ]
    }
   ],
   "source": [
    "corr_matrix = np.corrcoef(X.T)"
   ]
  },
  {
   "cell_type": "code",
   "execution_count": 29,
   "metadata": {},
   "outputs": [
    {
     "name": "stderr",
     "output_type": "stream",
     "text": [
      "/home/adri/.virtualenvs/bias/lib/python3.10/site-packages/numpy/lib/function_base.py:2897: RuntimeWarning: invalid value encountered in divide\n",
      "  c /= stddev[:, None]\n",
      "/home/adri/.virtualenvs/bias/lib/python3.10/site-packages/numpy/lib/function_base.py:2898: RuntimeWarning: invalid value encountered in divide\n",
      "  c /= stddev[None, :]\n"
     ]
    }
   ],
   "source": [
    "x, _= drop_highly_correlated_features(X, X, max_corr=0.8)"
   ]
  },
  {
   "cell_type": "code",
   "execution_count": 34,
   "metadata": {},
   "outputs": [
    {
     "data": {
      "text/plain": [
       "0.3858185610010427"
      ]
     },
     "execution_count": 34,
     "metadata": {},
     "output_type": "execute_result"
    }
   ],
   "source": [
    "1 - (x.shape[1] / X.shape[1])"
   ]
  },
  {
   "cell_type": "code",
   "execution_count": 25,
   "metadata": {},
   "outputs": [
    {
     "name": "stderr",
     "output_type": "stream",
     "text": [
      "/home/adri/.virtualenvs/bias/lib/python3.10/site-packages/numpy/lib/function_base.py:2897: RuntimeWarning: invalid value encountered in divide\n",
      "  c /= stddev[:, None]\n",
      "/home/adri/.virtualenvs/bias/lib/python3.10/site-packages/numpy/lib/function_base.py:2898: RuntimeWarning: invalid value encountered in divide\n",
      "  c /= stddev[None, :]\n"
     ]
    }
   ],
   "source": [
    "# Calculate the correlation matrix for X_train\n",
    "corr_matrix = np.corrcoef(X.T)\n",
    "\n",
    "# Get the upper triangle of the correlation matrix\n",
    "upper = corr_matrix[np.triu_indices_from(corr_matrix, k=1)]\n",
    "\n",
    "# Identify columns to drop based on the correlation threshold\n",
    "to_drop = [column for column in range(corr_matrix.shape[1]) if any(np.abs(upper[column::corr_matrix.shape[1]-1]) > max_corr)]\n",
    "\n",
    "# Drop correlated columns from X_train and X_test\n",
    "X_train = np.delete(X, to_drop, axis=1)\n",
    "X_test = np.delete(X, to_drop, axis=1)"
   ]
  },
  {
   "cell_type": "code",
   "execution_count": 26,
   "metadata": {},
   "outputs": [
    {
     "data": {
      "text/plain": [
       "array([-0.0756411 ,  0.09783157, -0.16616552, ...,  1.        ,\n",
       "        1.        ,  1.        ])"
      ]
     },
     "execution_count": 26,
     "metadata": {},
     "output_type": "execute_result"
    }
   ],
   "source": [
    "upper"
   ]
  },
  {
   "cell_type": "markdown",
   "metadata": {},
   "source": [
    "# Get list of dynids from API jsons"
   ]
  },
  {
   "cell_type": "code",
   "execution_count": 48,
   "metadata": {},
   "outputs": [],
   "source": [
    "import json\n",
    "import os\n",
    "\n",
    "# import modules for geting jsons from url\n",
    "import requests\n",
    "import time\n",
    "import concurrent\n",
    "from concurrent.futures import ThreadPoolExecutor\n",
    "from glob import glob"
   ]
  },
  {
   "cell_type": "code",
   "execution_count": 3,
   "metadata": {},
   "outputs": [],
   "source": [
    "os.chdir(\"/home/adri/Projects/phd/pipeline\")"
   ]
  },
  {
   "cell_type": "code",
   "execution_count": 4,
   "metadata": {},
   "outputs": [],
   "source": [
    "class_a_path = \"data/raw/class_a.json\"\n",
    "ligand_type_path = \"data/raw/ligand_type.json\""
   ]
  },
  {
   "cell_type": "code",
   "execution_count": 5,
   "metadata": {},
   "outputs": [],
   "source": [
    "# load jsons\n",
    "with open(class_a_path) as f:\n",
    "    class_a = json.load(f)\n",
    "\n",
    "with open(ligand_type_path) as f:\n",
    "    ligand_type = json.load(f)\n"
   ]
  },
  {
   "cell_type": "code",
   "execution_count": 6,
   "metadata": {},
   "outputs": [],
   "source": [
    "complex_dynids = ligand_type[1]['dyn_id']"
   ]
  },
  {
   "cell_type": "code",
   "execution_count": 7,
   "metadata": {},
   "outputs": [],
   "source": [
    "class_a_dyn_ids = class_a[0][\"dyn_id\"]"
   ]
  },
  {
   "cell_type": "code",
   "execution_count": 8,
   "metadata": {},
   "outputs": [],
   "source": [
    "# Check overlapping between the two lists\n",
    "overlapping = [dyn_id for dyn_id in complex_dynids if dyn_id in class_a_dyn_ids]"
   ]
  },
  {
   "cell_type": "code",
   "execution_count": 9,
   "metadata": {},
   "outputs": [
    {
     "data": {
      "text/plain": [
       "305"
      ]
     },
     "execution_count": 9,
     "metadata": {},
     "output_type": "execute_result"
    }
   ],
   "source": [
    "len(overlapping)"
   ]
  },
  {
   "cell_type": "code",
   "execution_count": 22,
   "metadata": {},
   "outputs": [
    {
     "name": "stdout",
     "output_type": "stream",
     "text": [
      "{19: ('Beta-1 adrenergic receptor in complex with carmoterol', '2Y02.B'), 15: ('Beta-1 adrenergic receptor in complex with R-dobutamine', '2Y00.B'), 10: ('Beta 2 adrenergic receptor and carazolol', '2R4R'), 20: ('Partially thermostabilized Beta-1 adrenergic receptor in complex with carmoterol', '2Y02.B'), 9: ('Beta 2 adrenergic receptor and isoproterenol', '2R4R'), 16: ('Partially thermostabilized Beta-1 adrenergic receptor in complex with (R)-dobutamine', '2Y00.B'), 7: ('A2a Adenosine receptor & Cholesterol', '3EML'), 6: ('Beta 2 Adrenergic Receptor & Carazolol', '2R4R'), 4: ('Delta Opioid with Naltrindole', '4N6H'), 8: ('delta opioid receptor (human)', '4N6H'), 22: ('Cannabinoid receptor 1 in complex with taranabant', '5U09.A'), 25: ('Beta-1 adrenergic receptor in complex with levisoprenaline', '2Y03.B'), 26: ('Partially thermostabilized Beta-1 adrenergic receptor in complex with levisoprenaline', '2Y03.B'), 33: ('Adenosine receptor A2a in complex with NECA', '2YDV.A'), 29: ('Beta-1 adrenergic receptor in complex with levalbuterol', '2Y04.B'), 40: ('Adenosine receptor A2a in complex with 6-(2,6-dimethylpyridin-4-yl)-5-phenyl-1,2,4-triazin-3-amine', '3UZA.A'), 36: ('Adenosine receptor A2a in complex with xanthine amine congener', '3REY.A'), 38: ('Adenosine receptor A2a in complex with caffeine', '3RFM.A'), 31: ('Adenosine receptor A2a in complex with adenosine', '2YDO.A'), 42: ('Adenosine receptor A2a in complex with 4-(3-Amino-5-phenyl-1,2,4-triazine-6-yl)-2-chlorophenol', '3UZC.A'), 44: ('Adenosine receptor A2a in complex with ZM241385', '4EIY.A'), 48: (\"Adenosine receptor A2a in complex with N-ethyl-5'-carboxamido adenosine\", '5G53.A'), 55: ('Beta-1 adrenergic receptor in complex with levalbuterol', '2Y04.B'), 50: ('Adenosine receptor A2a in complex with ZM241385', '5IU4.A'), 46: ('Adenosine receptor A2a in complex CGS-21680', '4UHR.A'), 60: ('Kappa-type opioid receptor in complex with JDTic', '4DJH.A'), 57: ('Beta-1 adrenergic receptor complex with carazolol', '2YCW.A'), 58: ('Partially thermostabilized Beta-1 adrenergic receptor', '4BVN.A'), 67: ('C-C chemokine receptor type 5 in complex with maravirocum', '4MBS.A'), 69: ('Muscarinic acetylcholine receptor M2 in complex with iperoxo', '4MQS.A'), 70: (\"Nociceptin receptor in complex with 1-benzyl-N-[3-(1'H,3H-spiro[2-benzofuran-1,4'-piperidin]-1'-y...\", '4EA3.A'), 83: ('Beta-2 adrenergic receptor in complex with Aquanil', '3D4S.A'), 86: ('C-X-C chemokine receptor type 4 in complex with vMIP-II W5C mutant.', '4RWS'), 76: ('Free fatty acid receptor 1 in complex with TAK-875', '4PHU.A'), 90: ('5-hydroxytryptamine receptor 1B in complex with ergotamine', '4IAR.A'), 89: ('C-X-C chemokine receptor type 4 in complex with vMIP-II W5C mutant.', '4RWS'), 94: ('5-hydroxytryptamine receptor 2B in complex with ergotamine', '4IB4.A'), 71: ('Neurotensin receptor type 1 in complex with neurotensin', '4GRV'), 80: ('P2Y purinoceptor 12 in complex with 2-Mesatp', '4PY0.A'), 99: ('Beta-2 adrenergic receptor in complex with CHEMBL1233771', '3NY9.A'), 78: ('P2Y purinoceptor 12 in complex with Methylthio-adenosine diphosphate', '4PXZ.A'), 103: ('C-X-C chemokine receptor type 4 in complex with 1t', '3ODU.A'), 106: ('D(3) dopamine receptor in complex with Eticlopride', '3PBL.A'), 109: ('Histamine H1 receptor in complex with doxepin', '3RZE.A'), 102: ('C-X-C chemokine receptor type 4 in complex with IT1t', '3ODU.A'), 112: ('Muscarinic acetylcholine receptor M2 in complex with QUINUCLIDINYL BENZILATE', '3UON.A'), 115: ('Beta-2 adrenergic receptor in complex with CHEMBL1160696', '4LDL.A'), 120: ('Type-1 angiotensin II receptor with olmesartan', '4ZUD.A'), 117: ('Beta-2 adrenergic receptor in complex with epinephrine', '4LDO.A'), 119: ('C-C chemokine receptor type 5 in complex with maravirocum', '4MBS.A'), 121: ('Beta-2 adrenergic receptor in complex with 8-[(1r)-2-{[1,1-Dimethyl-2-(2-Methylphenyl)ethyl]amino...', '4LDE.A'), 123: ('Beta-2 adrenergic receptor in complex with ICI-118551', '3NY8.A'), 124: ('Beta-2 adrenergic receptor in complex with (-)-Alprenolol', '3NYA.A'), 127: ('Sphingosine 1-phosphate receptor 1 in complex with W146', '3V2Y.A'), 126: ('Histamine H1 receptor in complex with Z-doxepin', '3RZE.A'), 130: ('Proteinase-activated receptor 1 in complex with Vorapaxar', '3VW7.A'), 129: ('Proteinase-activated receptor 1', '3VW7.A'), 133: ('Beta-1 adrenergic receptor in complex with 4-(1-Piperazinyl)-1H-indole', '3ZPQ.B'), 134: ('Partially thermostabilized Beta-1 adrenergic receptor in complex with 4-(1-Piperazinyl)-1H-indole', '3ZPQ.B'), 140: ('Partially thermostabilized Beta-1 adrenergic receptor', '4AMI.A'), 145: ('Delta-type opioid receptor in complex with Naltrindole', '4N6H.A'), 150: ('Partially thermostabilized Beta-1 adrenergic receptor in complex with XTK', '5A8E.A'), 146: ('Type-1 angiotensin II receptor', '4ZUD.A'), 149: ('Beta-1 adrenergic receptor in complex with XTK', '5A8E.A'), 176: ('Muscarinic acetylcholine receptor M3 in complex with Paminereg', '4U16.B'), 168: ('Endothelin B receptor in complex with Endothelin-1', '5GLH'), 172: ('Orexin receptor type 2 in complex with Suvorexant', '4S0V.A'), 173: ('Muscarinic acetylcholine receptor M4 in complex with Tiotropium', '5DSG.B'), 164: ('Cannabinoid receptor 1 in complex with Taranabant', '5U09.A'), 160: ('Beta-2 adrenergic receptor in complex with (S)-carozol', '5JQH.A'), 174: ('Muscarinic acetylcholine receptor M3 in complex with Tiotropium', '4U15.B'), 169: ('Mu-type opioid receptor in complex with BU72', '5C1M.A'), 167: ('Beta-1 adrenergic receptor', '4AMJ.B'), 178: ('Neurotensin receptor type 1 in complex with Neurotensin ', '4XEE'), 181: ('P2Y purinoceptor 1 in complex with mrs-2500', '4XNW.A'), 182: ('P2Y purinoceptor 1 in complex with mrs-2500', '4XNW.A'), 185: ('Lysophosphatidic acid receptor 1  in complex withi ono-3080573', '4Z36.A'), 201: ('Mu-type opioid receptor bound to Oliceridine', '5C1M'), 206: ('P2Y purinoceptor 1 in complex with BPTU', '4XNV.A'), 183: ('Lysophosphatidic acid receptor 1 in complex with ono9780307', '4Z34.A'), 207: ('P2Y purinoceptor 1 in complex with BPTU', '4XNV.A'), 212: ('5-HT2B receptor in complex with Lysergide', '5TVN'), 214: ('5-HT2B receptor in complex with Lysergide', '5TVN'), 218: ('angiotensin II type 1 receptor', '6DO1'), 219: ('angiotensin II type 1 receptor in complex with modified ANG II', '6DO1'), 220: ('angiotensin II type 1 receptor incomplex with TRV023', '6DO1'), 221: ('angiotensin II type 1 receptor in complex with modified ANG II', '6DO1'), 223: ('angiotensin II type 1 receptor bound to TRV034', '6DO1'), 222: ('angiotensin II type 1 receptor bound to TRV027', '6DO1'), 227: ('angiotensin II type 1 receptor bound to modified angiotensin', '6DO1'), 228: ('angiotensin II type 1 receptor bound to modified angiotensin', '6DO1'), 190: ('Type-1 angiotensin II receptor in complex with olmesartan', '4ZUD.A'), 195: ('Partially thermostabilized Beta-1 adrenergic receptor in complex with (S)-Carvedilol', '4AMJ.B'), 199: ('Active mu-opioid receptor bound to the agonist morphine', '5C1M'), 188: ('Orexin receptor type 1 in complex with sb-674042', '4ZJC.A'), 187: ('Orexin receptor type 1 in complex with suvorexant', '4ZJ8.A'), 194: ('Muscarinic acetylcholine receptor M1 in complex with Tiotropium', '5CXV.A'), 229: ('angiotensin II type 1 receptor bound to modified angiotensin', '6DO1'), 230: ('angiotensin II type 1 receptor bound to modified angiotensin', '6DO1'), 689: ('rhodopsin in complex with Lysine-Retinol', '2Z73'), 685: ('6PS0 complex', '6PS0'), 693: ('chimera protein of melatonin receptor type 1a and glga glycogen synthase in complex with OFCLARYYBGKCHN-UHFFFAOYSA-N', '6ME3'), 697: ('adenosine receptor a2a in complex with PWTBZOIUWZOPFT-UHFFFAOYSA-N', '5JTB'), 691: ('cysteinyl leukotriene receptor 2 in complex with AXUGAYNPVSAVSA-MHZLTWQESA-N', '6RZ9'), 695: ('platelet-activating factor receptor in complex with GDLNHSUSOZEAOR-UHFFFAOYSA-N', '5ZKQ'), 703: ('adenosine receptor a2a in complex with NCWQLHHDGDXIJN-UHFFFAOYSA-N', '6GT3'), 687: ('human a2a adenosine receptor t4l chimera in complex with ZOTHAEBAWXWVID-HXEFRTELSA-N', '5WF5'), 707: ('rhodopsin in complex with OHAKQPWAEANPAJ-QHCPKHFHSA-N', '6FKC'), 709: ('c-c chemokine receptor type 2 in complex with MTMDXAIUENDNDL-RJSMDTJLSA-O', '6GPS'), 713: ('chimera protein of melatonin receptor type 1a and glga glycogen synthase in complex with YLXDSYKOBKBWJQ-LBPRGKRZSA-N', '6ME2'), 715: ('adenosine receptor a2a in complex with ZHUZHTHIEMXLRA-UHFFFAOYSA-N', '5OM4'), 717: ('p2y purinoceptor 12 in complex with NEMHKCNXXRQYRF-UHFFFAOYSA-N', '4NTJ'), 719: ('5ht2b receptor in complex with BKRGVLQUQGGVSM-KBXCAEBGSA-N', '6DRX'), 721: ('rhodopsin in complex with FYEGABNDKDAYPJ-UHFFFAOYSA-N', '6FKB'), 723: ('neurotensin receptor type 1 in complex with arg-arg-pro-tyr-ile-leu', '5T04'), 725: ('delta-type opioid receptor in complex with WIYUZYBFCWCCQJ-IFKAHUTRSA-N', '4EJ4'), 727: ('orexin receptor type 2 in complex with KJPHTXTWFHVJIG-UHFFFAOYSA-N', '5WS3'), 729: ('beta-1 adrenergic receptor in complex with CQEFAUFOQSCRMZ-LBPRGKRZSA-N', '5F8U'), 731: ('substance-p receptor in complex with ATALOFNDEOCMKK-OITMNORJSA-N', '6HLO'), 733: ('rhodopsin in complex with QFUKMLGGPINITQ-FQEVSTJZSA-N', '6FKA'), 735: ('chimera protein of cc chemokine receptor type 2 isoform b and t4-lysozyme in complex with VQNLJXWZGVRLBA-MRXNPFEDSA-N', '5T1A'), 739: ('cysteinyl leukotriene receptor 1 in complex with pranlukast', '6RZ4'), 745: ('hypocretin receptor-2 in complex with JYTNQNCOQXFQPK-MRXNPFEDSA-N', '6TPJ'), 752: ('fusion protein of beta-2 adrenergic receptor and t4 lysozyme in complex with 1-(ISOPROPYLAMINO)-3-(1-NAPHTHYLOXY)-2-PROPANOL', '6PS5'), 737: ('orexin receptor type 1 in complex with AKMNUCBQGHFICM-UHFFFAOYSA-N', '6TQ7'), 757: ('rhodopsin in complex with Lysine-Retinol', '3C9M'), 754: ('adenosine receptor a2a in complex with PWTBZOIUWZOPFT-UHFFFAOYSA-N', '6AQF'), 760: ('orexin receptor type 1 in complex with NHPQGZOBHSVTAQ-IBGZPJMESA-N', '6TP4'), 749: ('prostaglandin e2 receptor ep3 subtype in complex with CNWGPXZGIIOYDL-AGRNYGATSA-N', '6M9T'), 764: ('fusion protein of beta-2 adrenergic receptor and t4 lysozyme in complex with BLJRIMJGRPQVNF-JTQLQIEISA-N', '6PS1'), 766: ('free fatty acid receptor 1 in complex with RJZJYKXHTPUHAO-HKBQPEDESA-N', '5KW2'), 768: ('neurotensin receptor type 1 in complex with neurotensin/neuromedin n', '4XES'), 770: ('chimera protein of beta-2 adrenergic receptor and lysozyme in complex with BQXQGZPYHWWCEB-ZDUSSCGKSA-N', '5X7D'), 774: ('adenosine receptor a2a in complex with UJHUYWLZLDBDSR-UHFFFAOYSA-N', '5UIG'), 786: ('beta-1 adrenergic receptor in complex with JBLUMBNIBNHRSO-JTQLQIEISA-N', '2YCZ'), 790: ('cysteinyl leukotriene receptor 2 in complex with FRDYFKGGRISGHW-VWLOTQADSA-N', '6RZ8'), 794: ('free fatty acid receptor 1 in complex with CODQKEMYZZKQAE-QPVYNBJUSA-N', '5TZR'), 796: ('melatonin receptor type 1b in complex with OFCLARYYBGKCHN-UHFFFAOYSA-N', '6ME6'), 800: ('c-c chemokine receptor type 2 in complex with MTMDXAIUENDNDL-RJSMDTJLSA-O', '6GPX'), 802: ('5-hydroxytryptamine receptor 2a in complex with HDOZVRUNCMBHFH-UHFFFAOYSA-N', '6A94'), 782: ('substance-p receptor in complex with ATALOFNDEOCMKK-OITMNORJSA-N', '6J21'), 778: ('rhodopsin in complex with RWIUNGUJHWADDD-FQEVSTJZSA-N', '6FK9'), 784: ('adenosine receptor a2a in complex with PWTBZOIUWZOPFT-UHFFFAOYSA-N', '5NM2'), 788: ('endothelin b receptor in complex with UZDORQWMYRRLQV-JHOUSYSJSA-N', '6K1Q'), 804: ('chimera protein of melatonin receptor type 1a and glga glycogen synthase in complex with FJDDSMSDZHURBJ-UHFFFAOYSA-N', '6ME4'), 806: ('cysteinyl leukotriene receptor 2 in complex with JCUVQOJHURMRKB-SANMLTNESA-N', '6RZ7'), 810: ('rhodopsin in complex with QLEXUFWJSPRFOP-LCYNHIKNSA-N', '5TE5'), 808: ('chimera protein of melatonin receptor type 1a and glga glycogen synthase in complex with ~{N}-[2-(7-methoxynaphthalen-1-yl)ethyl]ethanamide', '6ME5'), 812: ('5ht2b receptor in complex with KPJZHOPZRAFDTN-ZRGWGRIASA-N', '6DRZ'), 814: ('adenosine receptor a2a in complex with ZHUZHTHIEMXLRA-UHFFFAOYSA-N', '5OLZ'), 818: ('melatonin receptor type 1b in complex with YLXDSYKOBKBWJQ-LBPRGKRZSA-N', '6ME9'), 820: ('chimera protein of human 5-hydroxytryptamine receptor 2b and e. coli soluble cytochrome b562 in complex with Ergotamine', '4NC3'), 826: ('cysteinyl leukotriene receptor 2 in complex with JCUVQOJHURMRKB-SANMLTNESA-N', '6RZ6'), 828: ('adenosine receptor a2a in complex with NVGMNXGIQPMJSN-UHFFFAOYSA-N', '6ZDV'), 822: ('orexin receptor type 1 in complex with TWCRHJLMMAYSTE-ZFWWWQNUSA-N', '6TOS'), 830: ('fusion protein of beta-2 adrenergic receptor and t4 lysozyme in complex with VFIDUCMKNJIJTO-XJKSGUPXSA-N', '6PS4'), 832: ('d(4) dopamine receptor in complex with Nemonapride', '5WIV'), 834: ('orexin receptor type 1 in complex with JTARFZSNUAGHRB-UHFFFAOYSA-N', '6TQ9'), 836: ('adenosine receptor a2a in complex with PWTBZOIUWZOPFT-UHFFFAOYSA-N', '5UVI'), 839: ('chimera of d(2) dopamine receptor and endolysin in complex with LNEPOXFFQSENCJ-UHFFFAOYSA-N', '6LUQ'), 841: ('rhodopsin in complex with WRVOICVPIQQYTO-LIRRHRJNSA-N', '6FK8'), 847: ('chimera protein of human 5-hydroxytryptamine receptor 2b and e. coli soluble cytochrome b562 in complex with VAYOSLLFUXYJDT-RDTXWAMCSA-N', '5TVN'), 845: ('orexin receptor type 2 in complex with KJPHTXTWFHVJIG-UHFFFAOYSA-N', '5WQC'), 849: ('5-hydroxytryptamine receptor 2a in complex with RAPZEAPATHNIPO-UHFFFAOYSA-N', '6A93'), 851: ('substance-p receptor in complex with DTQNEFOKTXXQKV-HKUYNNGSSA-N', '6HLL'), 854: ('adenosine receptor a2a/soluble cytochrome b562 chimera in complex with PWTBZOIUWZOPFT-UHFFFAOYSA-N', '5K2B'), 858: ('adenosine receptor a2a in complex with ZHUZHTHIEMXLRA-UHFFFAOYSA-N', '5OM1'), 856: (' substance-p receptor chimera in complex with USRYEHHMJIRICK-ZNZBMKLDSA-N', '6E59'), 860: ('orexin receptor type 1 in complex with LWKUASRJTUZHSJ-UHFFFAOYSA-N', '6TQ6'), 862: ('cysteinyl leukotriene receptor 1 in complex with zafirlukast', '6RZ5'), 864: ('fusion protein of beta-2 adrenergic receptor and t4 lysozyme in complex with PAZJSJFMUHDSTF-AWEZNQCLSA-N', '6PS2'), 870: ('orexin receptor type 1 in complex with NPFDWHQSDBWQLH-QZTJIDSGSA-N', '6TP6'), 873: ('rhodopsin in complex with Lysine-Retinol', '5DYS'), 866: ('hypocretin receptor-2 in complex with KJPHTXTWFHVJIG-UHFFFAOYSA-N', '6TPG'), 875: ('orexin receptor type 1 in complex with MUGXRYIUWFITCP-PGRDOPGGSA-N', '6TOT'), 879: ('g-protein coupled receptor homolog us28 in complex with fractalkine', '4XT3'), 881: ('neurotensin receptor type 1 in complex with GLYCINE', '4BUO'), 885: ('prostaglandin d2 receptor 2 in complex with CANCTKXGRVNXFP-OAHLLOKOSA-N', '6D27'), 891: ('chimera protein of type-2 angiotensin ii receptor and soluble cytochrome b562 in complex with KDPHUUTUDFDLBT-UHFFFAOYSA-N', '5UNG'), 895: ('rhodopsin in complex with Lysine-Retinol', '1GZM'), 887: ('endothelin b receptor in complex with GJPICJJJRGTNOD-UHFFFAOYSA-N', '5XPR'), 897: ('cannabinoid receptor 1 in complex with SZDVFUZKFPGYEK-WOJBJXKFSA-N', '5XRA'), 903: ('orexin receptor type 2 in complex with SUQZCEUKWPKXEE-UHFFFAOYSA-N', '6TPN'), 905: ('neuropeptide y receptor type 1 in complex with WMYSXJSJXZFODY-UHFFFAOYSA-N', '5ZBH'), 901: ('rhodopsin in complex with Lysine-Retinol', '3C9L'), 917: ('chimera protein of type-2 angiotensin ii receptor and soluble cytochrome b562 in complex with KDPHUUTUDFDLBT-UHFFFAOYSA-N', '5UNF'), 899: ('c-c chemokine receptor type 5 in complex with c-c motif chemokine 5', '5UIW'), 915: ('orexin receptor type 1 in complex with KJPHTXTWFHVJIG-UHFFFAOYSA-N', '6TOD'), 911: ('substance-p receptor in complex with ATALOFNDEOCMKK-OITMNORJSA-N', '6J20'), 909: ('5-hydroxytryptamine receptor 1b in complex with RLJFTICUTYVZDG-SFHVURJKSA-N', '5V54'), 913: ('rhodopsin in complex with GYIGPNZLXGKQBD-KUHUBIRLSA-N', '6FK7'), 919: ('5ht2b receptor in complex with UNBRKDKAWYKMIV-QWQRMKEZSA-N', '6DRY'), 921: ('c5a anaphylatoxin chemotactic receptor 1 in complex with ITACCRHKSPSKKL-UHFFFAOYSA-N', '5O9H'), 927: ('fusion protein of beta-2 adrenergic receptor and t4 lysozyme in complex with OGHNVEJMJSYVRP-KRWDZBQOSA-N', '6PS3'), 923: ('adenosine receptor a2a in complex with PWTBZOIUWZOPFT-UHFFFAOYSA-N', '5OLG'), 940: ('type-2 angiotensin ii receptor in complex with SYDVEZUPFQXMSM-UHFFFAOYSA-N', '5UNH'), 925: ('d(2) dopamine receptor in complex with RAPZEAPATHNIPO-UHFFFAOYSA-N', '6CM4'), 931: ('adenosine receptor a2a in complex with HQSBCDPYXDGTCL-UHFFFAOYSA-N', '5OLH'), 936: ('orexin receptor type 1 in complex with JYTNQNCOQXFQPK-MRXNPFEDSA-N', '6TO7'), 929: ('free fatty acid receptor 1 in complex with ADYYYLTWZYYGNX-LJYIQKJHSA-N', '5TZY'), 944: ('rhodopsin in complex with UDAMUOKENMUCKG-FQEVSTJZSA-N', '6FK6'), 946: ('melatonin receptor type 1b in complex with OFCLARYYBGKCHN-UHFFFAOYSA-N', '6ME8'), 938: ('substance-p receptor in complex with WAXQNWCZJDTGBU-UHFFFAOYSA-N', '6HLP'), 950: ('adenosine receptor a2a/soluble cytochrome b562 chimera in complex with PWTBZOIUWZOPFT-UHFFFAOYSA-N', '5K2D'), 954: ('adenosine receptor a2a in complex with PWTBZOIUWZOPFT-UHFFFAOYSA-N', '5NM4'), 952: ('fusion protein of beta-2 adrenergic receptor and t4 lysozyme in complex with BLJRIMJGRPQVNF-JTQLQIEISA-N', '6PS6'), 958: ('ltb4 receptor in complex with MBLJFKQACMILLC-UHFFFAOYSA-N', '5X33'), 956: ('cannabinoid receptor 2 in complex with JCIYJYHFBBXSBF-HMXCVIKNSA-N', '6KPC'), 965: ('endothelin b receptor in complex with MTNFANNLCUMCNB-UHFFFAOYSA-N', '5X93'), 963: ('beta-2 adrenergic receptor in complex with BQXQGZPYHWWCEB-ZDUSSCGKSA-N', '5D6L'), 960: ('5ht2b receptor in complex with NJLHHCITDFZZSE-KRWDZBQOSA-N', '6DS0'), 978: ('proteinase-activated receptor 2 in complex with IDFPQEHZYBXIFO-LBPRGKRZSA-N', '5NDD'), 976: ('adenosine receptor a2a in complex with XNBRWUQWSKXMPW-UHFFFAOYSA-N', '5OLO'), 980: ('fusion protein of beta-2 adrenergic receptor and t4 lysozyme in complex with PAZJSJFMUHDSTF-AWEZNQCLSA-N', '6PRZ'), 967: ('orexin receptor type 1 in complex with KIKWLYIDCILHAP-UHFFFAOYSA-N', '6TQ4'), 971: ('beta-2 adrenergic receptor in complex with BQXQGZPYHWWCEB-ZDUSSCGKSA-N', '4GBR'), 982: ('adenosine receptor a2a in complex with PWTBZOIUWZOPFT-UHFFFAOYSA-N', '6MH8'), 985: ('prostaglandin d2 receptor 2 in complex with fevipiprant', '6D26'), 988: ('adenosine receptor a2a in complex with CAFFEINE', '5MZP'), 990: ('muscarinic acetylcholine receptor m2 in complex with HGMITUYOCPPQLE-IBGZPJMESA-N', '5ZK3'), 992: ('adenosine receptor a2a in complex with PWTBZOIUWZOPFT-UHFFFAOYSA-N', '5NLX'), 997: ('endothelin receptor type b in complex with sarafotoxin-b', '6LRY'), 994: ('melatonin receptor type 1b in complex with OFCLARYYBGKCHN-UHFFFAOYSA-N', '6ME7'), 1002: ('cannabinoid receptor 1 in complex with AHFZDNYNXFMRFQ-UHFFFAOYSA-N', '6KQI'), 999: ('adenosine receptor a2a/soluble cytochrome b562 chimera in complex with PWTBZOIUWZOPFT-UHFFFAOYSA-N', '5K2C'), 1001: ('adenosine receptor a2a in complex with PWTBZOIUWZOPFT-UHFFFAOYSA-N', '6JZH'), 1008: ('fusion protein of melatonin receptor type 1a and glga glycogen synthase in complex with OFCLARYYBGKCHN-UHFFFAOYSA-N', '6PS8'), 1012: ('adenosine receptor a2a in complex with PWTBZOIUWZOPFT-UHFFFAOYSA-N', '5VRA'), 1010: ('human a2a adenosine receptor t4l chimera in complex with ZOTHAEBAWXWVID-HXEFRTELSA-N', '5WF6'), 1014: ('adenosine receptor a2a in complex with PWTBZOIUWZOPFT-UHFFFAOYSA-N', '6PS7'), 1006: ('d(4) dopamine receptor in complex with Nemonapride', '5WIU'), 1017: ('adenosine receptor a2a in complex with KEUJAGGJGBWRFC-UHFFFAOYSA-N', '5OLV'), 1016: ('endothelin receptor type b in complex with endothelin-3', '6IGK'), 1021: ('adenosine receptor a2a/soluble cytochrome b562 chimera in complex with PWTBZOIUWZOPFT-UHFFFAOYSA-N', '5K2A'), 1019: ('proteinase-activated receptor 2 in complex with FJAOGFGHTPYADT-SFHVURJKSA-N', '5NDZ'), 1025: ('platelet-activating factor receptor in complex with VVBFISAUNSXQGZ-UHFFFAOYSA-N', '5ZKP'), 1027: ('prostaglandin e2 receptor ep3 subtype in complex with XEYBRNLFEZDVAW-ARSRFYASSA-N', '6AK3'), 1029: ('muscarinic acetylcholine receptor m2 in complex with MZDYABXXPZNUCT-NRFANRHFSA-N', '5ZKB'), 1033: ('adenosine receptor a2a in complex with FVMKJEVPLWCLMC-UHFFFAOYSA-N', '6ZDR'), 1040: ('neuropeptide y receptor type 1 in complex with VQHNWOOVOKYJNL-HHHXNRCGSA-N', '5ZBQ'), 1042: ('Apelin receptor in complex with single domain antibody JN241', '6KNM'), 1044: ('Thromboxane A2 receptor in complex with ramatroban', '6IIU'), 1062: ('Apelin receptor in complex with agonist peptide', '5VBL'), 1064: ('Endothelin receptor type B in complex with IRL 1620', '6IGL'), 1076: ('Thromboxane A2 receptor in complex with Daltroban', '6IIV'), 1089: ('M5 muscarinic acetylcholine receptor in complex with tiotropium', '6OL9'), 1081: ('6LW5 in complex with WKYMVm', '6LW5'), 1093: ('M5 muscarinic acetylcholine receptor in complex with tiotropium', '6OL9'), 1094: ('M5 muscarinic acetylcholine receptor in complex with tiotropium', '6OL9'), 1095: ('Chemokine Receptor CCR5 in complex with compound 21', '6AKX'), 1096: ('M2 muscarinic acetylcholine receptor in complex with NMS', '5ZK8'), 1097: ('A1 receptor in complex with PSB36', '5N2S'), 1098: ('A2A adenosine receptor in complex with theophylline', '5MZJ'), 1100: ('6C1R in complex with PMX53', '6C1R'), 1105: ('5-hydroxytryptamine receptor 2a chimera in complex with RLDFVSFNVOLFEU-UHFFFAOYSA-N', '6WHA'), 1106: ('5-hydroxytryptamine receptor 2a chimera in complex with RLDFVSFNVOLFEU-UHFFFAOYSA-N', '6WHA'), 1107: ('5-hydroxytryptamine receptor 2a chimera in complex with GPZRBKWRRKBOAC-UHFFFAOYSA-N', '6WHA'), 1109: ('5-hydroxytryptamine receptor 2a chimera in complex with CEAJEPCUIFNTFN-UHFFFAOYSA-N', '6WHA'), 1110: ('5-hydroxytryptamine receptor 2a chimera in complex with ZURXROHPCVOMGH-UHFFFAOYSA-N', '6WHA'), 1111: ('5-hydroxytryptamine receptor 2a chimera in complex with ZURXROHPCVOMGH-UHFFFAOYSA-N', '6WHA'), 1108: ('5-hydroxytryptamine receptor 2a chimera in complex with GPZRBKWRRKBOAC-UHFFFAOYSA-N', '6WHA'), 1124: ('Chemokine Receptor CCR5 in complex with compound 34', '6AKY'), 1123: ('A2A adenosine receptor in complex with PSB36', '5N2R'), 1125: ('M3 muscarinic acetylcholine receptor in complex with a selective antagonist', '5ZHP'), 1127: ('M2 muscarinic acetylcholine receptor bound with NMS', '5YC8'), 1128: ('5-hydroxytryptamine receptor 2a chimera in complex with CEAJEPCUIFNTFN-UHFFFAOYSA-N', '6WHA'), 1130: ('beta-2 adrenergic receptor in complex with 6-bromo-N~2~-phenylquinazoline-2,4-diamine', '6OBA'), 1131: ('C5a receptor in complex with an orthosteric antagonist PMX53 and an allosteric antagonist NDT9513727', '6C1Q'), 1126: ('M2 muscarinic acetylcholine receptor in complex with  with NMS', '5ZKC'), 1137: ('cannabinoid receptor 1 in complex with AHFZDNYNXFMRFQ-UHFFFAOYSA-N', '6KQI'), 1139: ('chimera of g-protein coupled receptor 52 and flavodoxin in complex with VJMRKWPMFQGIPI-UHFFFAOYSA-N', '6LI0'), 1140: ('5-hydroxytryptamine receptor 2a chimera in complex with ceajepcuifntfn-uhfffaoysa-n', '6WHA'), 1141: ('5-hydroxytryptamine receptor 2a chimera (S5.46A) in complex with CEAJEPCUIFNTFN-UHFFFAOYSA-N', '6WHA'), 1142: ('5-hydroxytryptamine receptor 2a chimera in complex with GPZRBKWRRKBOAC-UHFFFAOYSA-N', '6WHA'), 1143: ('5-hydroxytryptamine receptor 2a (mutantS5.46) chimera in complex with GPZRBKWRRKBOAC-UHFFFAOYSA-N', '6WHA'), 1144: ('5-hydroxytryptamine receptor 2a chimera in complex with RLDFVSFNVOLFEU-UHFFFAOYSA-N', '6WHA'), 1146: ('5-hydroxytryptamine receptor 2a chimera in complex with ZURXROHPCVOMGH-UHFFFAOYSA-N', '6WHA'), 1147: ('5-hydroxytryptamine receptor 2a chimera (S5.46A) in complex with ZURXROHPCVOMGH-UHFFFAOYSA-N', '6WHA'), 1150: ('5-hydroxytryptamine receptor 2a in complex with Aripiprazole', '6A93'), 1145: ('5-hydroxytryptamine receptor 2a (S5.46A) chimera in complex with RLDFVSFNVOLFEU-UHFFFAOYSA-N', '6WHA'), 1151: ('5-hydroxytryptamine receptor 2a in complex with Clozapine', '6A93'), 1152: ('5-hydroxytryptamine receptor 2a in complex with Cariprazine', '6A93'), 1153: ('5-hydroxytryptamine receptor 2a in complex with doi', '6A93'), 1154: ('5-hydroxytryptamine receptor 2a in complex with doi', '6A93'), 1155: ('5-hydroxytryptamine receptor 2a in complex with haloperidole', '6A93'), 1156: ('5-hydroxytryptamine receptor 2a in complex with MetI', '6A93'), 1157: ('5-hydroxytryptamine receptor 2a in complex with NitroI', '6A93'), 1159: ('5-hydroxytryptamine receptor 2a in complex with Risperidone', '6A93'), 1160: ('5-hydroxytryptamine receptor 2a in complex with Serotonine', '6A93'), 1175: ('6WGT_complex', '6WGT'), 1167: ('Carvedilol', '2RH1'), 1176: ('7WC7_complex', '7WC7'), 1199: ('Adenosine A2A receptor in complex with miniGs protein', '6GDG'), 1158: ('5-hydroxytryptamine receptor 2a in complex with Olanzapine', '6A93'), 1215: ('Adenosine A2A receptor in complex with miniGs protein', '6GDG'), 1214: ('HTR2A in complex with mini-Galpha-q protein', '6WHA'), 1238: ('CaseStudy - InserveAgonist', 'XXXX'), 1244: ('OR51E2', '8F76'), 1245: ('OR51E2 with propionate acid', '8F76'), 1247: ('B2AR-ICL3', '6E67'), 1259: ('test', '4IAQ'), 1246: ('OR51E2-Q181D with propionate acid', '8F76'), 1277: ('Test', '4IAR'), 1317: ('ketansterine - 5HT2A complex', '6A93'), 1284: ('AT1R bound to AngII', '6OS0')}\n"
     ]
    }
   ],
   "source": [
    "def fetch_model_name(dynid):\n",
    "    url = f\"https://devel.gpcrmd.org/api/search_dyn/{dynid}\"\n",
    "    response = requests.get(url)\n",
    "    json_response = response.json()\n",
    "    model_name = json_response[0][\"modelname\"]\n",
    "    pdbid = json_response[0][\"pdb_namechain\"]\n",
    "    return model_name, pdbid\n",
    "\n",
    "model_name_dict = {}\n",
    "\n",
    "# Determine the level of parallelism. \n",
    "# Depending on the server's rate limits, you may need to adjust `max_workers`.\n",
    "with ThreadPoolExecutor(max_workers=10) as executor:\n",
    "    future_to_dynid = {executor.submit(fetch_model_name, dynid): dynid for dynid in overlapping}\n",
    "    for future in concurrent.futures.as_completed(future_to_dynid):\n",
    "        dynid = future_to_dynid[future]\n",
    "        try:\n",
    "            model_name_dict[dynid] = future.result()\n",
    "        except Exception as exc:\n",
    "            print(f'{dynid} generated an exception: {exc}')\n",
    "\n",
    "print(model_name_dict)"
   ]
  },
  {
   "cell_type": "code",
   "execution_count": 20,
   "metadata": {},
   "outputs": [],
   "source": [
    "# load dyn_ligtype_dict from json\n",
    "with open('data/processed/dyn_ligtype_dict.json') as f:\n",
    "    dyn_ligtype_dict = json.load(f)\n",
    "# transform keys into integers\n",
    "dyn_ligtype_dict = {int(k): v for k, v in dyn_ligtype_dict.items()}"
   ]
  },
  {
   "cell_type": "code",
   "execution_count": 51,
   "metadata": {},
   "outputs": [
    {
     "name": "stdout",
     "output_type": "stream",
     "text": [
      "19: (2Y02.B) Beta-1 adrenergic receptor in complex with carmoterol: agonist\n",
      "15: (2Y00.B) Beta-1 adrenergic receptor in complex with R-dobutamine: no dcd or xtc file\n",
      "10: (2R4R) Beta 2 adrenergic receptor and carazolol: antagonist\n",
      "20: (2Y02.B) Partially thermostabilized Beta-1 adrenergic receptor in complex with carmoterol: agonist\n",
      "9: (2R4R) Beta 2 adrenergic receptor and isoproterenol: agonist\n",
      "16: (2Y00.B) Partially thermostabilized Beta-1 adrenergic receptor in complex with (R)-dobutamine: no dcd or xtc file\n",
      "7: (3EML) A2a Adenosine receptor & Cholesterol: unknown\n",
      "6: (2R4R) Beta 2 Adrenergic Receptor & Carazolol: antagonist\n",
      "4: (4N6H) Delta Opioid with Naltrindole: antagonist\n",
      "8: (4N6H) delta opioid receptor (human): unknown\n",
      "22: (5U09.A) Cannabinoid receptor 1 in complex with taranabant: agonist\n",
      "25: (2Y03.B) Beta-1 adrenergic receptor in complex with levisoprenaline: agonist\n",
      "26: (2Y03.B) Partially thermostabilized Beta-1 adrenergic receptor in complex with levisoprenaline: agonist\n",
      "33: (2YDV.A) Adenosine receptor A2a in complex with NECA: agonist\n",
      "29: (2Y04.B) Beta-1 adrenergic receptor in complex with levalbuterol: agonist\n",
      "40: (3UZA.A) Adenosine receptor A2a in complex with 6-(2,6-dimethylpyridin-4-yl)-5-phenyl-1,2,4-triazin-3-amine: antagonist\n",
      "36: (3REY.A) Adenosine receptor A2a in complex with xanthine amine congener: antagonist\n",
      "38: (3RFM.A) Adenosine receptor A2a in complex with caffeine: antagonist\n",
      "31: (2YDO.A) Adenosine receptor A2a in complex with adenosine: agonist\n",
      "42: (3UZC.A) Adenosine receptor A2a in complex with 4-(3-Amino-5-phenyl-1,2,4-triazine-6-yl)-2-chlorophenol: antagonist\n",
      "44: (4EIY.A) Adenosine receptor A2a in complex with ZM241385: inverse agonist\n",
      "48: (5G53.A) Adenosine receptor A2a in complex with N-ethyl-5'-carboxamido adenosine: agonist\n",
      "55: (2Y04.B) Beta-1 adrenergic receptor in complex with levalbuterol: agonist\n",
      "50: (5IU4.A) Adenosine receptor A2a in complex with ZM241385: inverse agonist\n",
      "46: (4UHR.A) Adenosine receptor A2a in complex CGS-21680: agonist\n",
      "60: (4DJH.A) Kappa-type opioid receptor in complex with JDTic: antagonist\n",
      "57: (2YCW.A) Beta-1 adrenergic receptor complex with carazolol: antagonist\n",
      "58: (4BVN.A) Partially thermostabilized Beta-1 adrenergic receptor: unknown\n",
      "67: (4MBS.A) C-C chemokine receptor type 5 in complex with maravirocum: antagonist\n",
      "69: (4MQS.A) Muscarinic acetylcholine receptor M2 in complex with iperoxo: agonist\n",
      "70: (4EA3.A) Nociceptin receptor in complex with 1-benzyl-N-[3-(1'H,3H-spiro[2-benzofuran-1,4'-piperidin]-1'-y...: antagonist\n",
      "83: (3D4S.A) Beta-2 adrenergic receptor in complex with Aquanil: antagonist\n",
      "86: (4RWS) C-X-C chemokine receptor type 4 in complex with vMIP-II W5C mutant.: antagonist\n",
      "76: (4PHU.A) Free fatty acid receptor 1 in complex with TAK-875: agonist\n",
      "90: (4IAR.A) 5-hydroxytryptamine receptor 1B in complex with ergotamine: agonist\n",
      "89: (4RWS) C-X-C chemokine receptor type 4 in complex with vMIP-II W5C mutant.: antagonist\n",
      "94: (4IB4.A) 5-hydroxytryptamine receptor 2B in complex with ergotamine: agonist\n",
      "71: (4GRV) Neurotensin receptor type 1 in complex with neurotensin: agonist\n",
      "80: (4PY0.A) P2Y purinoceptor 12 in complex with 2-Mesatp: agonist\n",
      "99: (3NY9.A) Beta-2 adrenergic receptor in complex with CHEMBL1233771: inverse agonist\n",
      "78: (4PXZ.A) P2Y purinoceptor 12 in complex with Methylthio-adenosine diphosphate: agonist\n",
      "103: (3ODU.A) C-X-C chemokine receptor type 4 in complex with 1t: antagonist\n",
      "106: (3PBL.A) D(3) dopamine receptor in complex with Eticlopride: antagonist\n",
      "109: (3RZE.A) Histamine H1 receptor in complex with doxepin: antagonist\n",
      "102: (3ODU.A) C-X-C chemokine receptor type 4 in complex with IT1t: antagonist\n",
      "112: (3UON.A) Muscarinic acetylcholine receptor M2 in complex with QUINUCLIDINYL BENZILATE: antagonist\n",
      "115: (4LDL.A) Beta-2 adrenergic receptor in complex with CHEMBL1160696: agonist\n",
      "120: (4ZUD.A) Type-1 angiotensin II receptor with olmesartan: inverse agonist\n",
      "117: (4LDO.A) Beta-2 adrenergic receptor in complex with epinephrine: agonist\n",
      "119: (4MBS.A) C-C chemokine receptor type 5 in complex with maravirocum: allosteric inhibitor\n",
      "121: (4LDE.A) Beta-2 adrenergic receptor in complex with 8-[(1r)-2-{[1,1-Dimethyl-2-(2-Methylphenyl)ethyl]amino...: agonist\n",
      "123: (3NY8.A) Beta-2 adrenergic receptor in complex with ICI-118551: inverse agonist\n",
      "124: (3NYA.A) Beta-2 adrenergic receptor in complex with (-)-Alprenolol: antagonist\n",
      "127: (3V2Y.A) Sphingosine 1-phosphate receptor 1 in complex with W146: antagonist\n",
      "126: (3RZE.A) Histamine H1 receptor in complex with Z-doxepin: antagonist\n",
      "130: (3VW7.A) Proteinase-activated receptor 1 in complex with Vorapaxar: antagonist\n",
      "129: (3VW7.A) Proteinase-activated receptor 1: antagonist\n",
      "133: (3ZPQ.B) Beta-1 adrenergic receptor in complex with 4-(1-Piperazinyl)-1H-indole: unknown\n",
      "134: (3ZPQ.B) Partially thermostabilized Beta-1 adrenergic receptor in complex with 4-(1-Piperazinyl)-1H-indole: unknown\n",
      "140: (4AMI.A) Partially thermostabilized Beta-1 adrenergic receptor: biased agonist\n",
      "145: (4N6H.A) Delta-type opioid receptor in complex with Naltrindole: antagonist\n",
      "150: (5A8E.A) Partially thermostabilized Beta-1 adrenergic receptor in complex with XTK: inverse agonist\n",
      "146: (4ZUD.A) Type-1 angiotensin II receptor: inverse agonist\n",
      "149: (5A8E.A) Beta-1 adrenergic receptor in complex with XTK: inverse agonist\n",
      "176: (4U16.B) Muscarinic acetylcholine receptor M3 in complex with Paminereg: antagonist\n",
      "168: (5GLH) Endothelin B receptor in complex with Endothelin-1: agonist\n",
      "172: (4S0V.A) Orexin receptor type 2 in complex with Suvorexant: antagonist\n",
      "173: (5DSG.B) Muscarinic acetylcholine receptor M4 in complex with Tiotropium: inverse agonist\n",
      "164: (5U09.A) Cannabinoid receptor 1 in complex with Taranabant: agonist\n",
      "160: (5JQH.A) Beta-2 adrenergic receptor in complex with (S)-carozol: antagonist\n",
      "174: (4U15.B) Muscarinic acetylcholine receptor M3 in complex with Tiotropium: inverse agonist\n",
      "169: (5C1M.A) Mu-type opioid receptor in complex with BU72: agonist\n",
      "167: (4AMJ.B) Beta-1 adrenergic receptor: biased agonist\n",
      "178: (4XEE) Neurotensin receptor type 1 in complex with Neurotensin : agonist\n",
      "181: (4XNW.A) P2Y purinoceptor 1 in complex with mrs-2500: antagonist\n",
      "182: (4XNW.A) P2Y purinoceptor 1 in complex with mrs-2500: antagonist\n",
      "185: (4Z36.A) Lysophosphatidic acid receptor 1  in complex withi ono-3080573: antagonist\n",
      "201: (5C1M) Mu-type opioid receptor bound to Oliceridine: biased agonist\n",
      "206: (4XNV.A) P2Y purinoceptor 1 in complex with BPTU: no dcd or xtc file\n",
      "183: (4Z34.A) Lysophosphatidic acid receptor 1 in complex with ono9780307: antagonist\n",
      "207: (4XNV.A) P2Y purinoceptor 1 in complex with BPTU: antagonist\n",
      "212: (5TVN) 5-HT2B receptor in complex with Lysergide: no dcd or xtc file\n",
      "214: (5TVN) 5-HT2B receptor in complex with Lysergide: agonist\n",
      "218: (6DO1) angiotensin II type 1 receptor: partial agonist\n",
      "219: (6DO1) angiotensin II type 1 receptor in complex with modified ANG II: partial agonist\n",
      "220: (6DO1) angiotensin II type 1 receptor incomplex with TRV023: agonist\n",
      "221: (6DO1) angiotensin II type 1 receptor in complex with modified ANG II: no dcd or xtc file\n",
      "223: (6DO1) angiotensin II type 1 receptor bound to TRV034: no dcd or xtc file\n",
      "222: (6DO1) angiotensin II type 1 receptor bound to TRV027: no dcd or xtc file\n",
      "227: (6DO1) angiotensin II type 1 receptor bound to modified angiotensin: no dcd or xtc file\n",
      "228: (6DO1) angiotensin II type 1 receptor bound to modified angiotensin: no dcd or xtc file\n",
      "190: (4ZUD.A) Type-1 angiotensin II receptor in complex with olmesartan: inverse agonist\n",
      "195: (4AMJ.B) Partially thermostabilized Beta-1 adrenergic receptor in complex with (S)-Carvedilol: biased agonist\n",
      "199: (5C1M) Active mu-opioid receptor bound to the agonist morphine: unknown\n",
      "188: (4ZJC.A) Orexin receptor type 1 in complex with sb-674042: antagonist\n",
      "187: (4ZJ8.A) Orexin receptor type 1 in complex with suvorexant: antagonist\n",
      "194: (5CXV.A) Muscarinic acetylcholine receptor M1 in complex with Tiotropium: inverse agonist\n",
      "229: (6DO1) angiotensin II type 1 receptor bound to modified angiotensin: no dcd or xtc file\n",
      "230: (6DO1) angiotensin II type 1 receptor bound to modified angiotensin: no dcd or xtc file\n",
      "689: (2Z73) rhodopsin in complex with Lysine-Retinol: unknown\n",
      "685: (6PS0) 6PS0 complex: antagonist\n",
      "693: (6ME3) chimera protein of melatonin receptor type 1a and glga glycogen synthase in complex with OFCLARYYBGKCHN-UHFFFAOYSA-N: agonist\n",
      "697: (5JTB) adenosine receptor a2a in complex with PWTBZOIUWZOPFT-UHFFFAOYSA-N: antagonist\n",
      "691: (6RZ9) cysteinyl leukotriene receptor 2 in complex with AXUGAYNPVSAVSA-MHZLTWQESA-N: antagonist\n",
      "695: (5ZKQ) platelet-activating factor receptor in complex with GDLNHSUSOZEAOR-UHFFFAOYSA-N: antagonist\n",
      "703: (6GT3) adenosine receptor a2a in complex with NCWQLHHDGDXIJN-UHFFFAOYSA-N: antagonist\n",
      "687: (5WF5) human a2a adenosine receptor t4l chimera in complex with ZOTHAEBAWXWVID-HXEFRTELSA-N: agonist\n",
      "707: (6FKC) rhodopsin in complex with OHAKQPWAEANPAJ-QHCPKHFHSA-N: unknown\n",
      "709: (6GPS) c-c chemokine receptor type 2 in complex with MTMDXAIUENDNDL-RJSMDTJLSA-O: antagonist\n",
      "713: (6ME2) chimera protein of melatonin receptor type 1a and glga glycogen synthase in complex with YLXDSYKOBKBWJQ-LBPRGKRZSA-N: agonist\n",
      "715: (5OM4) adenosine receptor a2a in complex with ZHUZHTHIEMXLRA-UHFFFAOYSA-N: antagonist\n",
      "717: (4NTJ) p2y purinoceptor 12 in complex with NEMHKCNXXRQYRF-UHFFFAOYSA-N: antagonist\n",
      "719: (6DRX) 5ht2b receptor in complex with BKRGVLQUQGGVSM-KBXCAEBGSA-N: inverse agonist\n",
      "721: (6FKB) rhodopsin in complex with FYEGABNDKDAYPJ-UHFFFAOYSA-N: unknown\n",
      "723: (5T04) neurotensin receptor type 1 in complex with arg-arg-pro-tyr-ile-leu: agonist\n",
      "725: (4EJ4) delta-type opioid receptor in complex with WIYUZYBFCWCCQJ-IFKAHUTRSA-N: antagonist\n",
      "727: (5WS3) orexin receptor type 2 in complex with KJPHTXTWFHVJIG-UHFFFAOYSA-N: antagonist\n",
      "729: (5F8U) beta-1 adrenergic receptor in complex with CQEFAUFOQSCRMZ-LBPRGKRZSA-N: antagonist\n",
      "731: (6HLO) substance-p receptor in complex with ATALOFNDEOCMKK-OITMNORJSA-N: antagonist\n",
      "733: (6FKA) rhodopsin in complex with QFUKMLGGPINITQ-FQEVSTJZSA-N: unknown\n",
      "735: (5T1A) chimera protein of cc chemokine receptor type 2 isoform b and t4-lysozyme in complex with VQNLJXWZGVRLBA-MRXNPFEDSA-N: allosteric_antagonist\n",
      "739: (6RZ4) cysteinyl leukotriene receptor 1 in complex with pranlukast: antagonist\n",
      "745: (6TPJ) hypocretin receptor-2 in complex with JYTNQNCOQXFQPK-MRXNPFEDSA-N: antagonist\n",
      "752: (6PS5) fusion protein of beta-2 adrenergic receptor and t4 lysozyme in complex with 1-(ISOPROPYLAMINO)-3-(1-NAPHTHYLOXY)-2-PROPANOL: inverse agonist\n",
      "737: (6TQ7) orexin receptor type 1 in complex with AKMNUCBQGHFICM-UHFFFAOYSA-N: antagonist\n",
      "757: (3C9M) rhodopsin in complex with Lysine-Retinol: unknown\n",
      "754: (6AQF) adenosine receptor a2a in complex with PWTBZOIUWZOPFT-UHFFFAOYSA-N: antagonist\n",
      "760: (6TP4) orexin receptor type 1 in complex with NHPQGZOBHSVTAQ-IBGZPJMESA-N: antagonist\n",
      "749: (6M9T) prostaglandin e2 receptor ep3 subtype in complex with CNWGPXZGIIOYDL-AGRNYGATSA-N: agonist\n",
      "764: (6PS1) fusion protein of beta-2 adrenergic receptor and t4 lysozyme in complex with BLJRIMJGRPQVNF-JTQLQIEISA-N: antagonist\n",
      "766: (5KW2) free fatty acid receptor 1 in complex with RJZJYKXHTPUHAO-HKBQPEDESA-N: allosteric agonist\n",
      "768: (4XES) neurotensin receptor type 1 in complex with neurotensin/neuromedin n: agonist\n",
      "770: (5X7D) chimera protein of beta-2 adrenergic receptor and lysozyme in complex with BQXQGZPYHWWCEB-ZDUSSCGKSA-N: antagonist\n",
      "774: (5UIG) adenosine receptor a2a in complex with UJHUYWLZLDBDSR-UHFFFAOYSA-N: antagonist\n",
      "786: (2YCZ) beta-1 adrenergic receptor in complex with JBLUMBNIBNHRSO-JTQLQIEISA-N: antagonist\n",
      "790: (6RZ8) cysteinyl leukotriene receptor 2 in complex with FRDYFKGGRISGHW-VWLOTQADSA-N: unknown\n",
      "794: (5TZR) free fatty acid receptor 1 in complex with CODQKEMYZZKQAE-QPVYNBJUSA-N: partial agonist\n",
      "796: (6ME6) melatonin receptor type 1b in complex with OFCLARYYBGKCHN-UHFFFAOYSA-N: agonist\n",
      "800: (6GPX) c-c chemokine receptor type 2 in complex with MTMDXAIUENDNDL-RJSMDTJLSA-O: antagonist\n",
      "802: (6A94) 5-hydroxytryptamine receptor 2a in complex with HDOZVRUNCMBHFH-UHFFFAOYSA-N: antagonist\n",
      "782: (6J21) substance-p receptor in complex with ATALOFNDEOCMKK-OITMNORJSA-N: antagonist\n",
      "778: (6FK9) rhodopsin in complex with RWIUNGUJHWADDD-FQEVSTJZSA-N: unknown\n",
      "784: (5NM2) adenosine receptor a2a in complex with PWTBZOIUWZOPFT-UHFFFAOYSA-N: antagonist\n",
      "788: (6K1Q) endothelin b receptor in complex with UZDORQWMYRRLQV-JHOUSYSJSA-N: antagonist\n",
      "804: (6ME4) chimera protein of melatonin receptor type 1a and glga glycogen synthase in complex with FJDDSMSDZHURBJ-UHFFFAOYSA-N: agonist\n",
      "806: (6RZ7) cysteinyl leukotriene receptor 2 in complex with JCUVQOJHURMRKB-SANMLTNESA-N: antagonist\n",
      "810: (5TE5) rhodopsin in complex with QLEXUFWJSPRFOP-LCYNHIKNSA-N: unknown\n",
      "808: (6ME5) chimera protein of melatonin receptor type 1a and glga glycogen synthase in complex with ~{N}-[2-(7-methoxynaphthalen-1-yl)ethyl]ethanamide: agonist\n",
      "812: (6DRZ) 5ht2b receptor in complex with KPJZHOPZRAFDTN-ZRGWGRIASA-N: antagonist\n",
      "814: (5OLZ) adenosine receptor a2a in complex with ZHUZHTHIEMXLRA-UHFFFAOYSA-N: antagonist\n",
      "818: (6ME9) melatonin receptor type 1b in complex with YLXDSYKOBKBWJQ-LBPRGKRZSA-N: agonist\n",
      "820: (4NC3) chimera protein of human 5-hydroxytryptamine receptor 2b and e. coli soluble cytochrome b562 in complex with Ergotamine: agonist\n",
      "826: (6RZ6) cysteinyl leukotriene receptor 2 in complex with JCUVQOJHURMRKB-SANMLTNESA-N: antagonist\n",
      "828: (6ZDV) adenosine receptor a2a in complex with NVGMNXGIQPMJSN-UHFFFAOYSA-N: antagonist\n",
      "822: (6TOS) orexin receptor type 1 in complex with TWCRHJLMMAYSTE-ZFWWWQNUSA-N: antagonist\n",
      "830: (6PS4) fusion protein of beta-2 adrenergic receptor and t4 lysozyme in complex with VFIDUCMKNJIJTO-XJKSGUPXSA-N: inverse agonist\n",
      "832: (5WIV) d(4) dopamine receptor in complex with Nemonapride: antagonist\n",
      "834: (6TQ9) orexin receptor type 1 in complex with JTARFZSNUAGHRB-UHFFFAOYSA-N: unknown\n",
      "836: (5UVI) adenosine receptor a2a in complex with PWTBZOIUWZOPFT-UHFFFAOYSA-N: agonist\n",
      "839: (6LUQ) chimera of d(2) dopamine receptor and endolysin in complex with LNEPOXFFQSENCJ-UHFFFAOYSA-N: antagonist\n",
      "841: (6FK8) rhodopsin in complex with WRVOICVPIQQYTO-LIRRHRJNSA-N: unknown\n",
      "847: (5TVN) chimera protein of human 5-hydroxytryptamine receptor 2b and e. coli soluble cytochrome b562 in complex with VAYOSLLFUXYJDT-RDTXWAMCSA-N: agonist\n",
      "845: (5WQC) orexin receptor type 2 in complex with KJPHTXTWFHVJIG-UHFFFAOYSA-N: antagonist\n",
      "849: (6A93) 5-hydroxytryptamine receptor 2a in complex with RAPZEAPATHNIPO-UHFFFAOYSA-N: inverse agonist\n",
      "851: (6HLL) substance-p receptor in complex with DTQNEFOKTXXQKV-HKUYNNGSSA-N: antagonist\n",
      "854: (5K2B) adenosine receptor a2a/soluble cytochrome b562 chimera in complex with PWTBZOIUWZOPFT-UHFFFAOYSA-N: antagonist\n",
      "858: (5OM1) adenosine receptor a2a in complex with ZHUZHTHIEMXLRA-UHFFFAOYSA-N: antagonist\n",
      "856: (6E59)  substance-p receptor chimera in complex with USRYEHHMJIRICK-ZNZBMKLDSA-N: antagonist\n",
      "860: (6TQ6) orexin receptor type 1 in complex with LWKUASRJTUZHSJ-UHFFFAOYSA-N: antagonist\n",
      "862: (6RZ5) cysteinyl leukotriene receptor 1 in complex with zafirlukast: antagonist\n",
      "864: (6PS2) fusion protein of beta-2 adrenergic receptor and t4 lysozyme in complex with PAZJSJFMUHDSTF-AWEZNQCLSA-N: antagonist\n",
      "870: (6TP6) orexin receptor type 1 in complex with NPFDWHQSDBWQLH-QZTJIDSGSA-N: antagonist\n",
      "873: (5DYS) rhodopsin in complex with Lysine-Retinol: unknown\n",
      "866: (6TPG) hypocretin receptor-2 in complex with KJPHTXTWFHVJIG-UHFFFAOYSA-N: antagonist\n",
      "875: (6TOT) orexin receptor type 1 in complex with MUGXRYIUWFITCP-PGRDOPGGSA-N: antagonist\n",
      "879: (4XT3) g-protein coupled receptor homolog us28 in complex with fractalkine: agonist\n",
      "881: (4BUO) neurotensin receptor type 1 in complex with GLYCINE: unknown\n",
      "885: (6D27) prostaglandin d2 receptor 2 in complex with CANCTKXGRVNXFP-OAHLLOKOSA-N: antagonist\n",
      "891: (5UNG) chimera protein of type-2 angiotensin ii receptor and soluble cytochrome b562 in complex with KDPHUUTUDFDLBT-UHFFFAOYSA-N: antagonist\n",
      "895: (1GZM) rhodopsin in complex with Lysine-Retinol: unknown\n",
      "887: (5XPR) endothelin b receptor in complex with GJPICJJJRGTNOD-UHFFFAOYSA-N: antagonist\n",
      "897: (5XRA) cannabinoid receptor 1 in complex with SZDVFUZKFPGYEK-WOJBJXKFSA-N: agonist\n",
      "903: (6TPN) orexin receptor type 2 in complex with SUQZCEUKWPKXEE-UHFFFAOYSA-N: antagonist\n",
      "905: (5ZBH) neuropeptide y receptor type 1 in complex with WMYSXJSJXZFODY-UHFFFAOYSA-N: antagonist\n",
      "901: (3C9L) rhodopsin in complex with Lysine-Retinol: unknown\n",
      "917: (5UNF) chimera protein of type-2 angiotensin ii receptor and soluble cytochrome b562 in complex with KDPHUUTUDFDLBT-UHFFFAOYSA-N: antagonist\n",
      "899: (5UIW) c-c chemokine receptor type 5 in complex with c-c motif chemokine 5: antagonist\n",
      "915: (6TOD) orexin receptor type 1 in complex with KJPHTXTWFHVJIG-UHFFFAOYSA-N: antagonist\n",
      "911: (6J20) substance-p receptor in complex with ATALOFNDEOCMKK-OITMNORJSA-N: antagonist\n",
      "909: (5V54) 5-hydroxytryptamine receptor 1b in complex with RLJFTICUTYVZDG-SFHVURJKSA-N: antagonist\n",
      "913: (6FK7) rhodopsin in complex with GYIGPNZLXGKQBD-KUHUBIRLSA-N: unknown\n",
      "919: (6DRY) 5ht2b receptor in complex with UNBRKDKAWYKMIV-QWQRMKEZSA-N: agonist\n",
      "921: (5O9H) c5a anaphylatoxin chemotactic receptor 1 in complex with ITACCRHKSPSKKL-UHFFFAOYSA-N: inverse agonist\n",
      "927: (6PS3) fusion protein of beta-2 adrenergic receptor and t4 lysozyme in complex with OGHNVEJMJSYVRP-KRWDZBQOSA-N: antagonist\n",
      "923: (5OLG) adenosine receptor a2a in complex with PWTBZOIUWZOPFT-UHFFFAOYSA-N: antagonist\n",
      "940: (5UNH) type-2 angiotensin ii receptor in complex with SYDVEZUPFQXMSM-UHFFFAOYSA-N: antagonist\n",
      "925: (6CM4) d(2) dopamine receptor in complex with RAPZEAPATHNIPO-UHFFFAOYSA-N: antagonist\n",
      "931: (5OLH) adenosine receptor a2a in complex with HQSBCDPYXDGTCL-UHFFFAOYSA-N: antagonist\n",
      "936: (6TO7) orexin receptor type 1 in complex with JYTNQNCOQXFQPK-MRXNPFEDSA-N: antagonist\n",
      "929: (5TZY) free fatty acid receptor 1 in complex with ADYYYLTWZYYGNX-LJYIQKJHSA-N: partial agonist\n",
      "944: (6FK6) rhodopsin in complex with UDAMUOKENMUCKG-FQEVSTJZSA-N: unknown\n",
      "946: (6ME8) melatonin receptor type 1b in complex with OFCLARYYBGKCHN-UHFFFAOYSA-N: agonist\n",
      "938: (6HLP) substance-p receptor in complex with WAXQNWCZJDTGBU-UHFFFAOYSA-N: antagonist\n",
      "950: (5K2D) adenosine receptor a2a/soluble cytochrome b562 chimera in complex with PWTBZOIUWZOPFT-UHFFFAOYSA-N: antagonist\n",
      "954: (5NM4) adenosine receptor a2a in complex with PWTBZOIUWZOPFT-UHFFFAOYSA-N: antagonist\n",
      "952: (6PS6) fusion protein of beta-2 adrenergic receptor and t4 lysozyme in complex with BLJRIMJGRPQVNF-JTQLQIEISA-N: antagonist\n",
      "958: (5X33) ltb4 receptor in complex with MBLJFKQACMILLC-UHFFFAOYSA-N: antagonist\n",
      "956: (6KPC) cannabinoid receptor 2 in complex with JCIYJYHFBBXSBF-HMXCVIKNSA-N: agonist\n",
      "965: (5X93) endothelin b receptor in complex with MTNFANNLCUMCNB-UHFFFAOYSA-N: antagonist\n",
      "963: (5D6L) beta-2 adrenergic receptor in complex with BQXQGZPYHWWCEB-ZDUSSCGKSA-N: antagonist\n",
      "960: (6DS0) 5ht2b receptor in complex with NJLHHCITDFZZSE-KRWDZBQOSA-N: antagonist\n",
      "978: (5NDD) proteinase-activated receptor 2 in complex with IDFPQEHZYBXIFO-LBPRGKRZSA-N: antagonist\n",
      "976: (5OLO) adenosine receptor a2a in complex with XNBRWUQWSKXMPW-UHFFFAOYSA-N: antagonist\n",
      "980: (6PRZ) fusion protein of beta-2 adrenergic receptor and t4 lysozyme in complex with PAZJSJFMUHDSTF-AWEZNQCLSA-N: antagonist\n",
      "967: (6TQ4) orexin receptor type 1 in complex with KIKWLYIDCILHAP-UHFFFAOYSA-N: antagonist\n",
      "971: (4GBR) beta-2 adrenergic receptor in complex with BQXQGZPYHWWCEB-ZDUSSCGKSA-N: agonist\n",
      "982: (6MH8) adenosine receptor a2a in complex with PWTBZOIUWZOPFT-UHFFFAOYSA-N: antagonist\n",
      "985: (6D26) prostaglandin d2 receptor 2 in complex with fevipiprant: antagonist\n",
      "988: (5MZP) adenosine receptor a2a in complex with CAFFEINE: antagonist\n",
      "990: (5ZK3) muscarinic acetylcholine receptor m2 in complex with HGMITUYOCPPQLE-IBGZPJMESA-N: antagonist\n",
      "992: (5NLX) adenosine receptor a2a in complex with PWTBZOIUWZOPFT-UHFFFAOYSA-N: antagonist\n",
      "997: (6LRY) endothelin receptor type b in complex with sarafotoxin-b: agonist\n",
      "994: (6ME7) melatonin receptor type 1b in complex with OFCLARYYBGKCHN-UHFFFAOYSA-N: agonist\n",
      "1002: (6KQI) cannabinoid receptor 1 in complex with AHFZDNYNXFMRFQ-UHFFFAOYSA-N: allosteric modulator\n",
      "999: (5K2C) adenosine receptor a2a/soluble cytochrome b562 chimera in complex with PWTBZOIUWZOPFT-UHFFFAOYSA-N: antagonist\n",
      "1001: (6JZH) adenosine receptor a2a in complex with PWTBZOIUWZOPFT-UHFFFAOYSA-N: antagonist\n",
      "1008: (6PS8) fusion protein of melatonin receptor type 1a and glga glycogen synthase in complex with OFCLARYYBGKCHN-UHFFFAOYSA-N: agonist\n",
      "1012: (5VRA) adenosine receptor a2a in complex with PWTBZOIUWZOPFT-UHFFFAOYSA-N: antagonist\n",
      "1010: (5WF6) human a2a adenosine receptor t4l chimera in complex with ZOTHAEBAWXWVID-HXEFRTELSA-N: agonist\n",
      "1014: (6PS7) adenosine receptor a2a in complex with PWTBZOIUWZOPFT-UHFFFAOYSA-N: antagonist\n",
      "1006: (5WIU) d(4) dopamine receptor in complex with Nemonapride: agonist\n",
      "1017: (5OLV) adenosine receptor a2a in complex with KEUJAGGJGBWRFC-UHFFFAOYSA-N: antagonist\n",
      "1016: (6IGK) endothelin receptor type b in complex with endothelin-3: agonist\n",
      "1021: (5K2A) adenosine receptor a2a/soluble cytochrome b562 chimera in complex with PWTBZOIUWZOPFT-UHFFFAOYSA-N: antagonist\n",
      "1019: (5NDZ) proteinase-activated receptor 2 in complex with FJAOGFGHTPYADT-SFHVURJKSA-N: antagonist\n",
      "1025: (5ZKP) platelet-activating factor receptor in complex with VVBFISAUNSXQGZ-UHFFFAOYSA-N: antagonist\n",
      "1027: (6AK3) prostaglandin e2 receptor ep3 subtype in complex with XEYBRNLFEZDVAW-ARSRFYASSA-N: agonist\n",
      "1029: (5ZKB) muscarinic acetylcholine receptor m2 in complex with MZDYABXXPZNUCT-NRFANRHFSA-N: antagonist\n",
      "1033: (6ZDR) adenosine receptor a2a in complex with FVMKJEVPLWCLMC-UHFFFAOYSA-N: antagonist\n",
      "1040: (5ZBQ) neuropeptide y receptor type 1 in complex with VQHNWOOVOKYJNL-HHHXNRCGSA-N: antagonist\n",
      "1042: (6KNM) Apelin receptor in complex with single domain antibody JN241: unknown\n",
      "1044: (6IIU) Thromboxane A2 receptor in complex with ramatroban: antagonist\n",
      "1062: (5VBL) Apelin receptor in complex with agonist peptide: agonist\n",
      "1064: (6IGL) Endothelin receptor type B in complex with IRL 1620: agonist\n",
      "1076: (6IIV) Thromboxane A2 receptor in complex with Daltroban: antagonist\n",
      "1089: (6OL9) M5 muscarinic acetylcholine receptor in complex with tiotropium: no dcd or xtc file\n",
      "1081: (6LW5) 6LW5 in complex with WKYMVm: agonist\n",
      "1093: (6OL9) M5 muscarinic acetylcholine receptor in complex with tiotropium: no dcd or xtc file\n",
      "1094: (6OL9) M5 muscarinic acetylcholine receptor in complex with tiotropium: inverse agonist\n",
      "1095: (6AKX) Chemokine Receptor CCR5 in complex with compound 21: antagonist\n",
      "1096: (5ZK8) M2 muscarinic acetylcholine receptor in complex with NMS: antagonist\n",
      "1097: (5N2S) A1 receptor in complex with PSB36: antagonist\n",
      "1098: (5MZJ) A2A adenosine receptor in complex with theophylline: antagonist\n",
      "1100: (6C1R) 6C1R in complex with PMX53: no dcd or xtc file\n",
      "1105: (6WHA) 5-hydroxytryptamine receptor 2a chimera in complex with RLDFVSFNVOLFEU-UHFFFAOYSA-N: no dcd or xtc file\n",
      "1106: (6WHA) 5-hydroxytryptamine receptor 2a chimera in complex with RLDFVSFNVOLFEU-UHFFFAOYSA-N: no dcd or xtc file\n",
      "1107: (6WHA) 5-hydroxytryptamine receptor 2a chimera in complex with GPZRBKWRRKBOAC-UHFFFAOYSA-N: no dcd or xtc file\n",
      "1109: (6WHA) 5-hydroxytryptamine receptor 2a chimera in complex with CEAJEPCUIFNTFN-UHFFFAOYSA-N: no dcd or xtc file\n",
      "1110: (6WHA) 5-hydroxytryptamine receptor 2a chimera in complex with ZURXROHPCVOMGH-UHFFFAOYSA-N: no dcd or xtc file\n",
      "1111: (6WHA) 5-hydroxytryptamine receptor 2a chimera in complex with ZURXROHPCVOMGH-UHFFFAOYSA-N: no dcd or xtc file\n",
      "1108: (6WHA) 5-hydroxytryptamine receptor 2a chimera in complex with GPZRBKWRRKBOAC-UHFFFAOYSA-N: no dcd or xtc file\n",
      "1124: (6AKY) Chemokine Receptor CCR5 in complex with compound 34: antagonist\n",
      "1123: (5N2R) A2A adenosine receptor in complex with PSB36: antagonist\n",
      "1125: (5ZHP) M3 muscarinic acetylcholine receptor in complex with a selective antagonist: antagonist\n",
      "1127: (5YC8) M2 muscarinic acetylcholine receptor bound with NMS: antagonist\n",
      "1128: (6WHA) 5-hydroxytryptamine receptor 2a chimera in complex with CEAJEPCUIFNTFN-UHFFFAOYSA-N: no dcd or xtc file\n",
      "1130: (6OBA) beta-2 adrenergic receptor in complex with 6-bromo-N~2~-phenylquinazoline-2,4-diamine: negative allosteric modulator\n",
      "261 of 305 (85.57%)\n",
      "1131: (6C1Q) C5a receptor in complex with an orthosteric antagonist PMX53 and an allosteric antagonist NDT9513727: no dcd or xtc file\n",
      "1126: (5ZKC) M2 muscarinic acetylcholine receptor in complex with  with NMS: antagonist\n",
      "262 of 305 (85.90%)\n",
      "1137: (6KQI) cannabinoid receptor 1 in complex with AHFZDNYNXFMRFQ-UHFFFAOYSA-N: no dcd or xtc file\n",
      "1139: (6LI0) chimera of g-protein coupled receptor 52 and flavodoxin in complex with VJMRKWPMFQGIPI-UHFFFAOYSA-N: no dcd or xtc file\n",
      "1140: (6WHA) 5-hydroxytryptamine receptor 2a chimera in complex with ceajepcuifntfn-uhfffaoysa-n: no dcd or xtc file\n",
      "1141: (6WHA) 5-hydroxytryptamine receptor 2a chimera (S5.46A) in complex with CEAJEPCUIFNTFN-UHFFFAOYSA-N: no dcd or xtc file\n",
      "1142: (6WHA) 5-hydroxytryptamine receptor 2a chimera in complex with GPZRBKWRRKBOAC-UHFFFAOYSA-N: no dcd or xtc file\n",
      "1143: (6WHA) 5-hydroxytryptamine receptor 2a (mutantS5.46) chimera in complex with GPZRBKWRRKBOAC-UHFFFAOYSA-N: no dcd or xtc file\n",
      "1144: (6WHA) 5-hydroxytryptamine receptor 2a chimera in complex with RLDFVSFNVOLFEU-UHFFFAOYSA-N: no dcd or xtc file\n",
      "1146: (6WHA) 5-hydroxytryptamine receptor 2a chimera in complex with ZURXROHPCVOMGH-UHFFFAOYSA-N: no dcd or xtc file\n",
      "1147: (6WHA) 5-hydroxytryptamine receptor 2a chimera (S5.46A) in complex with ZURXROHPCVOMGH-UHFFFAOYSA-N: no dcd or xtc file\n",
      "1150: (6A93) 5-hydroxytryptamine receptor 2a in complex with Aripiprazole: no dcd or xtc file\n",
      "1145: (6WHA) 5-hydroxytryptamine receptor 2a (S5.46A) chimera in complex with RLDFVSFNVOLFEU-UHFFFAOYSA-N: no dcd or xtc file\n",
      "1151: (6A93) 5-hydroxytryptamine receptor 2a in complex with Clozapine: no dcd or xtc file\n",
      "1152: (6A93) 5-hydroxytryptamine receptor 2a in complex with Cariprazine: no dcd or xtc file\n",
      "1153: (6A93) 5-hydroxytryptamine receptor 2a in complex with doi: no dcd or xtc file\n",
      "1154: (6A93) 5-hydroxytryptamine receptor 2a in complex with doi: no dcd or xtc file\n",
      "1155: (6A93) 5-hydroxytryptamine receptor 2a in complex with haloperidole: no dcd or xtc file\n",
      "1156: (6A93) 5-hydroxytryptamine receptor 2a in complex with MetI: no dcd or xtc file\n",
      "1157: (6A93) 5-hydroxytryptamine receptor 2a in complex with NitroI: no dcd or xtc file\n",
      "1159: (6A93) 5-hydroxytryptamine receptor 2a in complex with Risperidone: no dcd or xtc file\n",
      "1160: (6A93) 5-hydroxytryptamine receptor 2a in complex with Serotonine: no dcd or xtc file\n",
      "1175: (6WGT) 6WGT_complex: no dcd or xtc file\n",
      "1167: (2RH1) Carvedilol: no dcd or xtc file\n",
      "1176: (7WC7) 7WC7_complex: no dcd or xtc file\n",
      "1199: (6GDG) Adenosine A2A receptor in complex with miniGs protein: no dcd or xtc file\n",
      "1158: (6A93) 5-hydroxytryptamine receptor 2a in complex with Olanzapine: no dcd or xtc file\n",
      "1215: (6GDG) Adenosine A2A receptor in complex with miniGs protein: no dcd or xtc file\n",
      "1214: (6WHA) HTR2A in complex with mini-Galpha-q protein: no dcd or xtc file\n",
      "1238: (XXXX) CaseStudy - InserveAgonist: inverse agonist\n",
      "263 of 305 (86.23%)\n",
      "1244: (8F76) OR51E2: no dcd or xtc file\n",
      "1245: (8F76) OR51E2 with propionate acid: no dcd or xtc file\n",
      "1247: (6E67) B2AR-ICL3: no dcd or xtc file\n",
      "1259: (4IAQ) test: no dcd or xtc file\n",
      "1246: (8F76) OR51E2-Q181D with propionate acid: no dcd or xtc file\n",
      "1277: (4IAR) Test: no dcd or xtc file\n",
      "1317: (6A93) ketansterine - 5HT2A complex: no dcd or xtc file\n",
      "1284: (6OS0) AT1R bound to AngII: no dcd or xtc file\n"
     ]
    }
   ],
   "source": [
    "# label the ids with the kind of ligands\n",
    "\n",
    "# iterate trhough all the key value pairs in model_name_dict\n",
    "\n",
    "for dynid, (model_name, pdbid) in model_name_dict.items():\n",
    "\n",
    "    # check if dynid is in the data/raw/lig_type/ folder and has a xtc or dcd file inside\n",
    "    dcds = glob(f\"data/raw/lig_type/{dynid}/*.dcd\")\n",
    "    xtcs = glob(f\"data/raw/lig_type/{dynid}/*.xtc\")\n",
    "    if len(dcds) == 0 and len(xtcs) == 0:\n",
    "        print(f\"{dynid}: ({pdbid}) {model_name}: no dcd or xtc file\")\n",
    "        continue\n",
    "\n",
    "    # check if dynid is in dyn_ligtype_dict\n",
    "    if dynid in dyn_ligtype_dict:\n",
    "        ligand_type = dyn_ligtype_dict[dynid]\n",
    "        print(f\"{dynid}: ({pdbid}) {model_name}: {ligand_type}\")\n",
    "        continue\n",
    "    \n",
    "    # print the dynid and the model name\n",
    "    print(f\"{dynid}: ({pdbid}) {model_name}: \", end=\"\")\n",
    "    # wait one moment\n",
    "    time.sleep(0.5)\n",
    "    # ask the user for the ligand type giving three options agonist, antagonist and inverse agonist\n",
    "    # the user only inputs 1, 2 or 3, 4 for unknown\n",
    "\n",
    "    list_of_options = [\"agonist\", \"antagonist\", \"inverse agonist\", \"unknown\",\n",
    "                        \"allosteric inhibitor\", \"biased agonist\", \"partial agonist\",\n",
    "                          \"allosteric antagonist\", \"allosteric agonist\", \"allosteric modulator\",\n",
    "                          \"negative allosteric modulator\", \"positive allosteric modulator\"]\n",
    "    \n",
    "    input_string = \"\\n\".join([f\"{i+1}. {option}\" for i, option in enumerate(list_of_options)])\n",
    "\n",
    "    while True:\n",
    "        ligand_type = input(input_string)\n",
    "        # convert the input to int\n",
    "        ligand_type = int(ligand_type)\n",
    "        # check if the input is valid\n",
    "        if ligand_type not in range(1, len(list_of_options)+1):\n",
    "            print(\"Invalid input\")\n",
    "        else:\n",
    "            break\n",
    "\n",
    "    # assert if ligand_type is in range\n",
    "    assert ligand_type in range(1, len(list_of_options)+1), \"ligand_type is not in range\"\n",
    "    # convert answer to string\n",
    "    ligand_type = list_of_options[ligand_type-1]\n",
    "\n",
    "    print(ligand_type)\n",
    "\n",
    "    # add answer to a dictionary\n",
    "    dyn_ligtype_dict[dynid] = ligand_type\n",
    "    \n",
    "    # save dyn_ligtype_dict to a json file\n",
    "    with open(\"data/processed/dyn_ligtype_dict.json\", \"w\") as f:\n",
    "        json.dump(dyn_ligtype_dict, f)\n",
    "\n",
    "    # print the progress of the loop\n",
    "    print(f\"{len(dyn_ligtype_dict)} of {len(model_name_dict)} ({len(dyn_ligtype_dict)/len(model_name_dict)*100:.2f}%)\")"
   ]
  },
  {
   "cell_type": "markdown",
   "metadata": {},
   "source": []
  },
  {
   "cell_type": "code",
   "execution_count": 52,
   "metadata": {},
   "outputs": [
    {
     "data": {
      "image/png": "[encoded data removed]",
      "text/plain": [
       "<Figure size 640x480 with 1 Axes>"
      ]
     },
     "metadata": {},
     "output_type": "display_data"
    }
   ],
   "source": [
    "# plot the count of ligand types in dyn_ligtype_dict sorted by cound\n",
    "import seaborn as sns\n",
    "import matplotlib.pyplot as plt\n",
    "import pandas as pd\n",
    "\n",
    "# convert dyn_ligtype_dict to a pandas series\n",
    "ligand_types = pd.Series(dyn_ligtype_dict.values())\n",
    "# count the number of each ligand type\n",
    "ligand_types_count = ligand_types.value_counts()\n",
    "# plot the count of ligand types\n",
    "sns.barplot(x=ligand_types_count.index, y=ligand_types_count.values)\n",
    "\n",
    "\n",
    "\n",
    "# rotate the xticks\n",
    "plt.xticks(rotation=45, ha=\"right\")\n",
    "plt.show()"
   ]
  },
  {
   "cell_type": "code",
   "execution_count": 70,
   "metadata": {},
   "outputs": [],
   "source": [
    "# save dyn_ligtype_dict to a json file\n",
    "with open(\"data/processed/dyn_ligtype_dict.json\", \"w\") as f:\n",
    "    json.dump(dyn_ligtype_dict, f)\n"
   ]
  },
  {
   "cell_type": "markdown",
   "metadata": {},
   "source": [
    "## suspicious suff\n",
    "- 176 paminereg not appears in the article, NMS instead\n",
    "- 199 morphine not appear in the pdb BU72 instead\n",
    "- 201 oliceridine not in pdb, BU72 instead\n",
    "\n",
    "## defective idsm\n",
    "- 146 (no complex in name)\n",
    "- 160 (typo in ligand)\n",
    "- 167 (no complex in name)\n",
    "- 218 (no ligand in name)\n",
    "- 841 has inchi key instead of haloperidol\n",
    "- 927 has inchi instead of carvedilol\n",
    "- 925 has inchi instead of risperidone\n",
    "- 931 has inchi instead of vipadenant\n",
    "- 1100 has the pdb code instead of the receptor\n",
    "\n"
   ]
  },
  {
   "cell_type": "code",
   "execution_count": 55,
   "metadata": {},
   "outputs": [
    {
     "name": "stdout",
     "output_type": "stream",
     "text": [
      "15, 16, 206, 212, 221, 223, 222, 227, 228, 229, 230, 1089, 1093, 1100, 1105, 1106, 1107, 1109, 1110, 1111, 1108, 1128, 1131, 1137, 1139, 1140, 1141, 1142, 1143, 1144, 1146, 1147, 1150, 1145, 1151, 1152, 1153, 1154, 1155, 1156, 1157, 1159, 1160, 1175, 1167, 1176, 1199, 1158, 1215, 1214, 1244, 1245, 1247, 1259, 1246, 1277, 1317, 1284\n"
     ]
    }
   ],
   "source": [
    "no_sim_list = []\n",
    "for dynid, (model_name, pdbid) in model_name_dict.items():\n",
    "\n",
    "    # check if dynid is in the data/raw/lig_type/ folder and has a xtc or dcd file inside\n",
    "    dcds = glob(f\"data/raw/lig_type/{dynid}/*.dcd\")\n",
    "    xtcs = glob(f\"data/raw/lig_type/{dynid}/*.xtc\")\n",
    "    if len(dcds) == 0 and len(xtcs) == 0:\n",
    "        no_sim_list.append(str(dynid))\n",
    "\n",
    "print(\", \".join(no_sim_list))"
   ]
  },
  {
   "cell_type": "markdown",
   "metadata": {},
   "source": [
    "# Get resname from simulation"
   ]
  },
  {
   "cell_type": "code",
   "execution_count": 12,
   "metadata": {},
   "outputs": [],
   "source": [
    "from glob import glob\n",
    "import MDAnalysis as mda\n",
    "import os\n",
    "\n",
    "os.chdir(\"/home/adri/Projects/phd/pipeline\")"
   ]
  },
  {
   "cell_type": "code",
   "execution_count": 13,
   "metadata": {},
   "outputs": [],
   "source": [
    "\n",
    "\n",
    "def identify_ligands(u):\n",
    "    \"\"\"\n",
    "    Identify ligands in a MDAnalysis universe `u` by eliminating common residues \n",
    "    for water, ions, and membranes, and then checking for short protein chains.\n",
    "    \"\"\"\n",
    "\n",
    "    # Identify short protein chains as ligands\n",
    "    possible_ligands = set()\n",
    "    protein_chains = u.select_atoms(\"protein\").segments\n",
    "    for seg in protein_chains:\n",
    "        # log the segment length\n",
    "        \n",
    "        if len(seg.residues) < 30:  # Let's assume a threshold of 10 residues for a short protein chain\n",
    "            possible_ligands.add(f\"{seg.segid}\")\n",
    "\n",
    "    # Exclude common water, ions, and membrane residue names.\n",
    "    common_residues = ['SOL', 'WAT', 'TIP3', 'NA', 'SOD', 'CL', 'CLA',\n",
    "                        'POP', 'POPC', 'DOPC', 'POPE', 'DOPS', 'PO4', 'CLR',\n",
    "                        'CHL', 'CHL1', 'POT', 'CYSP', 'DPPC', 'DSPC', 'SDPC',\n",
    "                         'SM18']\n",
    "\n",
    "    # Extract all unique non protein residue names from the system\n",
    "    all_residues = set([res.resname for res in u.select_atoms(\"not protein\").residues if res.segid not in possible_ligands])\n",
    "    possible_ligands.update(all_residues - set(common_residues))\n",
    "\n",
    "    return possible_ligands\n"
   ]
  },
  {
   "cell_type": "code",
   "execution_count": 14,
   "metadata": {},
   "outputs": [],
   "source": [
    "\n",
    "def load_mda_universe_from_folder(folder_path):\n",
    "    \"\"\"\n",
    "    Load a MDAnalysis universe given a folder. \n",
    "    Prioritizes .psf over .pdb for topology and .xtc over .dcd for trajectory.\n",
    "    \"\"\"\n",
    "\n",
    "    # Prioritization orders\n",
    "    topo_priority = {'.psf': 1, '.pdb': 3, '.top':2}\n",
    "    traj_priority = {'.xtc': 1, '.dcd': 2}\n",
    "\n",
    "    # Identify the topology file\n",
    "    topology_files = [f for f in os.listdir(folder_path) if f.endswith(tuple(topo_priority.keys()))]\n",
    "    topology_files.sort(key=lambda x: topo_priority[os.path.splitext(x)[1]])\n",
    "    topology_file = os.path.join(folder_path, topology_files[0]) if topology_files else None\n",
    "\n",
    "    if not topology_file:\n",
    "        raise ValueError(\"No suitable topology file (.psf or .pdb) found in the folder.\")\n",
    "\n",
    "    # Identify the trajectory file\n",
    "    traj_files = [f for f in os.listdir(folder_path) if f.endswith(tuple(traj_priority.keys()))]\n",
    "    traj_files.sort(key=lambda x: traj_priority[os.path.splitext(x)[1]])\n",
    "    trajectory_file = os.path.join(folder_path, traj_files[0]) if traj_files else None\n",
    "\n",
    "    if not trajectory_file:\n",
    "        raise ValueError(\"No suitable trajectory file (.xtc or .dcd) found in the folder.\")\n",
    "\n",
    "    # Load the universe\n",
    "    u = mda.Universe(topology_file, trajectory_file)\n",
    "    return u"
   ]
  },
  {
   "cell_type": "code",
   "execution_count": 15,
   "metadata": {},
   "outputs": [
    {
     "name": "stdout",
     "output_type": "stream",
     "text": [
      "707: data/raw/simulations/707: {'DLB'}\n",
      "\n",
      "40: data/raw/simulations/40: {'T4G'}\n",
      "\n",
      "988: data/raw/simulations/988: {'CFF'}\n",
      "\n",
      "745: data/raw/simulations/745: {'SUV'}\n",
      "\n",
      "1006: data/raw/simulations/1006: {'AQD'}\n",
      "\n",
      "729: data/raw/simulations/729: {'P32'}\n",
      "\n",
      "841: data/raw/simulations/841: {'DNZ'}\n",
      "\n",
      "1245: 83: data/raw/simulations/83: {'TIM'}\n",
      "\n",
      "214: 830: data/raw/simulations/830: {'JRZ'}\n",
      "\n",
      "866: data/raw/simulations/866: {'7MA'}\n",
      "\n",
      "929: data/raw/simulations/929: {'7OS', 'MK6'}\n",
      "\n",
      "60: data/raw/simulations/60: {'JDC'}\n",
      "\n",
      "207: data/raw/simulations/207: {'BUR'}\n",
      "\n",
      "715: data/raw/simulations/715: {'T4E'}\n",
      "\n",
      "70: data/raw/simulations/70: {'0NN'}\n",
      "\n",
      "703: data/raw/simulations/703: {'F9Q'}\n",
      "\n",
      "976: data/raw/simulations/976: {'9XW'}\n",
      "\n",
      "733: data/raw/simulations/733: {'DN5'}\n",
      "\n",
      "804: data/raw/simulations/804: {'ML2'}\n",
      "\n",
      "790: data/raw/simulations/790: {'KNZ'}\n",
      "\n",
      "86: data/raw/simulations/86: set()\n",
      "\n",
      "1076: data/raw/simulations/1076: {'A90'}\n",
      "\n",
      "875: data/raw/simulations/875: {'NRK'}\n",
      "\n",
      "971: data/raw/simulations/971: {'CAU'}\n",
      "\n",
      "1040: data/raw/simulations/1040: {'9AO'}\n",
      "\n",
      "788: data/raw/simulations/788: {'D2U'}\n",
      "\n",
      "954: data/raw/simulations/954: {'ZMA'}\n",
      "\n",
      "695: data/raw/simulations/695: {'9EU'}\n",
      "\n",
      "1010: data/raw/simulations/1010: {'UKA'}\n",
      "\n",
      "145: data/raw/simulations/145: {'EJ4'}\n",
      "\n",
      "963: data/raw/simulations/963: {'CAU'}\n",
      "\n",
      "860: data/raw/simulations/860: {'NVH'}\n",
      "\n",
      "999: data/raw/simulations/999: {'ZMA'}\n",
      "\n",
      "980: data/raw/simulations/980: {'JTZ'}\n",
      "\n",
      "1124: 879: data/raw/simulations/879: {'PCA'}\n",
      "\n",
      "55: data/raw/simulations/55: {'68H'}\n",
      "\n",
      "126: data/raw/simulations/126: {'D7V'}\n",
      "\n",
      "727: data/raw/simulations/727: {'7MA'}\n",
      "\n",
      "851: data/raw/simulations/851: {'GBK'}\n",
      "\n",
      "182: data/raw/simulations/182: {'2ID'}\n",
      "\n",
      "810: data/raw/simulations/810: {'COV'}\n",
      "\n",
      "766: data/raw/simulations/766: {'6XQ'}\n",
      "\n",
      "218: 828: data/raw/simulations/828: {'QGW'}\n",
      "\n",
      "1019: data/raw/simulations/1019: {'8UN'}\n",
      "\n",
      "1008: data/raw/simulations/1008: {'JEY'}\n",
      "\n",
      "913: data/raw/simulations/913: {'DO5'}\n",
      "\n",
      "997: data/raw/simulations/997: {'P1'}\n",
      "\n",
      "752: data/raw/simulations/752: {'SNP'}\n",
      "\n",
      "48: data/raw/simulations/48: {'NEC'}\n",
      "\n",
      "67: data/raw/simulations/67: {'MRV'}\n",
      "\n",
      "134: data/raw/simulations/134: {'XF5'}\n",
      "\n",
      "1098: data/raw/simulations/1098: {'TEP'}\n",
      "\n",
      "967: data/raw/simulations/967: {'NV8'}\n",
      "\n",
      "1096: data/raw/simulations/1096: {'3C0'}\n",
      "\n",
      "757: data/raw/simulations/757: {'LYR'}\n",
      "\n",
      "895: data/raw/simulations/895: {'LYR'}\n",
      "\n",
      "121: data/raw/simulations/121: {'P0G'}\n",
      "\n",
      "99: data/raw/simulations/99: {'JSZ'}\n",
      "\n",
      "190: data/raw/simulations/190: {'OLM'}\n",
      "\n",
      "164: data/raw/simulations/164: {'7DY'}\n",
      "\n",
      "839: data/raw/simulations/839: {'GMJ'}\n",
      "\n",
      "57: data/raw/simulations/57: {'CAU'}\n",
      "\n",
      "1001: data/raw/simulations/1001: {'ZMA'}\n",
      "\n",
      "29: data/raw/simulations/29: {'68H'}\n",
      "\n",
      "691: data/raw/simulations/691: {'KO5'}\n",
      "\n",
      "854: data/raw/simulations/854: {'ZMA'}\n",
      "\n",
      "106: data/raw/simulations/106: {'ETQ'}\n",
      "\n",
      "822: data/raw/simulations/822: {'NRE'}\n",
      "\n",
      "731: data/raw/simulations/731: {'GBQ'}\n",
      "\n",
      "1002: data/raw/simulations/1002: {'9GL', '9GF'}\n",
      "\n",
      "169: data/raw/simulations/169: {'4VO'}\n",
      "\n",
      "19: data/raw/simulations/19: {'WHJ'}\n",
      "\n",
      "199: data/raw/simulations/199: {'MOR'}\n",
      "\n",
      "109: data/raw/simulations/109: {'5EH'}\n",
      "\n",
      "899: data/raw/simulations/899: {'PCA'}\n",
      "\n",
      "4: "
     ]
    },
    {
     "name": "stderr",
     "output_type": "stream",
     "text": [
      "/home/adri/.virtualenvs/bias/lib/python3.10/site-packages/MDAnalysis/coordinates/DCD.py:165: DeprecationWarning: DCDReader currently makes independent timesteps by copying self.ts while other readers update self.ts inplace. This behavior will be changed in 3.0 to be the same as other readers. Read more at https://github.com/MDAnalysis/mdanalysis/issues/3889 to learn if this change in behavior might affect you.\n",
      "  warnings.warn(\"DCDReader currently makes independent timesteps\"\n"
     ]
    },
    {
     "name": "stdout",
     "output_type": "stream",
     "text": [
      "data/raw/simulations/4: {'EJ4'}\n",
      "\n",
      "990: data/raw/simulations/990: {'QNB'}\n",
      "\n",
      "7: data/raw/simulations/7: set()\n",
      "\n",
      "183: data/raw/simulations/183: {'ON7'}\n",
      "\n",
      "709: data/raw/simulations/709: {'F7N'}\n",
      "\n",
      "50: data/raw/simulations/50: {'ZMA'}\n",
      "\n",
      "739: data/raw/simulations/739: {'KNT'}\n",
      "\n",
      "90: data/raw/simulations/90: {'ERM'}\n",
      "\n",
      "856: data/raw/simulations/856: {'L76'}\n",
      "\n",
      "905: data/raw/simulations/905: {'9AF'}\n",
      "\n",
      "717: data/raw/simulations/717: {'AZJ'}\n",
      "\n",
      "721: data/raw/simulations/721: {'DLH'}\n",
      "\n",
      "915: data/raw/simulations/915: {'7MA'}\n",
      "\n",
      "58: data/raw/simulations/58: {'P32'}\n",
      "\n",
      "794: data/raw/simulations/794: {'MK6'}\n",
      "\n",
      "140: data/raw/simulations/140: {'G90'}\n",
      "\n",
      "185: data/raw/simulations/185: {'ON3'}\n",
      "\n",
      "820: data/raw/simulations/820: {'ERM'}\n",
      "\n",
      "176: data/raw/simulations/176: {'3C0'}\n",
      "\n",
      "188: data/raw/simulations/188: {'4OT'}\n",
      "\n",
      "42: data/raw/simulations/42: {'T4E'}\n",
      "\n",
      "994: data/raw/simulations/994: {'JEY'}\n",
      "\n",
      "194: data/raw/simulations/194: {'0HK'}\n",
      "\n",
      "887: data/raw/simulations/887: {'K86'}\n",
      "\n",
      "117: data/raw/simulations/117: {'ALE'}\n",
      "\n",
      "927: data/raw/simulations/927: {'CVD'}\n",
      "\n",
      "46: data/raw/simulations/46: {'NGI'}\n",
      "\n",
      "697: data/raw/simulations/697: {'ZMA'}\n",
      "\n",
      "38: data/raw/simulations/38: {'CFF'}\n",
      "\n",
      "1016: data/raw/simulations/1016: {'L'}\n",
      "\n",
      "22: data/raw/simulations/22: {'7DY'}\n",
      "\n",
      "173: data/raw/simulations/173: {'0HK'}\n",
      "\n",
      "1094: data/raw/simulations/1094: {'0HK'}\n",
      "\n",
      "723: data/raw/simulations/723: {'L'}\n",
      "\n",
      "768: data/raw/simulations/768: {'L'}\n",
      "\n",
      "1027: data/raw/simulations/1027: {'P2E'}\n",
      "\n",
      "220: 737: data/raw/simulations/737: {'NVK'}\n",
      "\n",
      "885: data/raw/simulations/885: {'FT4'}\n",
      "\n",
      "1014: data/raw/simulations/1014: {'ZMA'}\n",
      "\n",
      "112: data/raw/simulations/112: {'QNB'}\n",
      "\n",
      "770: data/raw/simulations/770: {'CAU', '8VS'}\n",
      "\n",
      "800: data/raw/simulations/800: {'F7N'}\n",
      "\n",
      "133: data/raw/simulations/133: {'XF5'}\n",
      "\n",
      "80: data/raw/simulations/80: {'6AT'}\n",
      "\n",
      "923: data/raw/simulations/923: {'ZMA'}\n",
      "\n",
      "774: data/raw/simulations/774: {'8D1'}\n",
      "\n",
      "119: data/raw/simulations/119: {'MRV'}\n",
      "\n",
      "1029: data/raw/simulations/1029: {'82F'}\n",
      "\n",
      "33: data/raw/simulations/33: {'NEC'}\n",
      "\n",
      "6: data/raw/simulations/6: {'CAU'}\n",
      "\n",
      "36: data/raw/simulations/36: {'XAC'}\n",
      "\n",
      "149: data/raw/simulations/149: {'XTK'}\n",
      "\n",
      "911: data/raw/simulations/911: {'GBQ'}\n",
      "\n",
      "1025: data/raw/simulations/1025: {'9ER'}\n",
      "\n",
      "94: data/raw/simulations/94: {'ERM'}\n",
      "\n",
      "1127: 150: data/raw/simulations/150: {'XTK'}\n",
      "\n",
      "1064: data/raw/simulations/1064: {'L'}\n",
      "\n",
      "1097: data/raw/simulations/1097: {'8K8'}\n",
      "\n",
      "1130: 909: data/raw/simulations/909: {'89F'}\n",
      "\n",
      "931: data/raw/simulations/931: {'9XT'}\n",
      "\n",
      "958: data/raw/simulations/958: {'7Y9'}\n",
      "\n",
      "120: data/raw/simulations/120: {'OLM'}\n",
      "\n",
      "891: data/raw/simulations/891: {'8ES'}\n",
      "\n",
      "1238: 925: data/raw/simulations/925: {'8NU'}\n",
      "\n",
      "1125: 873: data/raw/simulations/873: {'LYR'}\n",
      "\n",
      "938: data/raw/simulations/938: {'GAW'}\n",
      "\n",
      "20: data/raw/simulations/20: {'WHJ'}\n",
      "\n",
      "725: data/raw/simulations/725: {'EJ4'}\n",
      "\n",
      "764: data/raw/simulations/764: {'TIM'}\n",
      "\n",
      "89: data/raw/simulations/89: set()\n",
      "\n",
      "181: data/raw/simulations/181: {'2ID'}\n",
      "\n",
      "187: data/raw/simulations/187: {'SUV'}\n",
      "\n",
      "836: data/raw/simulations/836: {'ZMA'}\n",
      "\n",
      "174: data/raw/simulations/174: {'0HK'}\n",
      "\n",
      "818: data/raw/simulations/818: {'JEV'}\n",
      "\n",
      "69: data/raw/simulations/69: {'IXO'}\n",
      "\n",
      "8: 124: data/raw/simulations/124: {'JTZ'}\n",
      "\n",
      "965: data/raw/simulations/965: {'K87'}\n",
      "\n",
      "693: data/raw/simulations/693: {'JEY'}\n",
      "\n",
      "956: data/raw/simulations/956: {'8D0'}\n",
      "\n",
      "167: data/raw/simulations/167: {'CVD'}\n",
      "\n",
      "782: data/raw/simulations/782: {'GBQ'}\n",
      "\n",
      "25: data/raw/simulations/25: {'5FW'}\n",
      "\n",
      "172: data/raw/simulations/172: {'SUV'}\n",
      "\n",
      "1081: data/raw/simulations/1081: {'L'}\n",
      "\n",
      "115: data/raw/simulations/115: {'XQC'}\n",
      "\n",
      "802: data/raw/simulations/802: {'ZOT'}\n",
      "\n",
      "978: data/raw/simulations/978: {'8TZ'}\n",
      "\n",
      "919: data/raw/simulations/919: {'H8D'}\n",
      "\n",
      "129: data/raw/simulations/129: {'VPX'}\n",
      "\n",
      "952: data/raw/simulations/952: {'TIM'}\n",
      "\n",
      "689: data/raw/simulations/689: {'LYR'}\n",
      "\n",
      "760: data/raw/simulations/760: {'NRZ'}\n",
      "\n",
      "847: data/raw/simulations/847: {'7LD'}\n",
      "\n",
      "26: data/raw/simulations/26: {'5FW'}\n",
      "\n",
      "936: data/raw/simulations/936: {'SUV'}\n",
      "\n",
      "982: data/raw/simulations/982: {'ZMA'}\n",
      "\n",
      "735: data/raw/simulations/735: {'VT5', '73R'}\n",
      "\n",
      "921: data/raw/simulations/921: {'9P2'}\n",
      "\n",
      "201: data/raw/simulations/201: {'TRV'}\n",
      "\n",
      "992: data/raw/simulations/992: {'ZMA'}\n",
      "\n",
      "808: data/raw/simulations/808: {'AWY'}\n",
      "\n",
      "858: data/raw/simulations/858: {'T4E'}\n",
      "\n",
      "985: data/raw/simulations/985: {'FSY'}\n",
      "\n",
      "719: data/raw/simulations/719: {'H8G'}\n",
      "\n",
      "1244: 102: data/raw/simulations/102: {'ITD'}\n",
      "\n",
      "834: data/raw/simulations/834: {'NVN'}\n",
      "\n",
      "168: data/raw/simulations/168: {'L0'}\n",
      "\n",
      "1123: 1033: data/raw/simulations/1033: {'QGE'}\n",
      "\n",
      "897: data/raw/simulations/897: {'8D3'}\n",
      "\n",
      "130: data/raw/simulations/130: {'VPX'}\n",
      "\n",
      "1017: data/raw/simulations/1017: {'9Y2'}\n",
      "\n",
      "178: data/raw/simulations/178: {'L0'}\n",
      "\n",
      "940: data/raw/simulations/940: {'8EM'}\n",
      "\n",
      "849: data/raw/simulations/849: {'8NU'}\n",
      "\n",
      "754: data/raw/simulations/754: {'ZMA'}\n",
      "\n",
      "864: data/raw/simulations/864: {'JTZ'}\n",
      "\n",
      "9: "
     ]
    },
    {
     "name": "stderr",
     "output_type": "stream",
     "text": [
      "/home/adri/.virtualenvs/bias/lib/python3.10/site-packages/MDAnalysis/topology/PDBParser.py:290: UserWarning: PDB file is missing resid information.  Defaulted to '1'\n",
      "  warnings.warn(\"PDB file is missing resid information.  \"\n"
     ]
    },
    {
     "name": "stdout",
     "output_type": "stream",
     "text": [
      "data/raw/simulations/9: {'5FW'}\n",
      "\n",
      "784: data/raw/simulations/784: {'ZMA'}\n",
      "\n",
      "960: data/raw/simulations/960: {'H8M'}\n",
      "\n",
      "10: "
     ]
    },
    {
     "name": "stderr",
     "output_type": "stream",
     "text": [
      "/home/adri/.virtualenvs/bias/lib/python3.10/site-packages/MDAnalysis/topology/PDBParser.py:373: UserWarning: Unknown entry a encountered in formal charge field. This likely indicates that the PDB file is not fully standard compliant. The formalcharges attribute will not be populated.\n",
      "  warnings.warn(wmsg)\n"
     ]
    },
    {
     "name": "stdout",
     "output_type": "stream",
     "text": [
      "data/raw/simulations/10: {'CAU'}\n",
      "\n",
      "685: data/raw/simulations/685: {'CAU'}\n",
      "\n",
      "862: data/raw/simulations/862: {'ZLK'}\n",
      "\n",
      "814: data/raw/simulations/814: {'T4E'}\n",
      "\n",
      "796: data/raw/simulations/796: {'JEY'}\n",
      "\n",
      "903: data/raw/simulations/903: {'NU8'}\n",
      "\n",
      "1126: 1044: data/raw/simulations/1044: {'A8X'}\n",
      "\n",
      "713: data/raw/simulations/713: {'JEV'}\n",
      "\n",
      "946: data/raw/simulations/946: {'JEY'}\n",
      "\n",
      "901: data/raw/simulations/901: {'LYR'}\n",
      "\n",
      "687: data/raw/simulations/687: {'UKA'}\n",
      "\n",
      "219: 123: data/raw/simulations/123: {'JRZ'}\n",
      "\n",
      "917: data/raw/simulations/917: {'8ES'}\n",
      "\n",
      "71: data/raw/simulations/71: {'L0'}\n",
      "\n",
      "881: data/raw/simulations/881: {'L'}\n",
      "\n",
      "1062: data/raw/simulations/1062: {'L'}\n",
      "\n",
      "76: data/raw/simulations/76: {'2YB'}\n",
      "\n",
      "944: data/raw/simulations/944: {'DOK'}\n",
      "\n",
      "146: data/raw/simulations/146: {'OLM'}\n",
      "\n",
      "1246: 749: data/raw/simulations/749: {'J9P'}\n",
      "\n",
      "812: data/raw/simulations/812: {'H8J'}\n",
      "\n",
      "127: data/raw/simulations/127: {'ML5'}\n",
      "\n",
      "950: data/raw/simulations/950: {'ZMA'}\n",
      "\n",
      "160: data/raw/simulations/160: {'CAU'}\n",
      "\n",
      "806: data/raw/simulations/806: {'KNW'}\n",
      "\n",
      "778: data/raw/simulations/778: {'DNK'}\n",
      "\n",
      "1095: data/raw/simulations/1095: {'A4R'}\n",
      "\n",
      "870: data/raw/simulations/870: {'NT5'}\n",
      "\n",
      "195: data/raw/simulations/195: {'CVD'}\n",
      "\n",
      "832: data/raw/simulations/832: {'AQD'}\n",
      "\n",
      "78: data/raw/simulations/78: {'6AD'}\n",
      "\n",
      "845: data/raw/simulations/845: {'7MA'}\n",
      "\n",
      "1042: data/raw/simulations/1042: set()\n",
      "\n",
      "786: data/raw/simulations/786: {'I32'}\n",
      "\n",
      "31: data/raw/simulations/31: {'ADN'}\n",
      "\n",
      "44: data/raw/simulations/44: {'ZMA'}\n",
      "\n",
      "826: data/raw/simulations/826: {'KNW'}\n",
      "\n",
      "103: data/raw/simulations/103: {'ITD'}\n",
      "\n",
      "1012: data/raw/simulations/1012: {'ZMA'}\n",
      "\n",
      "1021: data/raw/simulations/1021: {'ZMA'}\n",
      "\n"
     ]
    }
   ],
   "source": [
    "# iterate trhough the simulation folders\n",
    "for system_folder in glob(\"data/raw/simulations/*\"):\n",
    "    # print(system_folder)\n",
    "    print(system_folder.split('/')[-1], end=\": \")\n",
    "    try:\n",
    "        u = load_mda_universe_from_folder(system_folder)\n",
    "    except EOFError:\n",
    "        # print(\"EOFError\")\n",
    "        continue\n",
    "    except ValueError as e:\n",
    "        # print(e)\n",
    "        continue\n",
    "\n",
    "    possible_ligands = identify_ligands(u)\n",
    "\n",
    "    # if len(possible_ligands) != 1:\n",
    "    print(f\"{system_folder}: {possible_ligands}\")\n",
    "    \n",
    "    print()"
   ]
  },
  {
   "cell_type": "code",
   "execution_count": null,
   "metadata": {},
   "outputs": [],
   "source": [
    "\n",
    "# Load the simulation system\n",
    "u = mda.Universe('path_to_topology_file', 'path_to_trajectory_file')\n",
    "\n",
    "ligands = identify_ligands(u)\n",
    "print(ligands)"
   ]
  },
  {
   "cell_type": "markdown",
   "metadata": {},
   "source": [
    "# search simulations without contacts\n"
   ]
  },
  {
   "cell_type": "code",
   "execution_count": 7,
   "metadata": {},
   "outputs": [],
   "source": [
    "from glob import glob\n",
    "import os\n",
    "os.chdir(\"/home/adri/Projects/phd/pipeline\")"
   ]
  },
  {
   "cell_type": "code",
   "execution_count": 9,
   "metadata": {},
   "outputs": [
    {
     "name": "stdout",
     "output_type": "stream",
     "text": [
      "trajs_with_contacts: 388\n",
      "trajs_without_contacts: 327\n"
     ]
    }
   ],
   "source": [
    "\n",
    "dcds = glob(f\"data/raw/simulations/*/*.dcd\")\n",
    "xtcs = glob(f\"data/raw/simulations/*/*.xtc\")\n",
    "trajs = dcds + xtcs\n",
    "\n",
    "trajs_with_contacts = []\n",
    "trajs_without_contacts = []\n",
    "\n",
    "for traj in trajs:\n",
    "    system = traj.split('/')[-2]\n",
    "    traj_name = traj.split('/')[-1].split('.')[0]\n",
    "\n",
    "    contacts_path = f\"data/interim/contacts/{system}/{traj_name}_contacts.tsv\"\n",
    "\n",
    "    if os.path.exists(contacts_path):\n",
    "        trajs_with_contacts.append(traj)\n",
    "    else:\n",
    "        trajs_without_contacts.append(traj)\n",
    "\n",
    "print(f\"trajs_with_contacts: {len(trajs_with_contacts)}\")\n",
    "print(f\"trajs_without_contacts: {len(trajs_without_contacts)}\")\n"
   ]
  },
  {
   "cell_type": "markdown",
   "metadata": {},
   "source": [
    "# Check which simulations have unfinished contacts"
   ]
  },
  {
   "cell_type": "code",
   "execution_count": 15,
   "metadata": {},
   "outputs": [],
   "source": [
    "import MDAnalysis as mda"
   ]
  },
  {
   "cell_type": "code",
   "execution_count": 24,
   "metadata": {},
   "outputs": [
    {
     "name": "stdout",
     "output_type": "stream",
     "text": [
      "data/interim/contacts/737/15343_trj_737_contacts.tsv: 1899 != 2500\n"
     ]
    },
    {
     "name": "stderr",
     "output_type": "stream",
     "text": [
      "/home/adri/.virtualenvs/bias/lib/python3.10/site-packages/MDAnalysis/topology/PDBParser.py:290: UserWarning: PDB file is missing resid information.  Defaulted to '1'\n",
      "  warnings.warn(\"PDB file is missing resid information.  \"\n",
      "/home/adri/.virtualenvs/bias/lib/python3.10/site-packages/MDAnalysis/topology/PDBParser.py:373: UserWarning: Unknown entry a encountered in formal charge field. This likely indicates that the PDB file is not fully standard compliant. The formalcharges attribute will not be populated.\n",
      "  warnings.warn(wmsg)\n",
      "/home/adri/.virtualenvs/bias/lib/python3.10/site-packages/MDAnalysis/coordinates/DCD.py:165: DeprecationWarning: DCDReader currently makes independent timesteps by copying self.ts while other readers update self.ts inplace. This behavior will be changed in 3.0 to be the same as other readers. Read more at https://github.com/MDAnalysis/mdanalysis/issues/3889 to learn if this change in behavior might affect you.\n",
      "  warnings.warn(\"DCDReader currently makes independent timesteps\"\n"
     ]
    },
    {
     "name": "stdout",
     "output_type": "stream",
     "text": [
      "data/interim/contacts/830/15980_trj_830_contacts.tsv: 1299 != 2500\n",
      "data/interim/contacts/994/17083_trj_994_contacts.tsv: 1799 != 2500\n",
      "data/interim/contacts/994/17082_trj_994_contacts.tsv: 1199 != 2500\n",
      "data/interim/contacts/691/15024_trj_691_contacts.tsv: 2399 != 2500\n",
      "data/interim/contacts/33/10367_trj_33_contacts.tsv: 299 != 2500\n",
      "data/interim/contacts/33/10368_trj_33_contacts.tsv: 2399 != 2500\n",
      "data/interim/contacts/764/15533_trj_764_contacts.tsv: 1799 != 2500\n",
      "data/interim/contacts/764/15532_trj_764_contacts.tsv: empty file\n",
      "data/interim/contacts/69/10681_trj_69_contacts.tsv: 1199 != 2500\n",
      "data/interim/contacts/38/10415_trj_38_contacts.tsv: empty file\n",
      "data/interim/contacts/1027/17314_trj_1027_contacts.tsv: 2399 != 2500\n",
      "data/interim/contacts/1027/17315_trj_1027_contacts.tsv: 1199 != 2500\n",
      "data/interim/contacts/58/11836_trj_58_contacts.tsv: 1199 != 2500\n",
      "data/interim/contacts/58/10586_trj_58_contacts.tsv: 1699 != 2500\n",
      "data/interim/contacts/891/16388_trj_891_contacts.tsv: empty file\n",
      "data/interim/contacts/150/11415_trj_150_contacts.tsv: 599 != 2500\n",
      "data/interim/contacts/150/11417_trj_150_contacts.tsv: 1199 != 2500\n",
      "data/interim/contacts/879/16312_trj_879_contacts.tsv: 1199 != 2500\n"
     ]
    }
   ],
   "source": [
    "for contacts_path in glob(\"data/interim/contacts/*/*.tsv\"):\n",
    "    # read the last line of the tsv in a efficient way\n",
    "    with open(contacts_path, 'rb') as f:\n",
    "        if os.stat(contacts_path).st_size == 0:\n",
    "            print(f\"{contacts_path}: empty file\")\n",
    "            continue\n",
    "        f.seek(-2, os.SEEK_END)\n",
    "        while f.read(1) != b\"\\n\":\n",
    "            f.seek(-2, os.SEEK_CUR)\n",
    "        last_line = f.readline().decode()\n",
    "\n",
    "    # take the first element of the last line\n",
    "    last_frame = last_line.split('\\t')[0]\n",
    "\n",
    "    # get the number of frames in the trajectory\n",
    "    system = contacts_path.split('/')[-2]\n",
    "    replica  = contacts_path.split('/')[-1].replace(\"_contacts.tsv\", \"\")\n",
    "    # get the path to the trajectory\n",
    "    traj_paths = glob(f\"data/raw/simulations/{system}/{replica}.*\")\n",
    "    if len(traj_paths) != 1:\n",
    "        print(f\"More than one (or none) trajectory found for {system}/{replica}\", traj_paths)\n",
    "        continue\n",
    "\n",
    "    traj_path = traj_paths[0]\n",
    "\n",
    "    # get the number of frames in the trajectory\n",
    "    path_to_raw = f\"data/raw/simulations/{system}\"\n",
    "    topology = (glob(f\"{path_to_raw}/*.psf\") + glob(f\"{path_to_raw}/*.top\") +glob(f\"{path_to_raw}/*.pdb\"))[0]\n",
    "    u = mda.Universe(topology, traj_path)\n",
    "    n_frames = u.trajectory.n_frames\n",
    "\n",
    "    if (int(last_frame)) < (n_frames-2):\n",
    "        print(f\"{contacts_path}: {last_frame} != {n_frames}\")\n"
   ]
  },
  {
   "cell_type": "code",
   "execution_count": 22,
   "metadata": {},
   "outputs": [
    {
     "data": {
      "text/plain": [
       "'data/interim/contacts/764/15532_trj_764_contacts.tsv'"
      ]
     },
     "execution_count": 22,
     "metadata": {},
     "output_type": "execute_result"
    }
   ],
   "source": [
    "contacts_path"
   ]
  },
  {
   "cell_type": "code",
   "execution_count": 20,
   "metadata": {},
   "outputs": [
    {
     "data": {
      "text/plain": [
       "'2499'"
      ]
     },
     "execution_count": 20,
     "metadata": {},
     "output_type": "execute_result"
    }
   ],
   "source": [
    "last_frame"
   ]
  },
  {
   "cell_type": "code",
   "execution_count": 2,
   "metadata": {},
   "outputs": [],
   "source": [
    "\n",
    "import argparse\n",
    "import pandas as pd\n",
    "from glob import glob\n",
    "import MDAnalysis as mda\n",
    "import pickle\n",
    "import sys\n",
    "import warnings\n",
    "from tqdm import tqdm\n",
    "import os\n",
    "\n",
    "os.chdir(\"/home/adri/Projects/phd/pipeline\")\n",
    "\n",
    "\n",
    "sys.path.append('src')\n",
    "from utils import identify_ligands"
   ]
  },
  {
   "cell_type": "code",
   "execution_count": 32,
   "metadata": {},
   "outputs": [
    {
     "name": "stderr",
     "output_type": "stream",
     "text": [
      "  0%|          | 0/395 [00:00<?, ?it/s]"
     ]
    },
    {
     "name": "stderr",
     "output_type": "stream",
     "text": [
      "  5%|▌         | 21/395 [00:10<03:05,  2.01it/s]\n"
     ]
    },
    {
     "ename": "KeyboardInterrupt",
     "evalue": "",
     "output_type": "error",
     "traceback": [
      "\u001b[0;31m---------------------------------------------------------------------------\u001b[0m",
      "\u001b[0;31mKeyboardInterrupt\u001b[0m                         Traceback (most recent call last)",
      "\u001b[1;32m/home/adri/Projects/phd/pipeline/notebooks/tests.ipynb Cell 57\u001b[0m line \u001b[0;36m4\n\u001b[1;32m     <a href='vscode-notebook-cell:/home/adri/Projects/phd/pipeline/notebooks/tests.ipynb#Y112sZmlsZQ%3D%3D?line=41'>42</a>\u001b[0m \u001b[39mwith\u001b[39;00m warnings\u001b[39m.\u001b[39mcatch_warnings():\n\u001b[1;32m     <a href='vscode-notebook-cell:/home/adri/Projects/phd/pipeline/notebooks/tests.ipynb#Y112sZmlsZQ%3D%3D?line=42'>43</a>\u001b[0m     warnings\u001b[39m.\u001b[39msimplefilter(\u001b[39m\"\u001b[39m\u001b[39mignore\u001b[39m\u001b[39m\"\u001b[39m, category\u001b[39m=\u001b[39m\u001b[39mUserWarning\u001b[39;00m)\n\u001b[0;32m---> <a href='vscode-notebook-cell:/home/adri/Projects/phd/pipeline/notebooks/tests.ipynb#Y112sZmlsZQ%3D%3D?line=43'>44</a>\u001b[0m     ligand \u001b[39m=\u001b[39m identify_ligands(mda\u001b[39m.\u001b[39;49mUniverse(top))\n\u001b[1;32m     <a href='vscode-notebook-cell:/home/adri/Projects/phd/pipeline/notebooks/tests.ipynb#Y112sZmlsZQ%3D%3D?line=45'>46</a>\u001b[0m ligand \u001b[39m=\u001b[39m \u001b[39mlist\u001b[39m(ligand)[\u001b[39m0\u001b[39m]\n\u001b[1;32m     <a href='vscode-notebook-cell:/home/adri/Projects/phd/pipeline/notebooks/tests.ipynb#Y112sZmlsZQ%3D%3D?line=47'>48</a>\u001b[0m \u001b[39mif\u001b[39;00m \u001b[39m\"\u001b[39m\u001b[39mSEG\u001b[39m\u001b[39m\"\u001b[39m \u001b[39min\u001b[39;00m ligand:\n",
      "File \u001b[0;32m~/Projects/phd/pipeline/src/utils.py:51\u001b[0m, in \u001b[0;36midentify_ligands\u001b[0;34m(u)\u001b[0m\n\u001b[1;32m     45\u001b[0m common_residues \u001b[39m=\u001b[39m [\u001b[39m'\u001b[39m\u001b[39mSOL\u001b[39m\u001b[39m'\u001b[39m, \u001b[39m'\u001b[39m\u001b[39mWAT\u001b[39m\u001b[39m'\u001b[39m, \u001b[39m'\u001b[39m\u001b[39mTIP3\u001b[39m\u001b[39m'\u001b[39m, \u001b[39m'\u001b[39m\u001b[39mNA\u001b[39m\u001b[39m'\u001b[39m, \u001b[39m'\u001b[39m\u001b[39mSOD\u001b[39m\u001b[39m'\u001b[39m, \u001b[39m'\u001b[39m\u001b[39mCL\u001b[39m\u001b[39m'\u001b[39m, \u001b[39m'\u001b[39m\u001b[39mCLA\u001b[39m\u001b[39m'\u001b[39m,\n\u001b[1;32m     46\u001b[0m                     \u001b[39m'\u001b[39m\u001b[39mPOP\u001b[39m\u001b[39m'\u001b[39m, \u001b[39m'\u001b[39m\u001b[39mPOPC\u001b[39m\u001b[39m'\u001b[39m, \u001b[39m'\u001b[39m\u001b[39mDOPC\u001b[39m\u001b[39m'\u001b[39m, \u001b[39m'\u001b[39m\u001b[39mPOPE\u001b[39m\u001b[39m'\u001b[39m, \u001b[39m'\u001b[39m\u001b[39mDOPS\u001b[39m\u001b[39m'\u001b[39m, \u001b[39m'\u001b[39m\u001b[39mPO4\u001b[39m\u001b[39m'\u001b[39m, \u001b[39m'\u001b[39m\u001b[39mCLR\u001b[39m\u001b[39m'\u001b[39m,\n\u001b[1;32m     47\u001b[0m                     \u001b[39m'\u001b[39m\u001b[39mCHL\u001b[39m\u001b[39m'\u001b[39m, \u001b[39m'\u001b[39m\u001b[39mCHL1\u001b[39m\u001b[39m'\u001b[39m, \u001b[39m'\u001b[39m\u001b[39mPOT\u001b[39m\u001b[39m'\u001b[39m, \u001b[39m'\u001b[39m\u001b[39mCYSP\u001b[39m\u001b[39m'\u001b[39m, \u001b[39m'\u001b[39m\u001b[39mDPPC\u001b[39m\u001b[39m'\u001b[39m, \u001b[39m'\u001b[39m\u001b[39mDSPC\u001b[39m\u001b[39m'\u001b[39m, \u001b[39m'\u001b[39m\u001b[39mSDPC\u001b[39m\u001b[39m'\u001b[39m,\n\u001b[1;32m     48\u001b[0m                      \u001b[39m'\u001b[39m\u001b[39mSM18\u001b[39m\u001b[39m'\u001b[39m]\n\u001b[1;32m     50\u001b[0m \u001b[39m# Extract all unique non protein residue names from the system\u001b[39;00m\n\u001b[0;32m---> 51\u001b[0m all_residues \u001b[39m=\u001b[39m \u001b[39mset\u001b[39m([res\u001b[39m.\u001b[39mresname \u001b[39mfor\u001b[39;00m res \u001b[39min\u001b[39;00m u\u001b[39m.\u001b[39mselect_atoms(\u001b[39m\"\u001b[39m\u001b[39mnot protein\u001b[39m\u001b[39m\"\u001b[39m)\u001b[39m.\u001b[39mresidues \u001b[39mif\u001b[39;00m res\u001b[39m.\u001b[39msegid \u001b[39mnot\u001b[39;00m \u001b[39min\u001b[39;00m possible_ligands])\n\u001b[1;32m     52\u001b[0m possible_ligands\u001b[39m.\u001b[39mupdate(all_residues \u001b[39m-\u001b[39m \u001b[39mset\u001b[39m(common_residues))\n\u001b[1;32m     54\u001b[0m \u001b[39mreturn\u001b[39;00m possible_ligands\n",
      "File \u001b[0;32m~/Projects/phd/pipeline/src/utils.py:51\u001b[0m, in \u001b[0;36m<listcomp>\u001b[0;34m(.0)\u001b[0m\n\u001b[1;32m     45\u001b[0m common_residues \u001b[39m=\u001b[39m [\u001b[39m'\u001b[39m\u001b[39mSOL\u001b[39m\u001b[39m'\u001b[39m, \u001b[39m'\u001b[39m\u001b[39mWAT\u001b[39m\u001b[39m'\u001b[39m, \u001b[39m'\u001b[39m\u001b[39mTIP3\u001b[39m\u001b[39m'\u001b[39m, \u001b[39m'\u001b[39m\u001b[39mNA\u001b[39m\u001b[39m'\u001b[39m, \u001b[39m'\u001b[39m\u001b[39mSOD\u001b[39m\u001b[39m'\u001b[39m, \u001b[39m'\u001b[39m\u001b[39mCL\u001b[39m\u001b[39m'\u001b[39m, \u001b[39m'\u001b[39m\u001b[39mCLA\u001b[39m\u001b[39m'\u001b[39m,\n\u001b[1;32m     46\u001b[0m                     \u001b[39m'\u001b[39m\u001b[39mPOP\u001b[39m\u001b[39m'\u001b[39m, \u001b[39m'\u001b[39m\u001b[39mPOPC\u001b[39m\u001b[39m'\u001b[39m, \u001b[39m'\u001b[39m\u001b[39mDOPC\u001b[39m\u001b[39m'\u001b[39m, \u001b[39m'\u001b[39m\u001b[39mPOPE\u001b[39m\u001b[39m'\u001b[39m, \u001b[39m'\u001b[39m\u001b[39mDOPS\u001b[39m\u001b[39m'\u001b[39m, \u001b[39m'\u001b[39m\u001b[39mPO4\u001b[39m\u001b[39m'\u001b[39m, \u001b[39m'\u001b[39m\u001b[39mCLR\u001b[39m\u001b[39m'\u001b[39m,\n\u001b[1;32m     47\u001b[0m                     \u001b[39m'\u001b[39m\u001b[39mCHL\u001b[39m\u001b[39m'\u001b[39m, \u001b[39m'\u001b[39m\u001b[39mCHL1\u001b[39m\u001b[39m'\u001b[39m, \u001b[39m'\u001b[39m\u001b[39mPOT\u001b[39m\u001b[39m'\u001b[39m, \u001b[39m'\u001b[39m\u001b[39mCYSP\u001b[39m\u001b[39m'\u001b[39m, \u001b[39m'\u001b[39m\u001b[39mDPPC\u001b[39m\u001b[39m'\u001b[39m, \u001b[39m'\u001b[39m\u001b[39mDSPC\u001b[39m\u001b[39m'\u001b[39m, \u001b[39m'\u001b[39m\u001b[39mSDPC\u001b[39m\u001b[39m'\u001b[39m,\n\u001b[1;32m     48\u001b[0m                      \u001b[39m'\u001b[39m\u001b[39mSM18\u001b[39m\u001b[39m'\u001b[39m]\n\u001b[1;32m     50\u001b[0m \u001b[39m# Extract all unique non protein residue names from the system\u001b[39;00m\n\u001b[0;32m---> 51\u001b[0m all_residues \u001b[39m=\u001b[39m \u001b[39mset\u001b[39m([res\u001b[39m.\u001b[39mresname \u001b[39mfor\u001b[39;00m res \u001b[39min\u001b[39;00m u\u001b[39m.\u001b[39mselect_atoms(\u001b[39m\"\u001b[39m\u001b[39mnot protein\u001b[39m\u001b[39m\"\u001b[39m)\u001b[39m.\u001b[39mresidues \u001b[39mif\u001b[39;00m res\u001b[39m.\u001b[39;49msegid \u001b[39mnot\u001b[39;00m \u001b[39min\u001b[39;00m possible_ligands])\n\u001b[1;32m     52\u001b[0m possible_ligands\u001b[39m.\u001b[39mupdate(all_residues \u001b[39m-\u001b[39m \u001b[39mset\u001b[39m(common_residues))\n\u001b[1;32m     54\u001b[0m \u001b[39mreturn\u001b[39;00m possible_ligands\n",
      "File \u001b[0;32m~/.virtualenvs/bias/lib/python3.10/site-packages/MDAnalysis/core/groups.py:253\u001b[0m, in \u001b[0;36m_TopologyAttrContainer._add_prop.<locals>.getter\u001b[0;34m(self)\u001b[0m\n\u001b[1;32m    244\u001b[0m \u001b[39m@classmethod\u001b[39m\n\u001b[1;32m    245\u001b[0m \u001b[39mdef\u001b[39;00m \u001b[39m_add_prop\u001b[39m(\u001b[39mcls\u001b[39m, attr):\n\u001b[1;32m    246\u001b[0m \u001b[39m    \u001b[39m\u001b[39m\"\"\"Add `attr` into the namespace for this class\u001b[39;00m\n\u001b[1;32m    247\u001b[0m \n\u001b[1;32m    248\u001b[0m \u001b[39m    Parameters\u001b[39;00m\n\u001b[1;32m    249\u001b[0m \u001b[39m    ----------\u001b[39;00m\n\u001b[1;32m    250\u001b[0m \u001b[39m    attr : A :class:`TopologyAttr` object\u001b[39;00m\n\u001b[1;32m    251\u001b[0m \u001b[39m    \"\"\"\u001b[39;00m\n\u001b[0;32m--> 253\u001b[0m     \u001b[39mdef\u001b[39;00m \u001b[39mgetter\u001b[39m(\u001b[39mself\u001b[39m):\n\u001b[1;32m    254\u001b[0m         \u001b[39mreturn\u001b[39;00m attr\u001b[39m.\u001b[39m\u001b[39m__getitem__\u001b[39m(\u001b[39mself\u001b[39m)\n\u001b[1;32m    256\u001b[0m     \u001b[39mdef\u001b[39;00m \u001b[39msetter\u001b[39m(\u001b[39mself\u001b[39m, values):\n",
      "\u001b[0;31mKeyboardInterrupt\u001b[0m: "
     ]
    }
   ],
   "source": [
    "folder = \"data/interim/frequencies/no_sod_frequencies\"\n",
    "\n",
    "freq_files = glob(f'{folder}/*/*_frequencies.tsv')\n",
    "\n",
    "freq_df_list = []\n",
    "\n",
    "# load bw pickled dict\n",
    "with open('data/interim/formated_bw_dict.pickle', 'rb') as f:\n",
    "    pdb_to_bw_dict = pickle.load(f)\n",
    "\n",
    "# load dynid_to_pdb dict\n",
    "with open('data/interim/dynid_to_pdb.pickle', 'rb') as f:\n",
    "    dynid_to_pdb = pickle.load(f)\n",
    "\n",
    "for freq_file in tqdm(freq_files):\n",
    "    \n",
    "    system = freq_file.split('/')[-2]\n",
    "    replica = freq_file.split('/')[-1].split('.')[0].replace('_frequencies', '')\n",
    "    \n",
    "    freqs = pd.read_csv(freq_file, \n",
    "                    header=None,\n",
    "                    sep = \"\\t\",\n",
    "                    skiprows=2,\n",
    "                    names=[\"atom1\", \"atom2\", \"freq\"])\n",
    "    \n",
    "    # skip if empty\n",
    "    if freqs.empty:\n",
    "        continue\n",
    "\n",
    "    try:\n",
    "        freqs[['chain1' , 'resname1', 'resid1']] = freqs.atom1.str.split(':', expand=True)\n",
    "        freqs[['chain2' , 'resname2', 'resid2']] = freqs.atom2.str.split(':', expand=True)\n",
    "    except ValueError:\n",
    "        print(freqs.atom1)\n",
    "\n",
    "    system_raw_path = f\"data/raw/simulations/{system}\"\n",
    "\n",
    "    top_list = (glob(f\"{system_raw_path}/*.psf\") + glob(f\"{system_raw_path}/*.top\") + glob(f\"{system_raw_path}/*.pdb\"))\n",
    "    assert top_list, f\"No topology file found for {system}\"\n",
    "    top = top_list[0]\n",
    "\n",
    "    with warnings.catch_warnings():\n",
    "        warnings.simplefilter(\"ignore\", category=UserWarning)\n",
    "        ligand = identify_ligands(mda.Universe(top))\n",
    "    \n",
    "    ligand = list(ligand)[0]\n",
    "\n",
    "    if \"SEG\" in ligand:\n",
    "        ligand = ligand.replace('SEG:', '')\n",
    "        # Change ligand id to \"LIG\"\n",
    "        freqs.loc[freqs.chain2 == ligand, 'resid2'] = 'LIG'\n",
    "        freqs.loc[freqs.chain1 == ligand, 'resid1'] = 'LIG'\n",
    "    else:\n",
    "        # Change ligand id to \"LIG\"\n",
    "        freqs.loc[freqs.resname2 == ligand, 'resid2'] = 'LIG'\n",
    "        freqs.loc[freqs.resname1 == ligand, 'resid1'] = 'LIG'\n",
    "\n",
    "    # remove rows where resid1 and resid2 are LIG\n",
    "    freqs = freqs[~((freqs.resid1 == 'LIG') & (freqs.resid2 == 'LIG'))]\n",
    "\n",
    "    bw_dict = pdb_to_bw_dict[dynid_to_pdb[int(system)]]\n",
    "    bw_dict['LIG'] = 'LIG'\n",
    "        \n",
    "    contacts = freqs[['resid1', 'resid2']].values\n",
    "\n",
    "    # Transform the contacts into bw sorted nomenclature\n",
    "    \n",
    "    contacts_list = []\n",
    "    for r1, r2 in contacts:\n",
    "        r1 = str(r1)\n",
    "        r2 = str(r2)\n",
    "\n",
    "        bw_r1 = bw_dict.get(r1, r1)\n",
    "        bw_r2 = bw_dict.get(r2, r2)\n",
    "\n",
    "        if bw_r1 is None or bw_r2 is None:\n",
    "            continue\n",
    "\n",
    "        sorted_contact = sorted([bw_r1, bw_r2])\n",
    "        contacts_list.append('-'.join(sorted_contact))\n",
    "\n",
    "    contacts = contacts_list\n",
    "    \n",
    "    freqs = freqs[['freq']].transpose()\n",
    "    \n",
    "    freqs.columns = contacts\n",
    "    \n",
    "    freqs['replica'] = replica\n",
    "    \n",
    "    freqs['system'] = system\n",
    "    \n",
    "    freq_df_list.append(freqs.reset_index(drop=True))\n"
   ]
  },
  {
   "cell_type": "code",
   "execution_count": 51,
   "metadata": {},
   "outputs": [
    {
     "data": {
      "text/plain": [
       "4x65-LIG     2\n",
       "5x43-LIG     2\n",
       "5x40-LIG     2\n",
       "5x461-LIG    2\n",
       "4x61-LIG     2\n",
       "            ..\n",
       "2x38-2x41    1\n",
       "1x53-7x53    1\n",
       "5x59-5x62    1\n",
       "3x38-4x50    1\n",
       "1x35-1x37    1\n",
       "Name: count, Length: 2774, dtype: int64"
      ]
     },
     "execution_count": 51,
     "metadata": {},
     "output_type": "execute_result"
    }
   ],
   "source": [
    "pd.Series(freq_df_list[0].columns).value_counts()"
   ]
  },
  {
   "cell_type": "code",
   "execution_count": 50,
   "metadata": {},
   "outputs": [
    {
     "ename": "InvalidIndexError",
     "evalue": "Reindexing only valid with uniquely valued Index objects",
     "output_type": "error",
     "traceback": [
      "\u001b[0;31m---------------------------------------------------------------------------\u001b[0m",
      "\u001b[0;31mInvalidIndexError\u001b[0m                         Traceback (most recent call last)",
      "\u001b[1;32m/home/adri/Projects/phd/pipeline/notebooks/tests.ipynb Cell 58\u001b[0m line \u001b[0;36m1\n\u001b[0;32m----> <a href='vscode-notebook-cell:/home/adri/Projects/phd/pipeline/notebooks/tests.ipynb#Y123sZmlsZQ%3D%3D?line=0'>1</a>\u001b[0m pd\u001b[39m.\u001b[39;49mconcat([freq_df_list[\u001b[39m0\u001b[39;49m]\u001b[39m.\u001b[39;49mreset_index(drop\u001b[39m=\u001b[39;49m\u001b[39mTrue\u001b[39;49;00m), freq_df_list[\u001b[39m1\u001b[39;49m]\u001b[39m.\u001b[39;49mreset_index(drop\u001b[39m=\u001b[39;49m\u001b[39mTrue\u001b[39;49;00m)], ignore_index\u001b[39m=\u001b[39;49m\u001b[39mTrue\u001b[39;49;00m)\n",
      "File \u001b[0;32m~/.virtualenvs/bias/lib/python3.10/site-packages/pandas/core/reshape/concat.py:385\u001b[0m, in \u001b[0;36mconcat\u001b[0;34m(objs, axis, join, ignore_index, keys, levels, names, verify_integrity, sort, copy)\u001b[0m\n\u001b[1;32m    370\u001b[0m     copy \u001b[39m=\u001b[39m \u001b[39mFalse\u001b[39;00m\n\u001b[1;32m    372\u001b[0m op \u001b[39m=\u001b[39m _Concatenator(\n\u001b[1;32m    373\u001b[0m     objs,\n\u001b[1;32m    374\u001b[0m     axis\u001b[39m=\u001b[39maxis,\n\u001b[0;32m   (...)\u001b[0m\n\u001b[1;32m    382\u001b[0m     sort\u001b[39m=\u001b[39msort,\n\u001b[1;32m    383\u001b[0m )\n\u001b[0;32m--> 385\u001b[0m \u001b[39mreturn\u001b[39;00m op\u001b[39m.\u001b[39;49mget_result()\n",
      "File \u001b[0;32m~/.virtualenvs/bias/lib/python3.10/site-packages/pandas/core/reshape/concat.py:612\u001b[0m, in \u001b[0;36m_Concatenator.get_result\u001b[0;34m(self)\u001b[0m\n\u001b[1;32m    610\u001b[0m         obj_labels \u001b[39m=\u001b[39m obj\u001b[39m.\u001b[39maxes[\u001b[39m1\u001b[39m \u001b[39m-\u001b[39m ax]\n\u001b[1;32m    611\u001b[0m         \u001b[39mif\u001b[39;00m \u001b[39mnot\u001b[39;00m new_labels\u001b[39m.\u001b[39mequals(obj_labels):\n\u001b[0;32m--> 612\u001b[0m             indexers[ax] \u001b[39m=\u001b[39m obj_labels\u001b[39m.\u001b[39;49mget_indexer(new_labels)\n\u001b[1;32m    614\u001b[0m     mgrs_indexers\u001b[39m.\u001b[39mappend((obj\u001b[39m.\u001b[39m_mgr, indexers))\n\u001b[1;32m    616\u001b[0m new_data \u001b[39m=\u001b[39m concatenate_managers(\n\u001b[1;32m    617\u001b[0m     mgrs_indexers, \u001b[39mself\u001b[39m\u001b[39m.\u001b[39mnew_axes, concat_axis\u001b[39m=\u001b[39m\u001b[39mself\u001b[39m\u001b[39m.\u001b[39mbm_axis, copy\u001b[39m=\u001b[39m\u001b[39mself\u001b[39m\u001b[39m.\u001b[39mcopy\n\u001b[1;32m    618\u001b[0m )\n",
      "File \u001b[0;32m~/.virtualenvs/bias/lib/python3.10/site-packages/pandas/core/indexes/base.py:3732\u001b[0m, in \u001b[0;36mIndex.get_indexer\u001b[0;34m(self, target, method, limit, tolerance)\u001b[0m\n\u001b[1;32m   3729\u001b[0m \u001b[39mself\u001b[39m\u001b[39m.\u001b[39m_check_indexing_method(method, limit, tolerance)\n\u001b[1;32m   3731\u001b[0m \u001b[39mif\u001b[39;00m \u001b[39mnot\u001b[39;00m \u001b[39mself\u001b[39m\u001b[39m.\u001b[39m_index_as_unique:\n\u001b[0;32m-> 3732\u001b[0m     \u001b[39mraise\u001b[39;00m InvalidIndexError(\u001b[39mself\u001b[39m\u001b[39m.\u001b[39m_requires_unique_msg)\n\u001b[1;32m   3734\u001b[0m \u001b[39mif\u001b[39;00m \u001b[39mlen\u001b[39m(target) \u001b[39m==\u001b[39m \u001b[39m0\u001b[39m:\n\u001b[1;32m   3735\u001b[0m     \u001b[39mreturn\u001b[39;00m np\u001b[39m.\u001b[39marray([], dtype\u001b[39m=\u001b[39mnp\u001b[39m.\u001b[39mintp)\n",
      "\u001b[0;31mInvalidIndexError\u001b[0m: Reindexing only valid with uniquely valued Index objects"
     ]
    }
   ],
   "source": [
    "pd.concat([freq_df_list[0].reset_index(drop=True), freq_df_list[1].reset_index(drop=True)], ignore_index=True)"
   ]
  },
  {
   "cell_type": "code",
   "execution_count": 40,
   "metadata": {},
   "outputs": [
    {
     "ename": "InvalidIndexError",
     "evalue": "Reindexing only valid with uniquely valued Index objects",
     "output_type": "error",
     "traceback": [
      "\u001b[0;31m---------------------------------------------------------------------------\u001b[0m",
      "\u001b[0;31mInvalidIndexError\u001b[0m                         Traceback (most recent call last)",
      "\u001b[1;32m/home/adri/Projects/phd/pipeline/notebooks/tests.ipynb Cell 58\u001b[0m line \u001b[0;36m1\n\u001b[0;32m----> <a href='vscode-notebook-cell:/home/adri/Projects/phd/pipeline/notebooks/tests.ipynb#Y120sZmlsZQ%3D%3D?line=0'>1</a>\u001b[0m pd\u001b[39m.\u001b[39;49mconcat(freq_df_list[\u001b[39m0\u001b[39;49m:\u001b[39m2\u001b[39;49m], axis\u001b[39m=\u001b[39;49m\u001b[39m0\u001b[39;49m, ignore_index\u001b[39m=\u001b[39;49m\u001b[39mTrue\u001b[39;49;00m)\n",
      "File \u001b[0;32m~/.virtualenvs/bias/lib/python3.10/site-packages/pandas/core/reshape/concat.py:385\u001b[0m, in \u001b[0;36mconcat\u001b[0;34m(objs, axis, join, ignore_index, keys, levels, names, verify_integrity, sort, copy)\u001b[0m\n\u001b[1;32m    370\u001b[0m     copy \u001b[39m=\u001b[39m \u001b[39mFalse\u001b[39;00m\n\u001b[1;32m    372\u001b[0m op \u001b[39m=\u001b[39m _Concatenator(\n\u001b[1;32m    373\u001b[0m     objs,\n\u001b[1;32m    374\u001b[0m     axis\u001b[39m=\u001b[39maxis,\n\u001b[0;32m   (...)\u001b[0m\n\u001b[1;32m    382\u001b[0m     sort\u001b[39m=\u001b[39msort,\n\u001b[1;32m    383\u001b[0m )\n\u001b[0;32m--> 385\u001b[0m \u001b[39mreturn\u001b[39;00m op\u001b[39m.\u001b[39;49mget_result()\n",
      "File \u001b[0;32m~/.virtualenvs/bias/lib/python3.10/site-packages/pandas/core/reshape/concat.py:612\u001b[0m, in \u001b[0;36m_Concatenator.get_result\u001b[0;34m(self)\u001b[0m\n\u001b[1;32m    610\u001b[0m         obj_labels \u001b[39m=\u001b[39m obj\u001b[39m.\u001b[39maxes[\u001b[39m1\u001b[39m \u001b[39m-\u001b[39m ax]\n\u001b[1;32m    611\u001b[0m         \u001b[39mif\u001b[39;00m \u001b[39mnot\u001b[39;00m new_labels\u001b[39m.\u001b[39mequals(obj_labels):\n\u001b[0;32m--> 612\u001b[0m             indexers[ax] \u001b[39m=\u001b[39m obj_labels\u001b[39m.\u001b[39;49mget_indexer(new_labels)\n\u001b[1;32m    614\u001b[0m     mgrs_indexers\u001b[39m.\u001b[39mappend((obj\u001b[39m.\u001b[39m_mgr, indexers))\n\u001b[1;32m    616\u001b[0m new_data \u001b[39m=\u001b[39m concatenate_managers(\n\u001b[1;32m    617\u001b[0m     mgrs_indexers, \u001b[39mself\u001b[39m\u001b[39m.\u001b[39mnew_axes, concat_axis\u001b[39m=\u001b[39m\u001b[39mself\u001b[39m\u001b[39m.\u001b[39mbm_axis, copy\u001b[39m=\u001b[39m\u001b[39mself\u001b[39m\u001b[39m.\u001b[39mcopy\n\u001b[1;32m    618\u001b[0m )\n",
      "File \u001b[0;32m~/.virtualenvs/bias/lib/python3.10/site-packages/pandas/core/indexes/base.py:3732\u001b[0m, in \u001b[0;36mIndex.get_indexer\u001b[0;34m(self, target, method, limit, tolerance)\u001b[0m\n\u001b[1;32m   3729\u001b[0m \u001b[39mself\u001b[39m\u001b[39m.\u001b[39m_check_indexing_method(method, limit, tolerance)\n\u001b[1;32m   3731\u001b[0m \u001b[39mif\u001b[39;00m \u001b[39mnot\u001b[39;00m \u001b[39mself\u001b[39m\u001b[39m.\u001b[39m_index_as_unique:\n\u001b[0;32m-> 3732\u001b[0m     \u001b[39mraise\u001b[39;00m InvalidIndexError(\u001b[39mself\u001b[39m\u001b[39m.\u001b[39m_requires_unique_msg)\n\u001b[1;32m   3734\u001b[0m \u001b[39mif\u001b[39;00m \u001b[39mlen\u001b[39m(target) \u001b[39m==\u001b[39m \u001b[39m0\u001b[39m:\n\u001b[1;32m   3735\u001b[0m     \u001b[39mreturn\u001b[39;00m np\u001b[39m.\u001b[39marray([], dtype\u001b[39m=\u001b[39mnp\u001b[39m.\u001b[39mintp)\n",
      "\u001b[0;31mInvalidIndexError\u001b[0m: Reindexing only valid with uniquely valued Index objects"
     ]
    }
   ],
   "source": [
    "pd.concat(freq_df_list[0:2], axis=0, ignore_index=True)"
   ]
  },
  {
   "cell_type": "code",
   "execution_count": 34,
   "metadata": {},
   "outputs": [
    {
     "ename": "InvalidIndexError",
     "evalue": "Reindexing only valid with uniquely valued Index objects",
     "output_type": "error",
     "traceback": [
      "\u001b[0;31m---------------------------------------------------------------------------\u001b[0m",
      "\u001b[0;31mInvalidIndexError\u001b[0m                         Traceback (most recent call last)",
      "\u001b[1;32m/home/adri/Projects/phd/pipeline/notebooks/tests.ipynb Cell 58\u001b[0m line \u001b[0;36m1\n\u001b[0;32m----> <a href='vscode-notebook-cell:/home/adri/Projects/phd/pipeline/notebooks/tests.ipynb#Y116sZmlsZQ%3D%3D?line=0'>1</a>\u001b[0m pd\u001b[39m.\u001b[39;49mconcat(freq_df_list, ignore_index\u001b[39m=\u001b[39;49m\u001b[39mTrue\u001b[39;49;00m)\n",
      "File \u001b[0;32m~/.virtualenvs/bias/lib/python3.10/site-packages/pandas/core/reshape/concat.py:385\u001b[0m, in \u001b[0;36mconcat\u001b[0;34m(objs, axis, join, ignore_index, keys, levels, names, verify_integrity, sort, copy)\u001b[0m\n\u001b[1;32m    370\u001b[0m     copy \u001b[39m=\u001b[39m \u001b[39mFalse\u001b[39;00m\n\u001b[1;32m    372\u001b[0m op \u001b[39m=\u001b[39m _Concatenator(\n\u001b[1;32m    373\u001b[0m     objs,\n\u001b[1;32m    374\u001b[0m     axis\u001b[39m=\u001b[39maxis,\n\u001b[0;32m   (...)\u001b[0m\n\u001b[1;32m    382\u001b[0m     sort\u001b[39m=\u001b[39msort,\n\u001b[1;32m    383\u001b[0m )\n\u001b[0;32m--> 385\u001b[0m \u001b[39mreturn\u001b[39;00m op\u001b[39m.\u001b[39;49mget_result()\n",
      "File \u001b[0;32m~/.virtualenvs/bias/lib/python3.10/site-packages/pandas/core/reshape/concat.py:612\u001b[0m, in \u001b[0;36m_Concatenator.get_result\u001b[0;34m(self)\u001b[0m\n\u001b[1;32m    610\u001b[0m         obj_labels \u001b[39m=\u001b[39m obj\u001b[39m.\u001b[39maxes[\u001b[39m1\u001b[39m \u001b[39m-\u001b[39m ax]\n\u001b[1;32m    611\u001b[0m         \u001b[39mif\u001b[39;00m \u001b[39mnot\u001b[39;00m new_labels\u001b[39m.\u001b[39mequals(obj_labels):\n\u001b[0;32m--> 612\u001b[0m             indexers[ax] \u001b[39m=\u001b[39m obj_labels\u001b[39m.\u001b[39;49mget_indexer(new_labels)\n\u001b[1;32m    614\u001b[0m     mgrs_indexers\u001b[39m.\u001b[39mappend((obj\u001b[39m.\u001b[39m_mgr, indexers))\n\u001b[1;32m    616\u001b[0m new_data \u001b[39m=\u001b[39m concatenate_managers(\n\u001b[1;32m    617\u001b[0m     mgrs_indexers, \u001b[39mself\u001b[39m\u001b[39m.\u001b[39mnew_axes, concat_axis\u001b[39m=\u001b[39m\u001b[39mself\u001b[39m\u001b[39m.\u001b[39mbm_axis, copy\u001b[39m=\u001b[39m\u001b[39mself\u001b[39m\u001b[39m.\u001b[39mcopy\n\u001b[1;32m    618\u001b[0m )\n",
      "File \u001b[0;32m~/.virtualenvs/bias/lib/python3.10/site-packages/pandas/core/indexes/base.py:3732\u001b[0m, in \u001b[0;36mIndex.get_indexer\u001b[0;34m(self, target, method, limit, tolerance)\u001b[0m\n\u001b[1;32m   3729\u001b[0m \u001b[39mself\u001b[39m\u001b[39m.\u001b[39m_check_indexing_method(method, limit, tolerance)\n\u001b[1;32m   3731\u001b[0m \u001b[39mif\u001b[39;00m \u001b[39mnot\u001b[39;00m \u001b[39mself\u001b[39m\u001b[39m.\u001b[39m_index_as_unique:\n\u001b[0;32m-> 3732\u001b[0m     \u001b[39mraise\u001b[39;00m InvalidIndexError(\u001b[39mself\u001b[39m\u001b[39m.\u001b[39m_requires_unique_msg)\n\u001b[1;32m   3734\u001b[0m \u001b[39mif\u001b[39;00m \u001b[39mlen\u001b[39m(target) \u001b[39m==\u001b[39m \u001b[39m0\u001b[39m:\n\u001b[1;32m   3735\u001b[0m     \u001b[39mreturn\u001b[39;00m np\u001b[39m.\u001b[39marray([], dtype\u001b[39m=\u001b[39mnp\u001b[39m.\u001b[39mintp)\n",
      "\u001b[0;31mInvalidIndexError\u001b[0m: Reindexing only valid with uniquely valued Index objects"
     ]
    }
   ],
   "source": [
    "pd.concat(freq_df_list, ignore_index=True)"
   ]
  },
  {
   "cell_type": "code",
   "execution_count": null,
   "metadata": {},
   "outputs": [],
   "source": [
    "\n",
    "freq_df = pd.concat(freq_df_list, ignore_index=True)\n",
    "freq_df = freq_df.fillna(0)\n",
    "freq_df.to_csv(f'{folder}/merged_frequencies.tsv')"
   ]
  },
  {
   "cell_type": "code",
   "execution_count": 3,
   "metadata": {},
   "outputs": [],
   "source": [
    "with open('data/interim/dynid_to_pdb.pickle', 'rb') as f:\n",
    "        dynid_to_pdb = pickle.load(f)"
   ]
  },
  {
   "cell_type": "code",
   "execution_count": 5,
   "metadata": {},
   "outputs": [
    {
     "data": {
      "text/plain": [
       "'4XT3'"
      ]
     },
     "execution_count": 5,
     "metadata": {},
     "output_type": "execute_result"
    }
   ],
   "source": [
    "dynid_to_pdb[879]"
   ]
  },
  {
   "cell_type": "code",
   "execution_count": 6,
   "metadata": {},
   "outputs": [],
   "source": [
    "with open('data/interim/formated_bw_dict.pickle', 'rb') as f:\n",
    "        pdb_to_bw_dict = pickle.load(f)"
   ]
  },
  {
   "cell_type": "code",
   "execution_count": 8,
   "metadata": {},
   "outputs": [],
   "source": [
    "dict_to_inspect = pdb_to_bw_dict['4XT3']"
   ]
  },
  {
   "cell_type": "code",
   "execution_count": 11,
   "metadata": {},
   "outputs": [
    {
     "name": "stdout",
     "output_type": "stream",
     "text": [
      "['19']\n",
      "['20']\n"
     ]
    }
   ],
   "source": [
    "# Get keys mapped to \"D19\"\n",
    "keys = [k for k, v in dict_to_inspect.items() if v == 'D19']\n",
    "print(keys)\n",
    "keys = [k for k, v in dict_to_inspect.items() if v == 'A20']\n",
    "print(keys)"
   ]
  },
  {
   "cell_type": "code",
   "execution_count": 22,
   "metadata": {},
   "outputs": [
    {
     "name": "stderr",
     "output_type": "stream",
     "text": [
      "  0%|          | 0/250 [00:00<?, ?it/s]"
     ]
    },
    {
     "name": "stderr",
     "output_type": "stream",
     "text": [
      "  2%|▏         | 4/250 [00:04<05:24,  1.32s/it]/home/adri/.virtualenvs/bias/lib/python3.10/site-packages/MDAnalysis/topology/PDBParser.py:348: UserWarning: Unknown element  found for some atoms. These have been given an empty element record. If needed they can be guessed using MDAnalysis.topology.guessers.\n",
      "  warnings.warn(wmsg)\n",
      "/home/adri/.virtualenvs/bias/lib/python3.10/site-packages/MDAnalysis/topology/guessers.py:146: UserWarning: Failed to guess the mass for the following atom types: \n",
      "  warnings.warn(\"Failed to guess the mass for the following atom types: {}\".format(atom_type))\n",
      "  4%|▎         | 9/250 [00:08<03:04,  1.31it/s]"
     ]
    },
    {
     "name": "stdout",
     "output_type": "stream",
     "text": [
      "Error in 214/11996_trj_214.xtc\n"
     ]
    },
    {
     "name": "stderr",
     "output_type": "stream",
     "text": [
      "  9%|▉         | 23/250 [00:21<04:49,  1.28s/it]/home/adri/.virtualenvs/bias/lib/python3.10/site-packages/MDAnalysis/topology/PDBParser.py:331: UserWarning: Element information is missing, elements attribute will not be populated. If needed these can be guessed using MDAnalysis.topology.guessers.\n",
      "  warnings.warn(\"Element information is missing, elements attribute \"\n"
     ]
    },
    {
     "name": "stdout",
     "output_type": "stream",
     "text": [
      "Error in 1076/18295_trj_1076.xtc\n",
      "Error in 1076/18294_trj_1076.xtc\n",
      "Error in 1076/18296_trj_1076.xtc\n"
     ]
    },
    {
     "name": "stderr",
     "output_type": "stream",
     "text": [
      " 10%|█         | 26/250 [00:23<03:44,  1.00s/it]"
     ]
    },
    {
     "name": "stdout",
     "output_type": "stream",
     "text": [
      "Error in 1040/17395_trj_1040.xtc\n",
      "Error in 1040/17396_trj_1040.xtc\n",
      "Error in 1040/17397_trj_1040.xtc\n"
     ]
    },
    {
     "name": "stderr",
     "output_type": "stream",
     "text": [
      " 12%|█▏        | 30/250 [00:28<04:07,  1.13s/it]/home/adri/.virtualenvs/bias/lib/python3.10/site-packages/MDAnalysis/topology/PDBParser.py:304: UserWarning: Serial numbers went over 100,000.  Higher serials have been guessed\n",
      "  warnings.warn(\"Serial numbers went over 100,000.  \"\n",
      "/home/adri/.virtualenvs/bias/lib/python3.10/site-packages/MDAnalysis/topology/PDBParser.py:423: UserWarning: Invalid atom serials were present, bonds will not be parsed\n",
      "  warnings.warn(\"Invalid atom serials were present, bonds will not\"\n",
      "/home/adri/.virtualenvs/bias/lib/python3.10/site-packages/MDAnalysis/topology/PDBParser.py:215: UserWarning: Invalid atom serials were present, bonds will not be parsed\n",
      "  warnings.warn(\"Invalid atom serials were present, \"\n",
      " 14%|█▍        | 36/250 [00:34<04:18,  1.21s/it]"
     ]
    },
    {
     "name": "stdout",
     "output_type": "stream",
     "text": [
      "Error in 1124/18582_trj_1124.xtc\n",
      "Error in 1124/18584_trj_1124.xtc\n",
      "Error in 1124/18583_trj_1124.xtc\n"
     ]
    },
    {
     "name": "stderr",
     "output_type": "stream",
     "text": [
      " 22%|██▏       | 55/250 [00:52<02:56,  1.10it/s]"
     ]
    },
    {
     "name": "stdout",
     "output_type": "stream",
     "text": [
      "Error in 1098/18408_trj_1098.xtc\n",
      "Error in 1098/18407_trj_1098.xtc\n",
      "Error in 1098/18409_trj_1098.xtc\n"
     ]
    },
    {
     "name": "stderr",
     "output_type": "stream",
     "text": [
      " 23%|██▎       | 57/250 [00:53<02:40,  1.20it/s]"
     ]
    },
    {
     "name": "stdout",
     "output_type": "stream",
     "text": [
      "Error in 1096/18395_trj_1096.xtc\n",
      "Error in 1096/18393_trj_1096.xtc\n",
      "Error in 1096/18394_trj_1096.xtc\n"
     ]
    },
    {
     "name": "stderr",
     "output_type": "stream",
     "text": [
      " 27%|██▋       | 67/250 [01:02<02:34,  1.19it/s]"
     ]
    },
    {
     "name": "stdout",
     "output_type": "stream",
     "text": [
      "Error in 29/11835_trj_29.xtc\n"
     ]
    },
    {
     "name": "stderr",
     "output_type": "stream",
     "text": [
      " 27%|██▋       | 68/250 [01:03<02:30,  1.21it/s]"
     ]
    },
    {
     "name": "stdout",
     "output_type": "stream",
     "text": [
      "Error in 29/11834_trj_29.xtc\n"
     ]
    },
    {
     "name": "stderr",
     "output_type": "stream",
     "text": [
      " 32%|███▏      | 79/250 [01:13<01:54,  1.49it/s]/home/adri/.virtualenvs/bias/lib/python3.10/site-packages/MDAnalysis/coordinates/DCD.py:165: DeprecationWarning: DCDReader currently makes independent timesteps by copying self.ts while other readers update self.ts inplace. This behavior will be changed in 3.0 to be the same as other readers. Read more at https://github.com/MDAnalysis/mdanalysis/issues/3889 to learn if this change in behavior might affect you.\n",
      "  warnings.warn(\"DCDReader currently makes independent timesteps\"\n",
      " 44%|████▍     | 111/250 [01:50<02:45,  1.19s/it]"
     ]
    },
    {
     "name": "stdout",
     "output_type": "stream",
     "text": [
      "Error in 1094/18376_trj_1094.xtc\n",
      "Error in 1094/18375_trj_1094.xtc\n",
      "Error in 1094/18374_trj_1094.xtc\n"
     ]
    },
    {
     "name": "stderr",
     "output_type": "stream",
     "text": [
      " 54%|█████▍    | 135/250 [02:16<01:55,  1.01s/it]"
     ]
    },
    {
     "name": "stdout",
     "output_type": "stream",
     "text": [
      "Error in 1127/18607_trj_1127.xtc\n",
      "Error in 1127/18606_trj_1127.xtc\n",
      "Error in 1127/18608_trj_1127.xtc\n"
     ]
    },
    {
     "name": "stderr",
     "output_type": "stream",
     "text": [
      " 55%|█████▌    | 138/250 [02:19<01:57,  1.05s/it]"
     ]
    },
    {
     "name": "stdout",
     "output_type": "stream",
     "text": [
      "Error in 1097/18402_trj_1097.xtc\n",
      "Error in 1097/18403_trj_1097.xtc\n",
      "Error in 1097/18401_trj_1097.xtc\n",
      "Error in 1130/18627_trj_1130.xtc\n",
      "Error in 1130/18625_trj_1130.xtc\n",
      "Error in 1130/18626_trj_1130.xtc\n"
     ]
    },
    {
     "name": "stderr",
     "output_type": "stream",
     "text": [
      " 58%|█████▊    | 146/250 [02:25<01:18,  1.32it/s]"
     ]
    },
    {
     "name": "stdout",
     "output_type": "stream",
     "text": [
      "Error in 1238/19118_trj_1238.xtc\n"
     ]
    },
    {
     "name": "stderr",
     "output_type": "stream",
     "text": [
      " 59%|█████▉    | 147/250 [02:26<01:35,  1.08it/s]"
     ]
    },
    {
     "name": "stdout",
     "output_type": "stream",
     "text": [
      "Error in 1125/18591_trj_1125.xtc\n",
      "Error in 1125/18592_trj_1125.xtc\n",
      "Error in 1125/18590_trj_1125.xtc\n"
     ]
    },
    {
     "name": "stderr",
     "output_type": "stream",
     "text": [
      " 64%|██████▍   | 160/250 [02:38<01:42,  1.14s/it]/home/adri/.virtualenvs/bias/lib/python3.10/site-packages/MDAnalysis/topology/PDBParser.py:290: UserWarning: PDB file is missing resid information.  Defaulted to '1'\n",
      "  warnings.warn(\"PDB file is missing resid information.  \"\n",
      "/home/adri/.virtualenvs/bias/lib/python3.10/site-packages/MDAnalysis/topology/PDBParser.py:373: UserWarning: Unknown entry 1 encountered in formal charge field. This likely indicates that the PDB file is not fully standard compliant. The formalcharges attribute will not be populated.\n",
      "  warnings.warn(wmsg)\n",
      " 78%|███████▊  | 194/250 [03:09<00:51,  1.08it/s]"
     ]
    },
    {
     "name": "stdout",
     "output_type": "stream",
     "text": [
      "Error in 1123/18573_trj_1123.xtc\n",
      "Error in 1123/18575_trj_1123.xtc\n",
      "Error in 1123/18574_trj_1123.xtc\n"
     ]
    },
    {
     "name": "stderr",
     "output_type": "stream",
     "text": [
      " 83%|████████▎ | 207/250 [03:19<00:32,  1.33it/s]/home/adri/.virtualenvs/bias/lib/python3.10/site-packages/MDAnalysis/topology/PDBParser.py:373: UserWarning: Unknown entry a encountered in formal charge field. This likely indicates that the PDB file is not fully standard compliant. The formalcharges attribute will not be populated.\n",
      "  warnings.warn(wmsg)\n",
      " 85%|████████▌ | 213/250 [03:25<00:41,  1.12s/it]"
     ]
    },
    {
     "name": "stdout",
     "output_type": "stream",
     "text": [
      "Error in 1126/18602_trj_1126.xtc\n",
      "Error in 1126/18601_trj_1126.xtc\n",
      "Error in 1126/18600_trj_1126.xtc\n",
      "Error in 1044/17428_trj_1044.xtc\n",
      "Error in 1044/17427_trj_1044.xtc\n",
      "Error in 1044/17426_trj_1044.xtc\n"
     ]
    },
    {
     "name": "stderr",
     "output_type": "stream",
     "text": [
      " 88%|████████▊ | 219/250 [03:30<00:32,  1.05s/it]"
     ]
    },
    {
     "name": "stdout",
     "output_type": "stream",
     "text": [
      "Error in 219/12043_trj_219.xtc\n"
     ]
    },
    {
     "name": "stderr",
     "output_type": "stream",
     "text": [
      " 90%|████████▉ | 224/250 [03:35<00:25,  1.04it/s]"
     ]
    },
    {
     "name": "stdout",
     "output_type": "stream",
     "text": [
      "Error in 1062/17548_trj_1062.xtc\n",
      "Error in 1062/17547_trj_1062.xtc\n",
      "Error in 1062/17546_trj_1062.xtc\n"
     ]
    },
    {
     "name": "stderr",
     "output_type": "stream",
     "text": [
      "100%|██████████| 250/250 [04:01<00:00,  1.03it/s]\n"
     ]
    }
   ],
   "source": [
    "import MDAnalysis as mda\n",
    "import os\n",
    "import pandas as pd\n",
    "from tqdm import tqdm\n",
    "os.chdir(\"/home/adri/Projects/phd/pipeline\")\n",
    "\n",
    "list_of_files = os.listdir(\"data/raw/simulations\")\n",
    "frames_list = []\n",
    "for system_folder in tqdm(list_of_files):\n",
    "    system_name = system_folder.split('/')[-1]\n",
    "    files = os.listdir(f\"data/raw/simulations/{system_folder}\")\n",
    "\n",
    "    # Filtering files based on extensions\n",
    "    traj_files = [f for f in files if f.endswith(('.xtc', '.dcd'))]\n",
    "    topologies = [f for f in files if f.endswith(('.psf', '.top', '.pdb'))]\n",
    "\n",
    "    top = f\"data/raw/simulations/{system_folder}/{topologies[0]}\"\n",
    "\n",
    "    for traj in traj_files:\n",
    "        try:\n",
    "\n",
    "            traj_path = f\"data/raw/simulations/{system_folder}/{traj}\"\n",
    "            # get the length of the simulation\n",
    "            u = mda.Universe(top, traj_path)\n",
    "            n_frames = u.trajectory.n_frames\n",
    "            ns = n_frames * u.trajectory.dt / 1000\n",
    "            frames_list.append([system_name, n_frames, ns])\n",
    "        except:\n",
    "            print(f\"Error in {system_folder}/{traj}\")\n",
    "\n"
   ]
  },
  {
   "cell_type": "code",
   "execution_count": 23,
   "metadata": {},
   "outputs": [],
   "source": [
    "frames_df = pd.DataFrame(frames_list, columns=['system', 'n_frames', 'time'])"
   ]
  },
  {
   "cell_type": "code",
   "execution_count": 24,
   "metadata": {},
   "outputs": [
    {
     "data": {
      "text/html": [
       "<div>\n",
       "<style scoped>\n",
       "    .dataframe tbody tr th:only-of-type {\n",
       "        vertical-align: middle;\n",
       "    }\n",
       "\n",
       "    .dataframe tbody tr th {\n",
       "        vertical-align: top;\n",
       "    }\n",
       "\n",
       "    .dataframe thead th {\n",
       "        text-align: right;\n",
       "    }\n",
       "</style>\n",
       "<table border=\"1\" class=\"dataframe\">\n",
       "  <thead>\n",
       "    <tr style=\"text-align: right;\">\n",
       "      <th></th>\n",
       "      <th>system</th>\n",
       "      <th>n_frames</th>\n",
       "      <th>time</th>\n",
       "    </tr>\n",
       "  </thead>\n",
       "  <tbody>\n",
       "    <tr>\n",
       "      <th>0</th>\n",
       "      <td>707</td>\n",
       "      <td>2500</td>\n",
       "      <td>500.0</td>\n",
       "    </tr>\n",
       "    <tr>\n",
       "      <th>1</th>\n",
       "      <td>707</td>\n",
       "      <td>2500</td>\n",
       "      <td>500.0</td>\n",
       "    </tr>\n",
       "    <tr>\n",
       "      <th>2</th>\n",
       "      <td>707</td>\n",
       "      <td>2500</td>\n",
       "      <td>500.0</td>\n",
       "    </tr>\n",
       "    <tr>\n",
       "      <th>3</th>\n",
       "      <td>40</td>\n",
       "      <td>2500</td>\n",
       "      <td>500000.0</td>\n",
       "    </tr>\n",
       "    <tr>\n",
       "      <th>4</th>\n",
       "      <td>40</td>\n",
       "      <td>2500</td>\n",
       "      <td>500000.0</td>\n",
       "    </tr>\n",
       "    <tr>\n",
       "      <th>...</th>\n",
       "      <td>...</td>\n",
       "      <td>...</td>\n",
       "      <td>...</td>\n",
       "    </tr>\n",
       "    <tr>\n",
       "      <th>663</th>\n",
       "      <td>1012</td>\n",
       "      <td>2500</td>\n",
       "      <td>500.0</td>\n",
       "    </tr>\n",
       "    <tr>\n",
       "      <th>664</th>\n",
       "      <td>1012</td>\n",
       "      <td>2500</td>\n",
       "      <td>500.0</td>\n",
       "    </tr>\n",
       "    <tr>\n",
       "      <th>665</th>\n",
       "      <td>1021</td>\n",
       "      <td>2500</td>\n",
       "      <td>500.0</td>\n",
       "    </tr>\n",
       "    <tr>\n",
       "      <th>666</th>\n",
       "      <td>1021</td>\n",
       "      <td>2500</td>\n",
       "      <td>500.0</td>\n",
       "    </tr>\n",
       "    <tr>\n",
       "      <th>667</th>\n",
       "      <td>1021</td>\n",
       "      <td>2500</td>\n",
       "      <td>500.0</td>\n",
       "    </tr>\n",
       "  </tbody>\n",
       "</table>\n",
       "<p>668 rows × 3 columns</p>\n",
       "</div>"
      ],
      "text/plain": [
       "    system  n_frames      time\n",
       "0      707      2500     500.0\n",
       "1      707      2500     500.0\n",
       "2      707      2500     500.0\n",
       "3       40      2500  500000.0\n",
       "4       40      2500  500000.0\n",
       "..     ...       ...       ...\n",
       "663   1012      2500     500.0\n",
       "664   1012      2500     500.0\n",
       "665   1021      2500     500.0\n",
       "666   1021      2500     500.0\n",
       "667   1021      2500     500.0\n",
       "\n",
       "[668 rows x 3 columns]"
      ]
     },
     "execution_count": 24,
     "metadata": {},
     "output_type": "execute_result"
    }
   ],
   "source": [
    "frames_df"
   ]
  },
  {
   "cell_type": "code",
   "execution_count": 25,
   "metadata": {},
   "outputs": [
    {
     "data": {
      "image/png": "[encoded data removed]",
      "text/plain": [
       "<Figure size 640x480 with 1 Axes>"
      ]
     },
     "metadata": {},
     "output_type": "display_data"
    }
   ],
   "source": [
    "# show distribution of frames per simualtion (less than 4000)\n",
    "import seaborn as sns\n",
    "import matplotlib.pyplot as plt\n",
    "\n",
    "sns.histplot([f for f in frames_df.n_frames if f < 4000], bins=50)\n",
    "plt.yscale('log')\n",
    "plt.show()"
   ]
  },
  {
   "cell_type": "code",
   "execution_count": 26,
   "metadata": {},
   "outputs": [
    {
     "data": {
      "text/plain": [
       "n_frames\n",
       "2500    568\n",
       "1000      4\n",
       "1750      3\n",
       "3347      2\n",
       "2000      2\n",
       "       ... \n",
       "5         1\n",
       "967       1\n",
       "878       1\n",
       "500       1\n",
       "1637      1\n",
       "Name: count, Length: 90, dtype: int64"
      ]
     },
     "execution_count": 26,
     "metadata": {},
     "output_type": "execute_result"
    }
   ],
   "source": [
    "frames_df.n_frames.value_counts()"
   ]
  },
  {
   "cell_type": "code",
   "execution_count": 27,
   "metadata": {},
   "outputs": [
    {
     "data": {
      "image/png": "[encoded data removed]",
      "text/plain": [
       "<Figure size 640x480 with 1 Axes>"
      ]
     },
     "metadata": {},
     "output_type": "display_data"
    }
   ],
   "source": [
    "# show distribution of number of replicates per system\n",
    "sns.histplot(frames_df.system.value_counts(), bins=50)\n",
    "plt.yscale('log')\n",
    "plt.show()"
   ]
  },
  {
   "cell_type": "code",
   "execution_count": 29,
   "metadata": {},
   "outputs": [
    {
     "data": {
      "text/plain": [
       "<Axes: xlabel='time', ylabel='Count'>"
      ]
     },
     "execution_count": 29,
     "metadata": {},
     "output_type": "execute_result"
    },
    {
     "data": {
      "image/png": "[encoded data removed]",
      "text/plain": [
       "<Figure size 640x480 with 1 Axes>"
      ]
     },
     "metadata": {},
     "output_type": "display_data"
    }
   ],
   "source": [
    "# Check the distribution of duration in nano seconds\n",
    "sns.histplot(frames_df.time, bins=50)"
   ]
  },
  {
   "cell_type": "code",
   "execution_count": 31,
   "metadata": {},
   "outputs": [
    {
     "data": {
      "text/plain": [
       "time\n",
       "500.000000       353\n",
       "500000.000000    212\n",
       "350000.000000      3\n",
       "0.000000           3\n",
       "0.075092           2\n",
       "                ... \n",
       "16.800000          1\n",
       "9.400000           1\n",
       "1.000000           1\n",
       "193.400000         1\n",
       "30.600000          1\n",
       "Name: count, Length: 94, dtype: int64"
      ]
     },
     "execution_count": 31,
     "metadata": {},
     "output_type": "execute_result"
    }
   ],
   "source": [
    "frames_df.time.value_counts()"
   ]
  },
  {
   "cell_type": "code",
   "execution_count": 32,
   "metadata": {},
   "outputs": [],
   "source": [
    "import optuna\n",
    "import sklearn"
   ]
  },
  {
   "cell_type": "code",
   "execution_count": 33,
   "metadata": {},
   "outputs": [
    {
     "name": "stdout",
     "output_type": "stream",
     "text": [
      "1.3.0\n"
     ]
    },
    {
     "data": {
      "text/plain": [
       "'3.4.0'"
      ]
     },
     "execution_count": 33,
     "metadata": {},
     "output_type": "execute_result"
    }
   ],
   "source": [
    "print(sklearn.__version__)\n",
    "optuna.__version__"
   ]
  },
  {
   "cell_type": "markdown",
   "metadata": {},
   "source": [
    "# Feature importance"
   ]
  },
  {
   "cell_type": "code",
   "execution_count": null,
   "metadata": {},
   "outputs": [],
   "source": []
  }
 ],
 "metadata": {
  "kernelspec": {
   "display_name": "bias",
   "language": "python",
   "name": "python3"
  },
  "language_info": {
   "codemirror_mode": {
    "name": "ipython",
    "version": 3
   },
   "file_extension": ".py",
   "mimetype": "text/x-python",
   "name": "python",
   "nbconvert_exporter": "python",
   "pygments_lexer": "ipython3",
   "version": "3.10.12"
  },
  "orig_nbformat": 4
 },
 "nbformat": 4,
 "nbformat_minor": 2
}
