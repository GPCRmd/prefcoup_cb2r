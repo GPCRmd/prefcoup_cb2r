{
 "cells": [
  {
   "attachments": {},
   "cell_type": "markdown",
   "metadata": {},
   "source": [
    "# Cluster Analysis"
   ]
  },
  {
   "attachments": {},
   "cell_type": "markdown",
   "metadata": {},
   "source": [
    "### Import modules"
   ]
  },
  {
   "cell_type": "code",
   "execution_count": 1,
   "metadata": {},
   "outputs": [
    {
     "data": {
      "application/vnd.jupyter.widget-view+json": {
       "model_id": "6a24bae65ff449759f2c8e4cedb0d4aa",
       "version_major": 2,
       "version_minor": 0
      },
      "text/plain": []
     },
     "metadata": {},
     "output_type": "display_data"
    }
   ],
   "source": [
    "# General\n",
    "import os\n",
    "import sys\n",
    "import re\n",
    "\n",
    "# Data handling\n",
    "import pandas as pd\n",
    "import numpy as np\n",
    "\n",
    "# Data Science\n",
    "from sklearn.decomposition import PCA\n",
    "from sklearn.svm import SVC\n",
    "import shap\n",
    "\n",
    "# Visualization\n",
    "import seaborn as sns\n",
    "import matplotlib.pyplot as plt\n",
    "\n",
    "# MD\n",
    "import MDAnalysis as mda\n",
    "import nglview as nv"
   ]
  },
  {
   "cell_type": "code",
   "execution_count": 2,
   "metadata": {},
   "outputs": [],
   "source": [
    "# Move wd to project root\n",
    "os.chdir('/home/amorales/Documents/projects/bias_2')\n",
    "\n",
    "# Import utils modules\n",
    "sys.path.append('src/utils')\n",
    "from get_BW_nomenclature import get_bw\n",
    "sys.path.append('src/models')\n",
    "from utils import StratifiedGroupKFold, get_sample_balanced_weight"
   ]
  },
  {
   "attachments": {},
   "cell_type": "markdown",
   "metadata": {},
   "source": [
    "## Load Data"
   ]
  },
  {
   "cell_type": "code",
   "execution_count": 24,
   "metadata": {},
   "outputs": [
    {
     "name": "stderr",
     "output_type": "stream",
     "text": [
      "Columns (1) have mixed types.Specify dtype option on import or set low_memory=False.\n"
     ]
    }
   ],
   "source": [
    "# Move wd to project root\n",
    "df = pd.read_csv('data/processed/features_new.csv', index_col=0)\n",
    "df.mutant_id = df.mutant_id.astype(str)"
   ]
  },
  {
   "cell_type": "markdown",
   "metadata": {},
   "source": [
    "## Process data"
   ]
  },
  {
   "cell_type": "code",
   "execution_count": 25,
   "metadata": {},
   "outputs": [],
   "source": [
    "# Separate Features and labels\n",
    "contact_columns = [col for col in df.columns if '-' in col]\n",
    "X = df[contact_columns]\n",
    "y = df.profile\n",
    "group = df.mutant_id"
   ]
  },
  {
   "cell_type": "code",
   "execution_count": 26,
   "metadata": {},
   "outputs": [],
   "source": [
    "# Filter Contacts happening in the receptor core\n",
    "u = mda.Universe('data/interim/aligned_sims/WT/structure.psf','data/interim/wt.pdb')\n",
    "core = u.select_atoms('protein and name CA  and (prop z > 80) and (prop z < 115)')\n",
    "core_resids = [str(resid) for resid in core.atoms.resids]\n",
    "\n",
    "core_contacts = []\n",
    "for col in X.columns:\n",
    "    if len(set(col.split('-')) & set(core_resids)) == 2:\n",
    "        core_contacts.append(col)\n",
    "        \n",
    "X = X[core_contacts]"
   ]
  },
  {
   "cell_type": "code",
   "execution_count": 27,
   "metadata": {},
   "outputs": [],
   "source": [
    "# Remove Features with low variability\n",
    "# X = X.loc[:, (X.std() > 0.15).values.flatten()]"
   ]
  },
  {
   "cell_type": "code",
   "execution_count": 28,
   "metadata": {},
   "outputs": [],
   "source": [
    "# Remove residues with high correlation\n",
    "def get_low_corr_df(df, max_corr):\n",
    "    \"\"\"Generates a dataframe without high correlated features\n",
    "\n",
    "    Args:\n",
    "        df (pandas.DataFrame): dataframe holding features and optionally labels, and groups\n",
    "        feature_cols (list): a list holding the column names of df that correspond to features\n",
    "        max_corr (float): Scalar between 0 and 1 that defines the max correlation present in clean_df and used to build the correlation dictionary\n",
    "\n",
    "    Returns:\n",
    "        clean_df (pandas.DataFrame): DataFrame holding a version of df with a max correlation below max_corr\n",
    "        corr_dict (dict): Dictionary relating one feature to all the residues with a correlation higher than max_corr\n",
    "        \n",
    "    \"\"\"\n",
    "    \n",
    "    real_corr_matrix = df.corr()\n",
    "    abs_corr_matrix = real_corr_matrix.abs()\n",
    "    # Extract the upper trinagule from the correlation matrix\n",
    "    upper = abs_corr_matrix.where(\n",
    "        np.triu(np.ones(abs_corr_matrix.shape),  k=1).astype(np.bool))\n",
    "    # Remove redundant features with a correlation higher than max_corr\n",
    "    to_drop = [column for column in upper.columns if any(upper[column] > max_corr)]\n",
    "    clean_df = df.drop(to_drop, axis=1)\n",
    "    \n",
    "    # Generate correlation dict\n",
    "    corr_dict = {}\n",
    "    for feat in df.columns:\n",
    "        \n",
    "        # get a mask for features highly correlated to feat \n",
    "        high_corr_mask = abs_corr_matrix[str(feat)] > max_corr\n",
    "        \n",
    "        # Get the column names corresponding to those features\n",
    "        cols = real_corr_matrix.columns[high_corr_mask]\n",
    "        \n",
    "        # link feat and the set of columns in the correlation dict\n",
    "        corr_dict[feat] = cols\n",
    "    \n",
    "    return clean_df, corr_dict\n",
    "\n",
    "X, corr_dict = get_low_corr_df(X, 0.8)"
   ]
  },
  {
   "cell_type": "code",
   "execution_count": 29,
   "metadata": {},
   "outputs": [],
   "source": [
    "# Remove interactions between residues close in the sequence\n",
    "res_dist_list = []\n",
    "\n",
    "for contact in X.columns:\n",
    "    r1, r2 = map(int, contact.split('-'))\n",
    "    \n",
    "    diff = abs(r1 - r2)\n",
    "    res_dist_list.append(diff)\n",
    "    \n",
    "res_dist_list = np.array(res_dist_list)\n",
    "# Create a mask for filtering interactions between residues separated in the sequence\n",
    "sep_res_mask = res_dist_list > 4\n",
    "X = X.loc[:, sep_res_mask]\n"
   ]
  },
  {
   "cell_type": "code",
   "execution_count": 30,
   "metadata": {},
   "outputs": [],
   "source": [
    "# # Keep only conserved domains interacionts\n",
    "# micro_switch_dict = {'dry': range(130, 133),\n",
    "#                 'npxxy': range(295, 300),\n",
    "#                 'cwp': range(257, 261),\n",
    "#                 'pif': [121, 201, 254],\n",
    "#                 'sod_bs': [80, 120, 291, 292],\n",
    "#                 'toogle_s': [258],\n",
    "#                 '6.30': [240]}\n",
    "\n",
    "# ms_resids = [str(resid) for ms in micro_switch_dict.values() for resid in ms]\n",
    "# ms_contacts = [contact for contact in X.columns if set.intersection(set(ms_resids), set(contact.split('-')))]\n",
    "\n",
    "# X = X[ms_contacts]"
   ]
  },
  {
   "cell_type": "markdown",
   "metadata": {},
   "source": [
    "## PCA analysis"
   ]
  },
  {
   "cell_type": "code",
   "execution_count": 31,
   "metadata": {},
   "outputs": [],
   "source": [
    "n_comp = 10\n",
    "pca = PCA(n_components=n_comp)"
   ]
  },
  {
   "cell_type": "code",
   "execution_count": 45,
   "metadata": {},
   "outputs": [],
   "source": [
    "pca_df = pca.fit_transform(X)\n",
    "pca_df = pd.DataFrame(pca_df, columns=[f'pc{i}' for i in range(1, n_comp+1)])\n",
    "pc_X = pca_df.copy()\n",
    "pca_df[['mutant_id', 'replica', 'profile']] = df[['mutant_id', 'replica', 'profile']].reset_index(drop=True)"
   ]
  },
  {
   "cell_type": "code",
   "execution_count": 46,
   "metadata": {},
   "outputs": [],
   "source": [
    "# for i in range(1,n_comp+1):\n",
    "#     for j in range(1,n_comp+1):\n",
    "#         c1 = f\"pc{i}\"\n",
    "#         c2 = f\"pc{j}\"\n",
    "        \n",
    "#         # plt.figure(dpi=300)\n",
    "#         sns.scatterplot(data=pca_df, x=c1, y=c2, hue='profile')\n",
    "#         sns.scatterplot(data=pca_df[pca_df.mutant_id == 'wt'], x=c1, y=c2, color='red')\n",
    "        \n",
    "#         plt.show()"
   ]
  },
  {
   "cell_type": "markdown",
   "metadata": {},
   "source": [
    "## Fit the data"
   ]
  },
  {
   "cell_type": "code",
   "execution_count": 47,
   "metadata": {},
   "outputs": [],
   "source": [
    "from sklearn.model_selection import GroupKFold\n",
    "from sklearn.metrics import f1_score, accuracy_score\n",
    "from sklearn.linear_model import LogisticRegression"
   ]
  },
  {
   "cell_type": "code",
   "execution_count": 50,
   "metadata": {},
   "outputs": [
    {
     "ename": "ValueError",
     "evalue": "C <= 0",
     "output_type": "error",
     "traceback": [
      "\u001b[0;31m---------------------------------------------------------------------------\u001b[0m",
      "\u001b[0;31mValueError\u001b[0m                                Traceback (most recent call last)",
      "\u001b[0;32m<ipython-input-50-12d2fb4cd385>\u001b[0m in \u001b[0;36m<module>\u001b[0;34m\u001b[0m\n\u001b[1;32m     12\u001b[0m         \u001b[0my_train\u001b[0m\u001b[0;34m,\u001b[0m \u001b[0my_test\u001b[0m \u001b[0;34m=\u001b[0m \u001b[0my\u001b[0m\u001b[0;34m.\u001b[0m\u001b[0mvalues\u001b[0m\u001b[0;34m[\u001b[0m\u001b[0mtrain_index\u001b[0m\u001b[0;34m]\u001b[0m\u001b[0;34m,\u001b[0m \u001b[0my\u001b[0m\u001b[0;34m.\u001b[0m\u001b[0mvalues\u001b[0m\u001b[0;34m[\u001b[0m\u001b[0mtest_index\u001b[0m\u001b[0;34m]\u001b[0m\u001b[0;34m\u001b[0m\u001b[0;34m\u001b[0m\u001b[0m\n\u001b[1;32m     13\u001b[0m \u001b[0;34m\u001b[0m\u001b[0m\n\u001b[0;32m---> 14\u001b[0;31m         \u001b[0mclf\u001b[0m\u001b[0;34m.\u001b[0m\u001b[0mfit\u001b[0m\u001b[0;34m(\u001b[0m\u001b[0mX_train\u001b[0m\u001b[0;34m,\u001b[0m \u001b[0my_train\u001b[0m\u001b[0;34m)\u001b[0m\u001b[0;34m\u001b[0m\u001b[0;34m\u001b[0m\u001b[0m\n\u001b[0m\u001b[1;32m     15\u001b[0m         \u001b[0mpred\u001b[0m \u001b[0;34m=\u001b[0m \u001b[0mclf\u001b[0m\u001b[0;34m.\u001b[0m\u001b[0mpredict\u001b[0m\u001b[0;34m(\u001b[0m\u001b[0mX_test\u001b[0m\u001b[0;34m)\u001b[0m\u001b[0;34m\u001b[0m\u001b[0;34m\u001b[0m\u001b[0m\n\u001b[1;32m     16\u001b[0m \u001b[0;34m\u001b[0m\u001b[0m\n",
      "\u001b[0;32m~/.virtualenvs/bias/lib64/python3.6/site-packages/sklearn/svm/_base.py\u001b[0m in \u001b[0;36mfit\u001b[0;34m(self, X, y, sample_weight)\u001b[0m\n\u001b[1;32m    224\u001b[0m \u001b[0;34m\u001b[0m\u001b[0m\n\u001b[1;32m    225\u001b[0m         \u001b[0mseed\u001b[0m \u001b[0;34m=\u001b[0m \u001b[0mrnd\u001b[0m\u001b[0;34m.\u001b[0m\u001b[0mrandint\u001b[0m\u001b[0;34m(\u001b[0m\u001b[0mnp\u001b[0m\u001b[0;34m.\u001b[0m\u001b[0miinfo\u001b[0m\u001b[0;34m(\u001b[0m\u001b[0;34m'i'\u001b[0m\u001b[0;34m)\u001b[0m\u001b[0;34m.\u001b[0m\u001b[0mmax\u001b[0m\u001b[0;34m)\u001b[0m\u001b[0;34m\u001b[0m\u001b[0;34m\u001b[0m\u001b[0m\n\u001b[0;32m--> 226\u001b[0;31m         \u001b[0mfit\u001b[0m\u001b[0;34m(\u001b[0m\u001b[0mX\u001b[0m\u001b[0;34m,\u001b[0m \u001b[0my\u001b[0m\u001b[0;34m,\u001b[0m \u001b[0msample_weight\u001b[0m\u001b[0;34m,\u001b[0m \u001b[0msolver_type\u001b[0m\u001b[0;34m,\u001b[0m \u001b[0mkernel\u001b[0m\u001b[0;34m,\u001b[0m \u001b[0mrandom_seed\u001b[0m\u001b[0;34m=\u001b[0m\u001b[0mseed\u001b[0m\u001b[0;34m)\u001b[0m\u001b[0;34m\u001b[0m\u001b[0;34m\u001b[0m\u001b[0m\n\u001b[0m\u001b[1;32m    227\u001b[0m         \u001b[0;31m# see comment on the other call to np.iinfo in this file\u001b[0m\u001b[0;34m\u001b[0m\u001b[0;34m\u001b[0m\u001b[0;34m\u001b[0m\u001b[0m\n\u001b[1;32m    228\u001b[0m \u001b[0;34m\u001b[0m\u001b[0m\n",
      "\u001b[0;32m~/.virtualenvs/bias/lib64/python3.6/site-packages/sklearn/svm/_base.py\u001b[0m in \u001b[0;36m_dense_fit\u001b[0;34m(self, X, y, sample_weight, solver_type, kernel, random_seed)\u001b[0m\n\u001b[1;32m    283\u001b[0m                 \u001b[0mcache_size\u001b[0m\u001b[0;34m=\u001b[0m\u001b[0mself\u001b[0m\u001b[0;34m.\u001b[0m\u001b[0mcache_size\u001b[0m\u001b[0;34m,\u001b[0m \u001b[0mcoef0\u001b[0m\u001b[0;34m=\u001b[0m\u001b[0mself\u001b[0m\u001b[0;34m.\u001b[0m\u001b[0mcoef0\u001b[0m\u001b[0;34m,\u001b[0m\u001b[0;34m\u001b[0m\u001b[0;34m\u001b[0m\u001b[0m\n\u001b[1;32m    284\u001b[0m                 \u001b[0mgamma\u001b[0m\u001b[0;34m=\u001b[0m\u001b[0mself\u001b[0m\u001b[0;34m.\u001b[0m\u001b[0m_gamma\u001b[0m\u001b[0;34m,\u001b[0m \u001b[0mepsilon\u001b[0m\u001b[0;34m=\u001b[0m\u001b[0mself\u001b[0m\u001b[0;34m.\u001b[0m\u001b[0mepsilon\u001b[0m\u001b[0;34m,\u001b[0m\u001b[0;34m\u001b[0m\u001b[0;34m\u001b[0m\u001b[0m\n\u001b[0;32m--> 285\u001b[0;31m                 max_iter=self.max_iter, random_seed=random_seed)\n\u001b[0m\u001b[1;32m    286\u001b[0m \u001b[0;34m\u001b[0m\u001b[0m\n\u001b[1;32m    287\u001b[0m         \u001b[0mself\u001b[0m\u001b[0;34m.\u001b[0m\u001b[0m_warn_from_fit_status\u001b[0m\u001b[0;34m(\u001b[0m\u001b[0;34m)\u001b[0m\u001b[0;34m\u001b[0m\u001b[0;34m\u001b[0m\u001b[0m\n",
      "\u001b[0;32msklearn/svm/_libsvm.pyx\u001b[0m in \u001b[0;36msklearn.svm._libsvm.fit\u001b[0;34m()\u001b[0m\n",
      "\u001b[0;31mValueError\u001b[0m: C <= 0"
     ]
    }
   ],
   "source": [
    "features = pc_X\n",
    "score_df = []\n",
    "for c in np.linspace(0, 2, 1000):\n",
    "    \n",
    "    clf = SVC(kernel='rbf', C=c, class_weight='balanced')\n",
    "    # clf = LogisticRegression(C=c, class_weight='balanced')\n",
    "    kf = GroupKFold(n_splits=5, )\n",
    "\n",
    "    \n",
    "    for train_index, test_index in kf.split(features, y, groups=group, ):\n",
    "        X_train, X_test = features.values[train_index], features.values[test_index]\n",
    "        y_train, y_test = y.values[train_index], y.values[test_index]\n",
    "        \n",
    "        clf.fit(X_train, y_train)\n",
    "        pred = clf.predict(X_test)\n",
    "        \n",
    "        # score = f1_score(y_test, pred)\n",
    "        sample_weight, class_weight = get_sample_balanced_weight(y_test)\n",
    "        score = accuracy_score(y_test, pred, sample_weight=sample_weight)\n",
    "       \n",
    "        score_df.append([c, score])\n",
    "        \n",
    "score_df = pd.DataFrame(score_df, columns = ['c', 'score'])"
   ]
  },
  {
   "cell_type": "code",
   "execution_count": 49,
   "metadata": {},
   "outputs": [
    {
     "data": {
      "image/png": "[encoded data removed]",
      "text/plain": [
       "<Figure size 900x600 with 1 Axes>"
      ]
     },
     "metadata": {
      "needs_background": "light"
     },
     "output_type": "display_data"
    }
   ],
   "source": [
    "plt.figure(dpi=150)\n",
    "sns.lineplot(data=score_df, x='c', y='score')\n",
    "plt.show()"
   ]
  },
  {
   "cell_type": "code",
   "execution_count": 99,
   "metadata": {},
   "outputs": [
    {
     "data": {
      "text/html": [
       "<div>\n",
       "<style scoped>\n",
       "    .dataframe tbody tr th:only-of-type {\n",
       "        vertical-align: middle;\n",
       "    }\n",
       "\n",
       "    .dataframe tbody tr th {\n",
       "        vertical-align: top;\n",
       "    }\n",
       "\n",
       "    .dataframe thead th {\n",
       "        text-align: right;\n",
       "    }\n",
       "</style>\n",
       "<table border=\"1\" class=\"dataframe\">\n",
       "  <thead>\n",
       "    <tr style=\"text-align: right;\">\n",
       "      <th></th>\n",
       "      <th>score</th>\n",
       "    </tr>\n",
       "    <tr>\n",
       "      <th>c</th>\n",
       "      <th></th>\n",
       "    </tr>\n",
       "  </thead>\n",
       "  <tbody>\n",
       "    <tr>\n",
       "      <th>0.061922</th>\n",
       "      <td>0.448333</td>\n",
       "    </tr>\n",
       "    <tr>\n",
       "      <th>0.060060</th>\n",
       "      <td>0.448333</td>\n",
       "    </tr>\n",
       "    <tr>\n",
       "      <th>0.061221</th>\n",
       "      <td>0.448333</td>\n",
       "    </tr>\n",
       "    <tr>\n",
       "      <th>0.061822</th>\n",
       "      <td>0.448333</td>\n",
       "    </tr>\n",
       "    <tr>\n",
       "      <th>0.062482</th>\n",
       "      <td>0.448333</td>\n",
       "    </tr>\n",
       "    <tr>\n",
       "      <th>...</th>\n",
       "      <td>...</td>\n",
       "    </tr>\n",
       "    <tr>\n",
       "      <th>0.067267</th>\n",
       "      <td>0.721667</td>\n",
       "    </tr>\n",
       "    <tr>\n",
       "      <th>0.062583</th>\n",
       "      <td>0.721667</td>\n",
       "    </tr>\n",
       "    <tr>\n",
       "      <th>0.063283</th>\n",
       "      <td>0.721667</td>\n",
       "    </tr>\n",
       "    <tr>\n",
       "      <th>0.067287</th>\n",
       "      <td>0.721667</td>\n",
       "    </tr>\n",
       "    <tr>\n",
       "      <th>0.064204</th>\n",
       "      <td>0.721667</td>\n",
       "    </tr>\n",
       "  </tbody>\n",
       "</table>\n",
       "<p>1000 rows × 1 columns</p>\n",
       "</div>"
      ],
      "text/plain": [
       "             score\n",
       "c                 \n",
       "0.061922  0.448333\n",
       "0.060060  0.448333\n",
       "0.061221  0.448333\n",
       "0.061822  0.448333\n",
       "0.062482  0.448333\n",
       "...            ...\n",
       "0.067267  0.721667\n",
       "0.062583  0.721667\n",
       "0.063283  0.721667\n",
       "0.067287  0.721667\n",
       "0.064204  0.721667\n",
       "\n",
       "[1000 rows x 1 columns]"
      ]
     },
     "execution_count": 99,
     "metadata": {},
     "output_type": "execute_result"
    }
   ],
   "source": [
    "pd.DataFrame(score_df.groupby('c').score.mean()).sort_values('score')"
   ]
  },
  {
   "cell_type": "code",
   "execution_count": 102,
   "metadata": {},
   "outputs": [
    {
     "name": "stdout",
     "output_type": "stream",
     "text": [
      "0.5000000000000001\n",
      "0.6250000000000001\n",
      "0.5833333333333333\n",
      "0.65\n",
      "1.0\n"
     ]
    }
   ],
   "source": [
    "clf = SVC(kernel='rbf', C=0.067267, class_weight='balanced')\n",
    "    # clf = LogisticRegression(C=c, class_weight='balanced')\n",
    "kf = GroupKFold(n_splits=5, )\n",
    "\n",
    "for train_index, test_index in kf.split(features, y, groups=group, ):\n",
    "    X_train, X_test = features.values[train_index], features.values[test_index]\n",
    "    y_train, y_test = y.values[train_index], y.values[test_index]\n",
    "    \n",
    "    clf.fit(X_train, y_train)\n",
    "    pred = clf.predict(X_test)\n",
    "    \n",
    "    # score = f1_score(y_test, pred)\n",
    "    sample_weight, class_weight = get_sample_balanced_weight(y_test)\n",
    "    score = accuracy_score(y_test, pred, sample_weight=sample_weight)\n",
    "    \n",
    "    print(score)"
   ]
  },
  {
   "cell_type": "code",
   "execution_count": 101,
   "metadata": {},
   "outputs": [
    {
     "data": {
      "text/plain": [
       "0.5000000000000001"
      ]
     },
     "execution_count": 101,
     "metadata": {},
     "output_type": "execute_result"
    }
   ],
   "source": [
    "baseline_score = score\n",
    "baseline_score"
   ]
  },
  {
   "cell_type": "code",
   "execution_count": null,
   "metadata": {},
   "outputs": [],
   "source": [
    "permuted_X = X.copy()\n",
    "permutation_indices = np.random.permutation(features.shape[0])\n",
    "permuted_X[:, feature_index] = permuted_X[permutation_indices, feature_index]\n",
    "\n",
    "# Calculate the R^2 score on the permuted data\n",
    "permuted_y_pred = clf.predict(permuted_X)\n",
    "permuted_score = r2_score(y, permuted_y_pred)\n",
    "\n",
    "# Calculate the feature importance as the difference between the baseline score and the permuted score\n",
    "feature_importance = baseline_score - permuted_score"
   ]
  },
  {
   "cell_type": "code",
   "execution_count": 90,
   "metadata": {},
   "outputs": [],
   "source": [
    "c = 0.067267"
   ]
  },
  {
   "cell_type": "code",
   "execution_count": null,
   "metadata": {},
   "outputs": [],
   "source": [
    "while True:\n",
    "    for i in range():\n",
    "        \n",
    "        clf = SVC(kernel='rbf', C=c, class_weight='balanced')\n",
    "        # clf = LogisticRegression(C=c, class_weight='balanced')\n",
    "        kf = GroupKFold(n_splits=5)\n",
    "\n",
    "\n",
    "        for train_index, test_index in kf.split(features, y, groups=group):\n",
    "            X_train, X_test = features.values[train_index], features.values[test_index]\n",
    "            y_train, y_test = y.values[train_index], y.values[test_index]\n",
    "            \n",
    "            clf.fit(X_train, y_train)\n",
    "            pred = clf.predict(X_test)\n",
    "            \n",
    "            # score = f1_score(y_test, pred)\n",
    "            sample_weight, class_weight = get_sample_balanced_weight(y_test)\n",
    "            score = accuracy_score(y_test, pred, sample_weight=sample_weight)\n",
    "\n",
    "            score_df.append([c, score])"
   ]
  },
  {
   "cell_type": "code",
   "execution_count": 86,
   "metadata": {},
   "outputs": [
    {
     "data": {
      "text/html": [
       "<div>\n",
       "<style scoped>\n",
       "    .dataframe tbody tr th:only-of-type {\n",
       "        vertical-align: middle;\n",
       "    }\n",
       "\n",
       "    .dataframe tbody tr th {\n",
       "        vertical-align: top;\n",
       "    }\n",
       "\n",
       "    .dataframe thead th {\n",
       "        text-align: right;\n",
       "    }\n",
       "</style>\n",
       "<table border=\"1\" class=\"dataframe\">\n",
       "  <thead>\n",
       "    <tr style=\"text-align: right;\">\n",
       "      <th></th>\n",
       "      <th>c</th>\n",
       "      <th>score</th>\n",
       "    </tr>\n",
       "  </thead>\n",
       "  <tbody>\n",
       "    <tr>\n",
       "      <th>427</th>\n",
       "      <td>0.062763</td>\n",
       "      <td>0.25</td>\n",
       "    </tr>\n",
       "    <tr>\n",
       "      <th>377</th>\n",
       "      <td>0.061261</td>\n",
       "      <td>0.25</td>\n",
       "    </tr>\n",
       "    <tr>\n",
       "      <th>212</th>\n",
       "      <td>0.056306</td>\n",
       "      <td>0.25</td>\n",
       "    </tr>\n",
       "    <tr>\n",
       "      <th>37</th>\n",
       "      <td>0.051051</td>\n",
       "      <td>0.25</td>\n",
       "    </tr>\n",
       "    <tr>\n",
       "      <th>382</th>\n",
       "      <td>0.061411</td>\n",
       "      <td>0.25</td>\n",
       "    </tr>\n",
       "    <tr>\n",
       "      <th>...</th>\n",
       "      <td>...</td>\n",
       "      <td>...</td>\n",
       "    </tr>\n",
       "    <tr>\n",
       "      <th>564</th>\n",
       "      <td>0.066817</td>\n",
       "      <td>1.00</td>\n",
       "    </tr>\n",
       "    <tr>\n",
       "      <th>569</th>\n",
       "      <td>0.066967</td>\n",
       "      <td>1.00</td>\n",
       "    </tr>\n",
       "    <tr>\n",
       "      <th>574</th>\n",
       "      <td>0.067117</td>\n",
       "      <td>1.00</td>\n",
       "    </tr>\n",
       "    <tr>\n",
       "      <th>479</th>\n",
       "      <td>0.064264</td>\n",
       "      <td>1.00</td>\n",
       "    </tr>\n",
       "    <tr>\n",
       "      <th>509</th>\n",
       "      <td>0.065165</td>\n",
       "      <td>1.00</td>\n",
       "    </tr>\n",
       "  </tbody>\n",
       "</table>\n",
       "<p>5000 rows × 2 columns</p>\n",
       "</div>"
      ],
      "text/plain": [
       "            c  score\n",
       "427  0.062763   0.25\n",
       "377  0.061261   0.25\n",
       "212  0.056306   0.25\n",
       "37   0.051051   0.25\n",
       "382  0.061411   0.25\n",
       "..        ...    ...\n",
       "564  0.066817   1.00\n",
       "569  0.066967   1.00\n",
       "574  0.067117   1.00\n",
       "479  0.064264   1.00\n",
       "509  0.065165   1.00\n",
       "\n",
       "[5000 rows x 2 columns]"
      ]
     },
     "execution_count": 86,
     "metadata": {},
     "output_type": "execute_result"
    }
   ],
   "source": [
    "score_df.sort_values('score')"
   ]
  },
  {
   "cell_type": "code",
   "execution_count": 116,
   "metadata": {},
   "outputs": [
    {
     "name": "stdout",
     "output_type": "stream",
     "text": [
      "0.8764705882352941\n"
     ]
    },
    {
     "data": {
      "image/png": "[encoded data removed]",
      "text/plain": [
       "<Figure size 432x288 with 1 Axes>"
      ]
     },
     "metadata": {
      "needs_background": "light"
     },
     "output_type": "display_data"
    }
   ],
   "source": [
    "# clf = SVC(kernel='poly', degree=3, C=0.1)\n",
    "clf = LogisticRegression()\n",
    "clf.fit(X, y)\n",
    "print(clf.score(X, y))\n",
    "sns.histplot(x=clf.decision_function(X), hue=y)\n",
    "plt.show()"
   ]
  },
  {
   "cell_type": "code",
   "execution_count": 117,
   "metadata": {},
   "outputs": [],
   "source": [
    "# Feature perturbation\n",
    "for feature in X.columns:\n",
    "    tmp_X = X.copy()\n",
    "    "
   ]
  },
  {
   "cell_type": "code",
   "execution_count": 118,
   "metadata": {},
   "outputs": [],
   "source": [
    "from sklearn.inspection import permutation_importance\n"
   ]
  },
  {
   "cell_type": "code",
   "execution_count": 119,
   "metadata": {},
   "outputs": [],
   "source": [
    "r = permutation_importance(clf, X, y, n_repeats=30, random_state=0)"
   ]
  },
  {
   "cell_type": "code",
   "execution_count": 120,
   "metadata": {},
   "outputs": [
    {
     "data": {
      "text/plain": [
       "['127-299', '246-299', '250-299', '51-299', '76-299']"
      ]
     },
     "execution_count": 120,
     "metadata": {},
     "output_type": "execute_result"
    }
   ],
   "source": [
    "[col for col in X.columns if '299' in col]"
   ]
  },
  {
   "cell_type": "code",
   "execution_count": 121,
   "metadata": {},
   "outputs": [
    {
     "name": "stdout",
     "output_type": "stream",
     "text": [
      "87-113  0.035 +/- 0.013\n",
      "195-258 0.035 +/- 0.015\n",
      "121-202 0.031 +/- 0.014\n",
      "41-92   0.026 +/- 0.013\n",
      "120-258 0.025 +/- 0.008\n",
      "41-88   0.021 +/- 0.009\n",
      "44-84   0.020 +/- 0.013\n",
      "131-243 0.019 +/- 0.009\n",
      "124-251 0.019 +/- 0.011\n",
      "50-297  0.018 +/- 0.012\n",
      "264-280 0.018 +/- 0.011\n",
      "121-205 0.016 +/- 0.010\n",
      "250-291 0.016 +/- 0.009\n",
      "260-287 0.014 +/- 0.006\n",
      "253-291 0.014 +/- 0.009\n",
      "80-291  0.014 +/- 0.010\n",
      "40-88   0.013 +/- 0.013\n",
      "300-306 0.012 +/- 0.008\n",
      "37-92   0.011 +/- 0.010\n",
      "84-289  0.011 +/- 0.004\n",
      "143-149 0.010 +/- 0.006\n",
      "117-258 0.010 +/- 0.004\n",
      "257-288 0.010 +/- 0.009\n",
      "209-245 0.009 +/- 0.007\n",
      "65-147  0.009 +/- 0.006\n",
      "91-285  0.008 +/- 0.008\n",
      "80-116  0.007 +/- 0.006\n",
      "70-246  0.005 +/- 0.005\n"
     ]
    }
   ],
   "source": [
    "for i in r.importances_mean.argsort()[::-1]:\n",
    "    if r.importances_mean[i] - r.importances_std[i] > 0:\n",
    "        print(f\"{X.columns[i]:<8}\"\n",
    "              f\"{r.importances_mean[i]:.3f}\"\n",
    "              f\" +/- {r.importances_std[i]:.3f}\")"
   ]
  },
  {
   "cell_type": "code",
   "execution_count": 122,
   "metadata": {},
   "outputs": [
    {
     "data": {
      "text/plain": [
       "<AxesSubplot:xlabel='87-113', ylabel='195-258'>"
      ]
     },
     "execution_count": 122,
     "metadata": {},
     "output_type": "execute_result"
    },
    {
     "data": {
      "image/png": "[encoded data removed]",
      "text/plain": [
       "<Figure size 432x288 with 1 Axes>"
      ]
     },
     "metadata": {
      "needs_background": "light"
     },
     "output_type": "display_data"
    }
   ],
   "source": [
    "sns.scatterplot(data=X, x='87-113', y='195-258', hue=y)"
   ]
  },
  {
   "cell_type": "code",
   "execution_count": 25,
   "metadata": {},
   "outputs": [
    {
     "data": {
      "text/html": [
       "<div>\n",
       "<style scoped>\n",
       "    .dataframe tbody tr th:only-of-type {\n",
       "        vertical-align: middle;\n",
       "    }\n",
       "\n",
       "    .dataframe tbody tr th {\n",
       "        vertical-align: top;\n",
       "    }\n",
       "\n",
       "    .dataframe thead th {\n",
       "        text-align: right;\n",
       "    }\n",
       "</style>\n",
       "<table border=\"1\" class=\"dataframe\">\n",
       "  <thead>\n",
       "    <tr style=\"text-align: right;\">\n",
       "      <th></th>\n",
       "      <th>115-161</th>\n",
       "      <th>117-254</th>\n",
       "      <th>117-258</th>\n",
       "      <th>119-157</th>\n",
       "      <th>121-202</th>\n",
       "      <th>121-205</th>\n",
       "      <th>124-247</th>\n",
       "      <th>124-251</th>\n",
       "      <th>127-299</th>\n",
       "      <th>128-247</th>\n",
       "      <th>...</th>\n",
       "      <th>83-116</th>\n",
       "      <th>84-289</th>\n",
       "      <th>87-113</th>\n",
       "      <th>87-289</th>\n",
       "      <th>91-282</th>\n",
       "      <th>91-285</th>\n",
       "      <th>91-286</th>\n",
       "      <th>128-209</th>\n",
       "      <th>120-258</th>\n",
       "      <th>131-246</th>\n",
       "    </tr>\n",
       "  </thead>\n",
       "  <tbody>\n",
       "    <tr>\n",
       "      <th>0</th>\n",
       "      <td>0.1875</td>\n",
       "      <td>0.4175</td>\n",
       "      <td>0.6800</td>\n",
       "      <td>0.6875</td>\n",
       "      <td>0.5950</td>\n",
       "      <td>0.4675</td>\n",
       "      <td>0.5325</td>\n",
       "      <td>0.2250</td>\n",
       "      <td>0.0025</td>\n",
       "      <td>0.6125</td>\n",
       "      <td>...</td>\n",
       "      <td>0.7525</td>\n",
       "      <td>0.1875</td>\n",
       "      <td>0.6225</td>\n",
       "      <td>0.5150</td>\n",
       "      <td>0.3925</td>\n",
       "      <td>0.7575</td>\n",
       "      <td>0.4300</td>\n",
       "      <td>0.0000</td>\n",
       "      <td>0.0000</td>\n",
       "      <td>0.0</td>\n",
       "    </tr>\n",
       "    <tr>\n",
       "      <th>1</th>\n",
       "      <td>0.3875</td>\n",
       "      <td>0.3125</td>\n",
       "      <td>0.4450</td>\n",
       "      <td>0.7775</td>\n",
       "      <td>0.6550</td>\n",
       "      <td>0.3225</td>\n",
       "      <td>0.4675</td>\n",
       "      <td>0.1600</td>\n",
       "      <td>0.0050</td>\n",
       "      <td>0.4550</td>\n",
       "      <td>...</td>\n",
       "      <td>0.7900</td>\n",
       "      <td>0.2475</td>\n",
       "      <td>0.5100</td>\n",
       "      <td>0.6000</td>\n",
       "      <td>0.6150</td>\n",
       "      <td>0.7450</td>\n",
       "      <td>0.5525</td>\n",
       "      <td>0.0025</td>\n",
       "      <td>0.0000</td>\n",
       "      <td>0.0</td>\n",
       "    </tr>\n",
       "    <tr>\n",
       "      <th>2</th>\n",
       "      <td>0.2925</td>\n",
       "      <td>0.3700</td>\n",
       "      <td>0.8650</td>\n",
       "      <td>0.6275</td>\n",
       "      <td>0.5800</td>\n",
       "      <td>0.4125</td>\n",
       "      <td>0.6100</td>\n",
       "      <td>0.1825</td>\n",
       "      <td>0.0150</td>\n",
       "      <td>0.7100</td>\n",
       "      <td>...</td>\n",
       "      <td>0.8050</td>\n",
       "      <td>0.2050</td>\n",
       "      <td>0.5250</td>\n",
       "      <td>0.5250</td>\n",
       "      <td>0.5900</td>\n",
       "      <td>0.6200</td>\n",
       "      <td>0.5750</td>\n",
       "      <td>0.0025</td>\n",
       "      <td>0.0000</td>\n",
       "      <td>0.0</td>\n",
       "    </tr>\n",
       "    <tr>\n",
       "      <th>3</th>\n",
       "      <td>0.2450</td>\n",
       "      <td>0.1600</td>\n",
       "      <td>0.9325</td>\n",
       "      <td>0.8375</td>\n",
       "      <td>0.3475</td>\n",
       "      <td>0.5625</td>\n",
       "      <td>0.6100</td>\n",
       "      <td>0.2150</td>\n",
       "      <td>0.0050</td>\n",
       "      <td>0.6350</td>\n",
       "      <td>...</td>\n",
       "      <td>0.8250</td>\n",
       "      <td>0.2275</td>\n",
       "      <td>0.2325</td>\n",
       "      <td>0.4200</td>\n",
       "      <td>0.3125</td>\n",
       "      <td>0.1850</td>\n",
       "      <td>0.6625</td>\n",
       "      <td>0.0025</td>\n",
       "      <td>0.0625</td>\n",
       "      <td>0.0</td>\n",
       "    </tr>\n",
       "    <tr>\n",
       "      <th>4</th>\n",
       "      <td>0.3950</td>\n",
       "      <td>0.1600</td>\n",
       "      <td>0.8500</td>\n",
       "      <td>0.6800</td>\n",
       "      <td>0.2250</td>\n",
       "      <td>0.3900</td>\n",
       "      <td>0.5975</td>\n",
       "      <td>0.1800</td>\n",
       "      <td>0.0150</td>\n",
       "      <td>0.6550</td>\n",
       "      <td>...</td>\n",
       "      <td>0.7875</td>\n",
       "      <td>0.2150</td>\n",
       "      <td>0.5400</td>\n",
       "      <td>0.5275</td>\n",
       "      <td>0.5575</td>\n",
       "      <td>0.6525</td>\n",
       "      <td>0.6175</td>\n",
       "      <td>0.0025</td>\n",
       "      <td>0.0175</td>\n",
       "      <td>0.0</td>\n",
       "    </tr>\n",
       "    <tr>\n",
       "      <th>...</th>\n",
       "      <td>...</td>\n",
       "      <td>...</td>\n",
       "      <td>...</td>\n",
       "      <td>...</td>\n",
       "      <td>...</td>\n",
       "      <td>...</td>\n",
       "      <td>...</td>\n",
       "      <td>...</td>\n",
       "      <td>...</td>\n",
       "      <td>...</td>\n",
       "      <td>...</td>\n",
       "      <td>...</td>\n",
       "      <td>...</td>\n",
       "      <td>...</td>\n",
       "      <td>...</td>\n",
       "      <td>...</td>\n",
       "      <td>...</td>\n",
       "      <td>...</td>\n",
       "      <td>...</td>\n",
       "      <td>...</td>\n",
       "      <td>...</td>\n",
       "    </tr>\n",
       "    <tr>\n",
       "      <th>170</th>\n",
       "      <td>0.1025</td>\n",
       "      <td>0.4625</td>\n",
       "      <td>0.6050</td>\n",
       "      <td>0.7675</td>\n",
       "      <td>0.6250</td>\n",
       "      <td>0.7275</td>\n",
       "      <td>0.7525</td>\n",
       "      <td>0.6950</td>\n",
       "      <td>0.0000</td>\n",
       "      <td>0.6700</td>\n",
       "      <td>...</td>\n",
       "      <td>0.3725</td>\n",
       "      <td>0.2800</td>\n",
       "      <td>0.0000</td>\n",
       "      <td>0.4575</td>\n",
       "      <td>0.0000</td>\n",
       "      <td>0.0000</td>\n",
       "      <td>0.0000</td>\n",
       "      <td>0.0050</td>\n",
       "      <td>0.0000</td>\n",
       "      <td>0.0</td>\n",
       "    </tr>\n",
       "    <tr>\n",
       "      <th>171</th>\n",
       "      <td>0.1300</td>\n",
       "      <td>0.3000</td>\n",
       "      <td>0.7000</td>\n",
       "      <td>0.8225</td>\n",
       "      <td>0.6775</td>\n",
       "      <td>0.6500</td>\n",
       "      <td>0.5100</td>\n",
       "      <td>0.7400</td>\n",
       "      <td>0.0000</td>\n",
       "      <td>0.3050</td>\n",
       "      <td>...</td>\n",
       "      <td>0.3800</td>\n",
       "      <td>0.2750</td>\n",
       "      <td>0.0000</td>\n",
       "      <td>0.3850</td>\n",
       "      <td>0.0000</td>\n",
       "      <td>0.0000</td>\n",
       "      <td>0.0000</td>\n",
       "      <td>0.0050</td>\n",
       "      <td>0.0000</td>\n",
       "      <td>0.0</td>\n",
       "    </tr>\n",
       "    <tr>\n",
       "      <th>172</th>\n",
       "      <td>0.1225</td>\n",
       "      <td>0.3450</td>\n",
       "      <td>0.6650</td>\n",
       "      <td>0.7300</td>\n",
       "      <td>0.6000</td>\n",
       "      <td>0.6525</td>\n",
       "      <td>0.5225</td>\n",
       "      <td>0.5375</td>\n",
       "      <td>0.0000</td>\n",
       "      <td>0.5550</td>\n",
       "      <td>...</td>\n",
       "      <td>0.4725</td>\n",
       "      <td>0.3600</td>\n",
       "      <td>0.1700</td>\n",
       "      <td>0.4450</td>\n",
       "      <td>0.0000</td>\n",
       "      <td>0.0000</td>\n",
       "      <td>0.0000</td>\n",
       "      <td>0.0000</td>\n",
       "      <td>0.0000</td>\n",
       "      <td>0.0</td>\n",
       "    </tr>\n",
       "    <tr>\n",
       "      <th>173</th>\n",
       "      <td>0.1350</td>\n",
       "      <td>0.3475</td>\n",
       "      <td>0.7225</td>\n",
       "      <td>0.7325</td>\n",
       "      <td>0.6425</td>\n",
       "      <td>0.6675</td>\n",
       "      <td>0.5800</td>\n",
       "      <td>0.5950</td>\n",
       "      <td>0.0000</td>\n",
       "      <td>0.6775</td>\n",
       "      <td>...</td>\n",
       "      <td>0.4425</td>\n",
       "      <td>0.1875</td>\n",
       "      <td>0.0000</td>\n",
       "      <td>0.3525</td>\n",
       "      <td>0.0000</td>\n",
       "      <td>0.0000</td>\n",
       "      <td>0.0000</td>\n",
       "      <td>0.0000</td>\n",
       "      <td>0.0000</td>\n",
       "      <td>0.0</td>\n",
       "    </tr>\n",
       "    <tr>\n",
       "      <th>174</th>\n",
       "      <td>0.1225</td>\n",
       "      <td>0.4425</td>\n",
       "      <td>0.5225</td>\n",
       "      <td>0.7825</td>\n",
       "      <td>0.5825</td>\n",
       "      <td>0.7225</td>\n",
       "      <td>0.6800</td>\n",
       "      <td>0.7525</td>\n",
       "      <td>0.0000</td>\n",
       "      <td>0.5075</td>\n",
       "      <td>...</td>\n",
       "      <td>0.4000</td>\n",
       "      <td>0.2950</td>\n",
       "      <td>0.1775</td>\n",
       "      <td>0.5200</td>\n",
       "      <td>0.0000</td>\n",
       "      <td>0.0000</td>\n",
       "      <td>0.0000</td>\n",
       "      <td>0.0075</td>\n",
       "      <td>0.0000</td>\n",
       "      <td>0.0</td>\n",
       "    </tr>\n",
       "  </tbody>\n",
       "</table>\n",
       "<p>170 rows × 88 columns</p>\n",
       "</div>"
      ],
      "text/plain": [
       "     115-161  117-254  117-258  119-157  121-202  121-205  124-247  124-251  \\\n",
       "0     0.1875   0.4175   0.6800   0.6875   0.5950   0.4675   0.5325   0.2250   \n",
       "1     0.3875   0.3125   0.4450   0.7775   0.6550   0.3225   0.4675   0.1600   \n",
       "2     0.2925   0.3700   0.8650   0.6275   0.5800   0.4125   0.6100   0.1825   \n",
       "3     0.2450   0.1600   0.9325   0.8375   0.3475   0.5625   0.6100   0.2150   \n",
       "4     0.3950   0.1600   0.8500   0.6800   0.2250   0.3900   0.5975   0.1800   \n",
       "..       ...      ...      ...      ...      ...      ...      ...      ...   \n",
       "170   0.1025   0.4625   0.6050   0.7675   0.6250   0.7275   0.7525   0.6950   \n",
       "171   0.1300   0.3000   0.7000   0.8225   0.6775   0.6500   0.5100   0.7400   \n",
       "172   0.1225   0.3450   0.6650   0.7300   0.6000   0.6525   0.5225   0.5375   \n",
       "173   0.1350   0.3475   0.7225   0.7325   0.6425   0.6675   0.5800   0.5950   \n",
       "174   0.1225   0.4425   0.5225   0.7825   0.5825   0.7225   0.6800   0.7525   \n",
       "\n",
       "     127-299  128-247  ...  83-116  84-289  87-113  87-289  91-282  91-285  \\\n",
       "0     0.0025   0.6125  ...  0.7525  0.1875  0.6225  0.5150  0.3925  0.7575   \n",
       "1     0.0050   0.4550  ...  0.7900  0.2475  0.5100  0.6000  0.6150  0.7450   \n",
       "2     0.0150   0.7100  ...  0.8050  0.2050  0.5250  0.5250  0.5900  0.6200   \n",
       "3     0.0050   0.6350  ...  0.8250  0.2275  0.2325  0.4200  0.3125  0.1850   \n",
       "4     0.0150   0.6550  ...  0.7875  0.2150  0.5400  0.5275  0.5575  0.6525   \n",
       "..       ...      ...  ...     ...     ...     ...     ...     ...     ...   \n",
       "170   0.0000   0.6700  ...  0.3725  0.2800  0.0000  0.4575  0.0000  0.0000   \n",
       "171   0.0000   0.3050  ...  0.3800  0.2750  0.0000  0.3850  0.0000  0.0000   \n",
       "172   0.0000   0.5550  ...  0.4725  0.3600  0.1700  0.4450  0.0000  0.0000   \n",
       "173   0.0000   0.6775  ...  0.4425  0.1875  0.0000  0.3525  0.0000  0.0000   \n",
       "174   0.0000   0.5075  ...  0.4000  0.2950  0.1775  0.5200  0.0000  0.0000   \n",
       "\n",
       "     91-286  128-209  120-258  131-246  \n",
       "0    0.4300   0.0000   0.0000      0.0  \n",
       "1    0.5525   0.0025   0.0000      0.0  \n",
       "2    0.5750   0.0025   0.0000      0.0  \n",
       "3    0.6625   0.0025   0.0625      0.0  \n",
       "4    0.6175   0.0025   0.0175      0.0  \n",
       "..      ...      ...      ...      ...  \n",
       "170  0.0000   0.0050   0.0000      0.0  \n",
       "171  0.0000   0.0050   0.0000      0.0  \n",
       "172  0.0000   0.0000   0.0000      0.0  \n",
       "173  0.0000   0.0000   0.0000      0.0  \n",
       "174  0.0000   0.0075   0.0000      0.0  \n",
       "\n",
       "[170 rows x 88 columns]"
      ]
     },
     "execution_count": 25,
     "metadata": {},
     "output_type": "execute_result"
    }
   ],
   "source": [
    "X"
   ]
  },
  {
   "cell_type": "code",
   "execution_count": 71,
   "metadata": {},
   "outputs": [],
   "source": [
    "from sklearn.random_projection import SparseRandomProjection\n",
    "from tqdm import tqdm"
   ]
  },
  {
   "cell_type": "code",
   "execution_count": 72,
   "metadata": {},
   "outputs": [
    {
     "name": "stderr",
     "output_type": "stream",
     "text": [
      "100%|██████████| 100000/100000 [20:11<00:00, 82.53it/s]\n"
     ]
    }
   ],
   "source": [
    "scores = []"
   ]
  },
  {
   "cell_type": "code",
   "execution_count": 77,
   "metadata": {},
   "outputs": [
    {
     "name": "stderr",
     "output_type": "stream",
     "text": [
      "100%|██████████| 600000/600000 [2:00:12<00:00, 83.19it/s]  \n"
     ]
    }
   ],
   "source": [
    "\n",
    "clf = SVC()\n",
    "best_projector = None\n",
    "best_score = 0\n",
    "for i in tqdm(range(100000*6)):\n",
    "    projector = SparseRandomProjection(n_components=2)\n",
    "    projection = projector.fit_transform(X)\n",
    "    \n",
    "    p_df = pd.DataFrame(projection)\n",
    "    p_df.columns = ['c1', 'c2']\n",
    "    p_df['profile'] = y.values\n",
    "    \n",
    "    clf.fit(projection, y)\n",
    "    score = clf.score(projection, y)\n",
    "    \n",
    "    if score > best_score:\n",
    "        best_score = score\n",
    "        best_projector = projector\n",
    "    scores.append(score)"
   ]
  },
  {
   "cell_type": "code",
   "execution_count": 79,
   "metadata": {},
   "outputs": [
    {
     "name": "stdout",
     "output_type": "stream",
     "text": [
      "0.8411764705882353\n"
     ]
    }
   ],
   "source": [
    "print(best_score)"
   ]
  },
  {
   "cell_type": "code",
   "execution_count": 80,
   "metadata": {},
   "outputs": [
    {
     "data": {
      "text/plain": [
       "<AxesSubplot:ylabel='Count'>"
      ]
     },
     "execution_count": 80,
     "metadata": {},
     "output_type": "execute_result"
    },
    {
     "data": {
      "image/png": "[encoded data removed]",
      "text/plain": [
       "<Figure size 432x288 with 1 Axes>"
      ]
     },
     "metadata": {
      "needs_background": "light"
     },
     "output_type": "display_data"
    }
   ],
   "source": [
    "sns.histplot(scores)"
   ]
  },
  {
   "cell_type": "code",
   "execution_count": 81,
   "metadata": {},
   "outputs": [],
   "source": [
    "projection = best_projector.transform(X)\n",
    "    \n",
    "p_df = pd.DataFrame(projection)\n",
    "p_df.columns = ['c1', 'c2']\n",
    "p_df['profile'] = y.values"
   ]
  },
  {
   "cell_type": "code",
   "execution_count": 83,
   "metadata": {},
   "outputs": [],
   "source": [
    "def plot_decission_surface(f1, f2, y, degree=2):\n",
    "    # fit logistic regression model\n",
    "    clf = SVC(class_weight='balanced', C=0.5)\n",
    "    # clf = RandomForestClassifier(max_depth=4)\n",
    "    # clf = DecisionTreeClassifier(max_depth=4)\n",
    "    clf.fit(np.stack([f1, f2]).transpose(), y)\n",
    "    \n",
    "    score = clf.score(np.stack([f1, f2]).transpose(), y)\n",
    "\n",
    "    # define meshgrid of points to evaluate decision boundary\n",
    "    x_min, x_max = f1.min() - 0.5, f1.max() + 0.5\n",
    "    y_min, y_max = f2.min() - 0.5, f2.max() + 0.5\n",
    "    h = 0.01  # step size in meshgrid\n",
    "    xx, yy = np.meshgrid(np.arange(x_min, x_max, h), np.arange(y_min, y_max, h))\n",
    "    Z = clf.predict(np.c_[xx.ravel(), yy.ravel()])\n",
    "    Z = Z.reshape(xx.shape).astype(int)\n",
    "\n",
    "    # plot decision boundary and scatterplot of data points\n",
    "    colors = sns.color_palette()\n",
    "    plt.contourf(xx, yy, Z, alpha=0.4, colors=colors, )  # fill decision areas with color\n",
    "    sns.scatterplot(x=f1, y=f2, hue=y)\n",
    "    plt.show()\n",
    "    \n",
    "    return score"
   ]
  },
  {
   "cell_type": "code",
   "execution_count": 84,
   "metadata": {},
   "outputs": [
    {
     "data": {
      "image/png": "[encoded data removed]",
      "text/plain": [
       "<Figure size 432x288 with 1 Axes>"
      ]
     },
     "metadata": {
      "needs_background": "light"
     },
     "output_type": "display_data"
    },
    {
     "data": {
      "text/plain": [
       "0.8588235294117647"
      ]
     },
     "execution_count": 84,
     "metadata": {},
     "output_type": "execute_result"
    }
   ],
   "source": [
    "plot_decission_surface(p_df['c1'], p_df['c2'], y, degree=2)"
   ]
  },
  {
   "cell_type": "code",
   "execution_count": 82,
   "metadata": {},
   "outputs": [
    {
     "data": {
      "text/plain": [
       "<AxesSubplot:xlabel='c1', ylabel='c2'>"
      ]
     },
     "execution_count": 82,
     "metadata": {},
     "output_type": "execute_result"
    },
    {
     "data": {
      "image/png": "[encoded data removed]",
      "text/plain": [
       "<Figure size 432x288 with 1 Axes>"
      ]
     },
     "metadata": {
      "needs_background": "light"
     },
     "output_type": "display_data"
    }
   ],
   "source": [
    "sns.scatterplot(data=p_df, x='c1', y='c2', hue='profile')"
   ]
  },
  {
   "cell_type": "code",
   "execution_count": null,
   "metadata": {},
   "outputs": [],
   "source": []
  },
  {
   "cell_type": "code",
   "execution_count": 147,
   "metadata": {},
   "outputs": [
    {
     "data": {
      "text/plain": [
       "<2x84 sparse matrix of type '<class 'numpy.float64'>'\n",
       "\twith 21 stored elements in Compressed Sparse Row format>"
      ]
     },
     "execution_count": 147,
     "metadata": {},
     "output_type": "execute_result"
    }
   ],
   "source": [
    "best_projector.components_"
   ]
  }
 ],
 "metadata": {
  "kernelspec": {
   "display_name": "bias",
   "language": "python",
   "name": "python3"
  },
  "language_info": {
   "codemirror_mode": {
    "name": "ipython",
    "version": 3
   },
   "file_extension": ".py",
   "mimetype": "text/x-python",
   "name": "python",
   "nbconvert_exporter": "python",
   "pygments_lexer": "ipython3",
   "version": "3.6.8"
  },
  "orig_nbformat": 4,
  "vscode": {
   "interpreter": {
    "hash": "fa858e34013395d7bbaae220a5bc747fac852cf9b3b55a04137671241d6eb0c8"
   }
  }
 },
 "nbformat": 4,
 "nbformat_minor": 2
}
