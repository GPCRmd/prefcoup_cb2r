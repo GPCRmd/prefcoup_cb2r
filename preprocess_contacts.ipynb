{
 "cells": [
  {
   "cell_type": "code",
   "execution_count": 6,
   "metadata": {},
   "outputs": [],
   "source": [
    "import os\n",
    "from glob import glob\n",
    "import sys\n",
    "import pandas as pd\n",
    "import MDAnalysis as mda\n",
    "import warnings\n",
    "import re\n",
    "from tqdm import tqdm\n",
    "from multiprocessing import Pool\n",
    "import gc\n",
    "\n",
    "os.chdir(\"/home/adri/Projects/phd/pipeline\")\n",
    "\n",
    "sys.path.append(\"src\")\n",
    "from utils import identify_ligands"
   ]
  },
  {
   "cell_type": "code",
   "execution_count": 7,
   "metadata": {},
   "outputs": [],
   "source": [
    "# create processed contacts folder\n",
    "os.makedirs('data/interim/processed_contacts', exist_ok=True)\n",
    "# for file in contacts folder\n",
    "def process_contacts(contacts_file):\n",
    "    # extract system and replica from file name\n",
    "    system = contacts_file.split(\"/\")[-2]\n",
    "    replica = contacts_file.split(\"/\")[-1].split(\".\")[0]\n",
    "    # get the ligand resid or chain id\n",
    "    system_raw_path = f\"data/raw/simulations/{system}\"\n",
    "    top_list = glob(f\"{system_raw_path}/*.psf\") + glob(f\"{system_raw_path}/*.top\") + glob(f\"{system_raw_path}/*.pdb\")\n",
    "    assert top_list, f\"No topology file found for {system}\"\n",
    "    top = top_list[0]\n",
    "    with warnings.catch_warnings():\n",
    "        warnings.simplefilter(\"ignore\", category=UserWarning)\n",
    "        u = mda.Universe(top)\n",
    "        ligands = identify_ligands(u)\n",
    "        del u\n",
    "    # check that there is only one ligand\n",
    "    assert len(ligands) == 1, f\"More than one (or none) ligands found in {system}\"\n",
    "    ligand = list(ligands)[0]\n",
    "\n",
    "    if \"SEG\" in ligand:\n",
    "        # if ligand is peptide replace <CHAIN>:<RESNAME> with <CHAIN>:LIG\n",
    "        chain = ligand.split(\":\")[1][0]\n",
    "        string_to_replace = fr\"{chain}:[A-Z]{{3}}:[0-9]+\"\n",
    "        replacement_string = fr\"{chain}:LIG:1\"\n",
    "    else:\n",
    "        # if ligand is small molecule replace resname with LIG\n",
    "        string_to_replace = f\"{ligand}:[0-9]+\"\n",
    "        replacement_string = \"LIG:1\"\n",
    "\n",
    "    output_folder = f\"data/interim/processed_contacts/{system}\"\n",
    "    os.makedirs(output_folder, exist_ok=True)\n",
    "    output_path = f\"{output_folder}/{replica}.tsv\"\n",
    "    # read contacts file\n",
    "    with open(contacts_file, \"r\") as contact_file:\n",
    "        with open(output_path, 'w') as output_file:\n",
    "            # read file\n",
    "            for og_line in contact_file:\n",
    "                # replace ligand name\n",
    "                line = re.sub(string_to_replace, replacement_string, og_line)\n",
    "                # write line to output file\n",
    "                output_file.write(line)\n",
    "        \n",
    "    gc.collect()\n",
    "\n"
   ]
  },
  {
   "cell_type": "code",
   "execution_count": 8,
   "metadata": {},
   "outputs": [],
   "source": [
    "with Pool(15) as p:\n",
    "    p.map(process_contacts, glob(\"data/interim/contacts/*/*.tsv\"))"
   ]
  },
  {
   "cell_type": "code",
   "execution_count": null,
   "metadata": {},
   "outputs": [],
   "source": []
  }
 ],
 "metadata": {
  "kernelspec": {
   "display_name": "Python 3 (ipykernel)",
   "language": "python",
   "name": "python3"
  },
  "language_info": {
   "codemirror_mode": {
    "name": "ipython",
    "version": 3
   },
   "file_extension": ".py",
   "mimetype": "text/x-python",
   "name": "python",
   "nbconvert_exporter": "python",
   "pygments_lexer": "ipython3",
   "version": "3.7.16"
  }
 },
 "nbformat": 4,
 "nbformat_minor": 2
}
