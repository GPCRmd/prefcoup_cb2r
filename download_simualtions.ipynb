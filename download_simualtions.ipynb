{
 "cells": [
  {
   "cell_type": "code",
   "execution_count": 1,
   "metadata": {},
   "outputs": [],
   "source": [
    "# Standard library imports\n",
    "import json\n",
    "import os\n",
    "import time\n",
    "\n",
    "# Third-party imports\n",
    "from bs4 import BeautifulSoup\n",
    "from concurrent.futures import ThreadPoolExecutor\n",
    "import MDAnalysis as mda\n",
    "import requests\n",
    "from tqdm.notebook import tqdm"
   ]
  },
  {
   "cell_type": "code",
   "execution_count": 2,
   "metadata": {},
   "outputs": [],
   "source": [
    "os.chdir(\"/home/adri/Projects/phd/pipeline\")"
   ]
  },
  {
   "cell_type": "code",
   "execution_count": 3,
   "metadata": {},
   "outputs": [],
   "source": [
    "class_a_path = \"data/raw/class_a.json\"\n",
    "ligand_type_path = \"data/raw/lig_type.json\""
   ]
  },
  {
   "cell_type": "code",
   "execution_count": 4,
   "metadata": {},
   "outputs": [],
   "source": [
    "# load jsons\n",
    "with open(class_a_path) as f:\n",
    "    class_a = json.load(f)\n",
    "\n",
    "with open(ligand_type_path) as f:\n",
    "    ligand_type = json.load(f)\n"
   ]
  },
  {
   "cell_type": "code",
   "execution_count": 5,
   "metadata": {},
   "outputs": [
    {
     "data": {
      "text/plain": [
       "305"
      ]
     },
     "execution_count": 5,
     "metadata": {},
     "output_type": "execute_result"
    }
   ],
   "source": [
    "complex_dynids = ligand_type[1]['dyn_id']\n",
    "class_a_dyn_ids = class_a[0][\"dyn_id\"]\n",
    "# Check overlapping between the two lists\n",
    "overlapping = [dyn_id for dyn_id in complex_dynids if dyn_id in class_a_dyn_ids]\n",
    "len(overlapping)"
   ]
  },
  {
   "cell_type": "code",
   "execution_count": 7,
   "metadata": {},
   "outputs": [],
   "source": [
    "# def get_simulation_files(simulation_id, session):\n",
    "#     url = f\"{base_url}{simulation_id}\"\n",
    "#     print(f'fetching {url}')\n",
    "#     # Using the provided session to make a request\n",
    "#     r = session.get(url)\n",
    "    \n",
    "#     # Use 'lxml' for faster parsing\n",
    "#     soup = BeautifulSoup(r.text, 'html.parser')\n",
    "    \n",
    "#     allfiles = soup.find(id=\"allfiles\")\n",
    "#     if not allfiles:\n",
    "#         return []\n",
    "    \n",
    "#     links = allfiles.find_all(\"a\")\n",
    "#     hrefs = [link.get(\"href\") for link in links]\n",
    "#     return hrefs\n",
    "\n",
    "# base_url = \"https://www.gpcrmd.org/dynadb/dynamics/id/\"\n",
    "# urls = []\n",
    "# filenames = []\n",
    "\n",
    "# # Using requests.Session for better performance\n",
    "# with requests.Session() as session:\n",
    "#     with ThreadPoolExecutor(max_workers=15) as executor:\n",
    "#         # Partial function application to pass the session object\n",
    "#         from functools import partial\n",
    "#         fetch_func = partial(get_simulation_files, session=session)\n",
    "        \n",
    "#         # Execute the partial function with the executor\n",
    "#         results = list(tqdm(executor.map(fetch_func, overlapping), total=len(overlapping)))\n",
    "\n",
    "#     for i, hrefs in zip(overlapping, results):\n",
    "#         dest_folder = f\"data/raw/simulations/{i}\"\n",
    "#         for href in hrefs:\n",
    "#             file_name = href.split(\"/\")[-1]\n",
    "#             output_path = f\"{dest_folder}/{file_name}\"\n",
    "#             urls.append(href)\n",
    "#             filenames.append(output_path)"
   ]
  },
  {
   "cell_type": "code",
   "execution_count": 8,
   "metadata": {},
   "outputs": [],
   "source": [
    "# # save the urlfs and filenames list\n",
    "# with open(\"data/raw/urls.json\", \"w\") as f:\n",
    "#     json.dump(urls, f)\n",
    "\n",
    "# with open(\"data/raw/filenames.json\", \"w\") as f:\n",
    "#     json.dump(filenames, f)"
   ]
  },
  {
   "cell_type": "code",
   "execution_count": 6,
   "metadata": {},
   "outputs": [],
   "source": [
    "# load urls and filenames\n",
    "with open(\"data/raw/urls.json\") as f:\n",
    "    urls = json.load(f)\n",
    "\n",
    "with open(\"data/raw/filenames.json\") as f:\n",
    "    filenames = json.load(f)"
   ]
  },
  {
   "cell_type": "code",
   "execution_count": 7,
   "metadata": {},
   "outputs": [],
   "source": [
    "from tqdm import tqdm"
   ]
  },
  {
   "cell_type": "code",
   "execution_count": 8,
   "metadata": {},
   "outputs": [],
   "source": [
    "non_corrupted_files = []\n",
    "deleted_files_counter = 0\n",
    "three_tries = {}"
   ]
  },
  {
   "cell_type": "code",
   "execution_count": null,
   "metadata": {},
   "outputs": [],
   "source": [
    "from concurrent.futures import ThreadPoolExecutor, as_completed\n",
    "import hashlib\n",
    "\n",
    "def is_file_corrupted(file_path, expected_hash=None):\n",
    "    \"\"\"Check if a file is corrupted based on its hash.\"\"\"\n",
    "    if expected_hash:\n",
    "        return hashlib.md5(open(file_path, 'rb').read()).hexdigest() != expected_hash\n",
    "    else:\n",
    "        # Default way: try opening with MDAnalysis\n",
    "        try:\n",
    "            u = mda.Universe(file_path)\n",
    "            return False\n",
    "        except Exception as e:\n",
    "            print(f\"Error: {e}\")\n",
    "            return True\n",
    "\n",
    "def download_file(url, filename):\n",
    "    \"\"\"Download a file and optionally check its hash.\"\"\"\n",
    "    if os.path.exists(filename):\n",
    "        # print(f\"File {filename} already exists\")\n",
    "        return\n",
    "    print(f\"Downloading {filename}\")\n",
    "    r = requests.get(\"https://www.gpcrmd.org/\" + url, stream=True)\n",
    "    # create the directory if it does not exist\n",
    "    os.makedirs(os.path.dirname(filename), exist_ok=True)\n",
    "    with open(filename, 'wb') as f:\n",
    "        for chunk in r.iter_content(chunk_size=8192):\n",
    "            f.write(chunk)\n",
    "    # print(f\"Download finished {filename}\")\n",
    "\n",
    "while True:\n",
    "\n",
    "    print(\"Starting download iteration\")\n",
    "\n",
    "    print(\"Checking for corrupted files\")\n",
    "\n",
    "    list_of_files = os.listdir(\"data/raw/simulations\")\n",
    "    for system_folder in tqdm(list_of_files):\n",
    "        files = os.listdir(f\"data/raw/simulations/{system_folder}\")\n",
    "\n",
    "        # Filtering files based on extensions\n",
    "        traj_files = [f for f in files if f.endswith(('.xtc', '.dcd'))]\n",
    "        topologies = [f for f in files if f.endswith(('.psf', '.top', '.pdb'))]\n",
    "\n",
    "        for file in traj_files + topologies:\n",
    "            file_path = f\"data/raw/simulations/{system_folder}/{file}\"\n",
    "            if file_path in non_corrupted_files or three_tries.get(file_path, 0) >= 3:\n",
    "                continue\n",
    "            if is_file_corrupted(file_path):\n",
    "                print(f\"File {file_path} is corrupted\")\n",
    "                os.remove(file_path)\n",
    "                if file_path not in three_tries:\n",
    "                    three_tries[file_path] = 1\n",
    "                else:\n",
    "                    three_tries[file_path] += 1\n",
    "\n",
    "                deleted_files_counter += 1\n",
    "            else:\n",
    "                non_corrupted_files.append(file_path)\n",
    "\n",
    "    print(f\"Deleted {deleted_files_counter} corrupted files\")\n",
    "\n",
    "    #check if all files either are downloaded or have +3 tries\n",
    "    files_with_tries = [k for k, v in three_tries.items() if v >= 3]\n",
    "    if len(non_corrupted_files) + len(files_with_tries) == len(filenames):\n",
    "        break\n",
    "    \n",
    "    files_to_download = []\n",
    "    urls_to_download = []\n",
    "    for url, filename in zip(urls, filenames):\n",
    "        if os.path.exists(filename):\n",
    "            continue\n",
    "        files_to_download.append(filename)\n",
    "        urls_to_download.append(url)\n",
    "\n",
    "    print(f\"Downloading {len(files_to_download)} files\")\n",
    "\n",
    "    # Downloading corrupted files again\n",
    "    with ThreadPoolExecutor(max_workers=10) as executor:\n",
    "        executor.map(download_file, urls_to_download, files_to_download)"
   ]
  },
  {
   "cell_type": "code",
   "execution_count": 9,
   "metadata": {},
   "outputs": [
    {
     "name": "stdout",
     "output_type": "stream",
     "text": [
      "247 250 98.8\n"
     ]
    }
   ],
   "source": [
    "# Count the number of systems with at least a topology file and a trajectory file\n",
    "systems = 0\n",
    "all_systems = os.listdir(\"data/raw/simulations\")\n",
    "for system_folder in all_systems:\n",
    "    files = os.listdir(f\"data/raw/simulations/{system_folder}\")\n",
    "\n",
    "    # Filtering files based on extensions\n",
    "    traj_files = [f for f in files if f.endswith(('.xtc', '.dcd'))]\n",
    "    topologies = [f for f in files if f.endswith(('.psf', '.top', '.pdb'))]\n",
    "\n",
    "    if len(traj_files) > 0 and len(topologies) > 0:\n",
    "        systems += 1\n",
    "print(systems , len(all_systems), systems/len(all_systems)*100)"
   ]
  },
  {
   "cell_type": "code",
   "execution_count": 10,
   "metadata": {},
   "outputs": [
    {
     "data": {
      "text/plain": [
       "1215"
      ]
     },
     "execution_count": 10,
     "metadata": {},
     "output_type": "execute_result"
    }
   ],
   "source": [
    "len(urls)"
   ]
  },
  {
   "cell_type": "code",
   "execution_count": 12,
   "metadata": {},
   "outputs": [],
   "source": [
    "def download_file(url, filename):\n",
    "    # if file already exists\n",
    "    if os.path.exists(filename):\n",
    "\n",
    "        print(f\"File {filename} already exists\")\n",
    "        return\n",
    "    r = requests.get(\"https://www.gpcrmd.org/\" + url, stream=True)\n",
    "    with open(filename, 'wb') as f:\n",
    "        for chunk in r.iter_content(chunk_size=8192):\n",
    "            f.write(chunk)\n",
    "    print(f\"Downloaded {filename}\")"
   ]
  },
  {
   "cell_type": "code",
   "execution_count": 13,
   "metadata": {},
   "outputs": [],
   "source": [
    "non_corrupted_files = []\n"
   ]
  },
  {
   "cell_type": "code",
   "execution_count": null,
   "metadata": {},
   "outputs": [],
   "source": [
    "tries_dict = {}\n",
    "while True:\n",
    "    deleted_files_counter = 0\n",
    "    # delete corruped files: \n",
    "    for system_folder in tqdm(os.listdir(\"data/raw/simulations\")):\n",
    "\n",
    "        # get the list of xtc or dcd files in the folder\n",
    "        xtc_files = [file for file in os.listdir(f\"data/raw/simulations/{system_folder}\") if file.endswith(\".xtc\")]\n",
    "        dcd_files = [file for file in os.listdir(f\"data/raw/simulations/{system_folder}\") if file.endswith(\".dcd\")]\n",
    "\n",
    "        # get the list of files with extension .psf, .top or .pdb\n",
    "        psf_files = [file for file in os.listdir(f\"data/raw/simulations/{system_folder}\") if file.endswith(\".psf\")]\n",
    "        top_files = [file for file in os.listdir(f\"data/raw/simulations/{system_folder}\") if file.endswith(\".top\")]\n",
    "        pdb_files = [file for file in os.listdir(f\"data/raw/simulations/{system_folder}\") if file.endswith(\".pdb\")]\n",
    "        tolopologies = psf_files + top_files + pdb_files\n",
    "        topology = tolopologies[0]\n",
    "\n",
    "        for traj in xtc_files + dcd_files:\n",
    "            \n",
    "            traj_path = f\"data/raw/simulations/{system_folder}/{traj}\"\n",
    "            topology_path = f\"data/raw/simulations/{system_folder}/{topology}\"\n",
    "\n",
    "            if traj_path in non_corrupted_files:\n",
    "                continue\n",
    "\n",
    "            # check if the file is corrupted\n",
    "            try:\n",
    "                u = mda.Universe(topology_path, traj_path)\n",
    "            except EOFError:\n",
    "                print(f\"File {traj_path} is corrupted\")\n",
    "                os.remove(traj_path)\n",
    "                deleted_files_counter += 1\n",
    "                tries_dict[traj_path] = tries_dict.get(traj_path, 0) + 1\n",
    "                continue\n",
    "            except ValueError as e:\n",
    "                print(e)\n",
    "                continue\n",
    "            except OSError as e:\n",
    "                print(e)\n",
    "                continue\n",
    "            print(\"file is not corrupted\")\n",
    "            del tries_dict[traj_path]\n",
    "            non_corrupted_files.append(traj_path)\n",
    "\n",
    "    print(f\"Deleted {deleted_files_counter} corrupted files\")\n",
    "    # bool variable to check if all files have been tried 3 times\n",
    "    all_files_tried = True\n",
    "    for file, tries in tries_dict.items():\n",
    "        if tries < 3:\n",
    "            all_files_tried = False\n",
    "            break\n",
    "    if deleted_files_counter == 0 and all_files_tried and tries_dict:\n",
    "        break\n",
    "\n",
    "    with ThreadPoolExecutor(max_workers=10) as executor:\n",
    "        executor.map(download_file, urls, filenames)\n",
    "\n",
    "    "
   ]
  },
  {
   "cell_type": "code",
   "execution_count": null,
   "metadata": {},
   "outputs": [],
   "source": [
    "    dest_folder = f\"data/raw/lig_type/{i}\"\n",
    "\n",
    "    os.makedirs(dest_folder, exist_ok=True)\n",
    "\n",
    "    for href in hrefs:\n",
    "        # get the file name\n",
    "        file_name = href.split(\"/\")[-1]\n",
    "        print(file_name)\n",
    "\n",
    "        # download the file\n",
    "        r = requests.get(\"https://www.gpcrmd.org/\"+href)\n",
    "\n",
    "        # save the file\n",
    "        with open(f\"{dest_folder}/{file_name}\", \"wb\") as f:\n",
    "            f.write(r.content)"
   ]
  },
  {
   "cell_type": "code",
   "execution_count": null,
   "metadata": {},
   "outputs": [],
   "source": [
    "list(range(0, len(complex_dynids), 5))"
   ]
  },
  {
   "cell_type": "code",
   "execution_count": 14,
   "metadata": {},
   "outputs": [
    {
     "data": {
      "text/plain": [
       "'https://www.gpcrmd.org/api/downloader_all/9,10,15,16,19'"
      ]
     },
     "execution_count": 14,
     "metadata": {},
     "output_type": "execute_result"
    }
   ],
   "source": [
    "api_call + dyn_ids"
   ]
  },
  {
   "cell_type": "code",
   "execution_count": null,
   "metadata": {},
   "outputs": [],
   "source": [
    "https://www.gpcrmd.org/dynadb/tmp/GPCRmd_downloads/download_all_14.zip"
   ]
  }
 ],
 "metadata": {
  "kernelspec": {
   "display_name": "bias",
   "language": "python",
   "name": "python3"
  },
  "language_info": {
   "codemirror_mode": {
    "name": "ipython",
    "version": 3
   },
   "file_extension": ".py",
   "mimetype": "text/x-python",
   "name": "python",
   "nbconvert_exporter": "python",
   "pygments_lexer": "ipython3",
   "version": "3.10.12"
  }
 },
 "nbformat": 4,
 "nbformat_minor": 2
}
